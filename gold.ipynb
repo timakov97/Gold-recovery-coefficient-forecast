{
 "cells": [
  {
   "cell_type": "markdown",
   "metadata": {},
   "source": [
    "# Предсказание коэффициента восстановления золота из золотосодержащей руды"
   ]
  },
  {
   "cell_type": "markdown",
   "metadata": {},
   "source": [
    "### Содержание работы\n",
    "\n",
    "**[Введение](#0)**\n",
    "\n",
    "**[1. Подготовка данных](#1)** \n",
    "   \n",
    "**[2. Анализ данных](#2)**\n",
    "     \n",
    "**[3. Построение модели](#3)** \n",
    "\n",
    "**[Заключение](#4)**"
   ]
  },
  {
   "cell_type": "markdown",
   "metadata": {},
   "source": [
    "## Описание проекта <a id=\"0\"></a>\n",
    "\n",
    "Необходимо подготовить прототип модели машинного обучения для «Цифры». Компания разрабатывает решения для эффективной работы промышленных предприятий.\n",
    "\n",
    "Модель должна предсказать коэффициент восстановления золота из золотосодержащей руды. В вашем распоряжении данные с параметрами добычи и очистки. \n",
    "\n",
    "Модель поможет оптимизировать производство, чтобы не запускать предприятие с убыточными характеристиками.\n",
    "\n",
    "Необходимо:\n",
    "\n",
    "1. Подготовить данные;\n",
    "2. Провести исследовательский анализ данных;\n",
    "3. Построить и обучить модель."
   ]
  },
  {
   "cell_type": "markdown",
   "metadata": {},
   "source": [
    "## 1. Подготовка данных <a id=\"1\"></a>"
   ]
  },
  {
   "cell_type": "code",
   "execution_count": 1,
   "metadata": {},
   "outputs": [],
   "source": [
    "import pandas as pd\n",
    "import numpy as np\n",
    "from IPython.display import display\n",
    "\n",
    "from sklearn.linear_model import LinearRegression \n",
    "from sklearn.ensemble import RandomForestRegressor\n",
    "from sklearn.model_selection import train_test_split, cross_val_score\n",
    "from sklearn.preprocessing import StandardScaler\n",
    "from sklearn.metrics import mean_squared_error, r2_score, mean_absolute_error\n",
    "\n",
    "import statsmodels.api as sm\n",
    "import scipy.stats as stats\n",
    "import matplotlib.pyplot as plt\n",
    "import seaborn as sns\n",
    "\n",
    "from pandas.core.common import SettingWithCopyWarning\n",
    "from tqdm import tqdm"
   ]
  },
  {
   "cell_type": "markdown",
   "metadata": {},
   "source": [
    "Откроем данные обучающей, тестовой и полной выборки и сохраним в соответствующих переменных:"
   ]
  },
  {
   "cell_type": "code",
   "execution_count": 2,
   "metadata": {},
   "outputs": [],
   "source": [
    "gold_train = pd.read_csv('/datasets/gold_recovery_train.csv')\n",
    "gold_test = pd.read_csv('/datasets/gold_recovery_test.csv')\n",
    "gold_full = pd.read_csv('/datasets/gold_recovery_full.csv')"
   ]
  },
  {
   "cell_type": "markdown",
   "metadata": {},
   "source": [
    "Изучим общую информацию о каждой выборке:"
   ]
  },
  {
   "cell_type": "code",
   "execution_count": 3,
   "metadata": {},
   "outputs": [
    {
     "name": "stdout",
     "output_type": "stream",
     "text": [
      "<class 'pandas.core.frame.DataFrame'>\n",
      "RangeIndex: 16860 entries, 0 to 16859\n",
      "Data columns (total 87 columns):\n",
      "date                                                  16860 non-null object\n",
      "final.output.concentrate_ag                           16788 non-null float64\n",
      "final.output.concentrate_pb                           16788 non-null float64\n",
      "final.output.concentrate_sol                          16490 non-null float64\n",
      "final.output.concentrate_au                           16789 non-null float64\n",
      "final.output.recovery                                 15339 non-null float64\n",
      "final.output.tail_ag                                  16794 non-null float64\n",
      "final.output.tail_pb                                  16677 non-null float64\n",
      "final.output.tail_sol                                 16715 non-null float64\n",
      "final.output.tail_au                                  16794 non-null float64\n",
      "primary_cleaner.input.sulfate                         15553 non-null float64\n",
      "primary_cleaner.input.depressant                      15598 non-null float64\n",
      "primary_cleaner.input.feed_size                       16860 non-null float64\n",
      "primary_cleaner.input.xanthate                        15875 non-null float64\n",
      "primary_cleaner.output.concentrate_ag                 16778 non-null float64\n",
      "primary_cleaner.output.concentrate_pb                 16502 non-null float64\n",
      "primary_cleaner.output.concentrate_sol                16224 non-null float64\n",
      "primary_cleaner.output.concentrate_au                 16778 non-null float64\n",
      "primary_cleaner.output.tail_ag                        16777 non-null float64\n",
      "primary_cleaner.output.tail_pb                        16761 non-null float64\n",
      "primary_cleaner.output.tail_sol                       16579 non-null float64\n",
      "primary_cleaner.output.tail_au                        16777 non-null float64\n",
      "primary_cleaner.state.floatbank8_a_air                16820 non-null float64\n",
      "primary_cleaner.state.floatbank8_a_level              16827 non-null float64\n",
      "primary_cleaner.state.floatbank8_b_air                16820 non-null float64\n",
      "primary_cleaner.state.floatbank8_b_level              16833 non-null float64\n",
      "primary_cleaner.state.floatbank8_c_air                16822 non-null float64\n",
      "primary_cleaner.state.floatbank8_c_level              16833 non-null float64\n",
      "primary_cleaner.state.floatbank8_d_air                16821 non-null float64\n",
      "primary_cleaner.state.floatbank8_d_level              16833 non-null float64\n",
      "rougher.calculation.sulfate_to_au_concentrate         16833 non-null float64\n",
      "rougher.calculation.floatbank10_sulfate_to_au_feed    16833 non-null float64\n",
      "rougher.calculation.floatbank11_sulfate_to_au_feed    16833 non-null float64\n",
      "rougher.calculation.au_pb_ratio                       15618 non-null float64\n",
      "rougher.input.feed_ag                                 16778 non-null float64\n",
      "rougher.input.feed_pb                                 16632 non-null float64\n",
      "rougher.input.feed_rate                               16347 non-null float64\n",
      "rougher.input.feed_size                               16443 non-null float64\n",
      "rougher.input.feed_sol                                16568 non-null float64\n",
      "rougher.input.feed_au                                 16777 non-null float64\n",
      "rougher.input.floatbank10_sulfate                     15816 non-null float64\n",
      "rougher.input.floatbank10_xanthate                    16514 non-null float64\n",
      "rougher.input.floatbank11_sulfate                     16237 non-null float64\n",
      "rougher.input.floatbank11_xanthate                    14956 non-null float64\n",
      "rougher.output.concentrate_ag                         16778 non-null float64\n",
      "rougher.output.concentrate_pb                         16778 non-null float64\n",
      "rougher.output.concentrate_sol                        16698 non-null float64\n",
      "rougher.output.concentrate_au                         16778 non-null float64\n",
      "rougher.output.recovery                               14287 non-null float64\n",
      "rougher.output.tail_ag                                14610 non-null float64\n",
      "rougher.output.tail_pb                                16778 non-null float64\n",
      "rougher.output.tail_sol                               14611 non-null float64\n",
      "rougher.output.tail_au                                14611 non-null float64\n",
      "rougher.state.floatbank10_a_air                       16807 non-null float64\n",
      "rougher.state.floatbank10_a_level                     16807 non-null float64\n",
      "rougher.state.floatbank10_b_air                       16807 non-null float64\n",
      "rougher.state.floatbank10_b_level                     16807 non-null float64\n",
      "rougher.state.floatbank10_c_air                       16807 non-null float64\n",
      "rougher.state.floatbank10_c_level                     16814 non-null float64\n",
      "rougher.state.floatbank10_d_air                       16802 non-null float64\n",
      "rougher.state.floatbank10_d_level                     16809 non-null float64\n",
      "rougher.state.floatbank10_e_air                       16257 non-null float64\n",
      "rougher.state.floatbank10_e_level                     16809 non-null float64\n",
      "rougher.state.floatbank10_f_air                       16802 non-null float64\n",
      "rougher.state.floatbank10_f_level                     16802 non-null float64\n",
      "secondary_cleaner.output.tail_ag                      16776 non-null float64\n",
      "secondary_cleaner.output.tail_pb                      16764 non-null float64\n",
      "secondary_cleaner.output.tail_sol                     14874 non-null float64\n",
      "secondary_cleaner.output.tail_au                      16778 non-null float64\n",
      "secondary_cleaner.state.floatbank2_a_air              16497 non-null float64\n",
      "secondary_cleaner.state.floatbank2_a_level            16751 non-null float64\n",
      "secondary_cleaner.state.floatbank2_b_air              16705 non-null float64\n",
      "secondary_cleaner.state.floatbank2_b_level            16748 non-null float64\n",
      "secondary_cleaner.state.floatbank3_a_air              16763 non-null float64\n",
      "secondary_cleaner.state.floatbank3_a_level            16747 non-null float64\n",
      "secondary_cleaner.state.floatbank3_b_air              16752 non-null float64\n",
      "secondary_cleaner.state.floatbank3_b_level            16750 non-null float64\n",
      "secondary_cleaner.state.floatbank4_a_air              16731 non-null float64\n",
      "secondary_cleaner.state.floatbank4_a_level            16747 non-null float64\n",
      "secondary_cleaner.state.floatbank4_b_air              16768 non-null float64\n",
      "secondary_cleaner.state.floatbank4_b_level            16767 non-null float64\n",
      "secondary_cleaner.state.floatbank5_a_air              16775 non-null float64\n",
      "secondary_cleaner.state.floatbank5_a_level            16775 non-null float64\n",
      "secondary_cleaner.state.floatbank5_b_air              16775 non-null float64\n",
      "secondary_cleaner.state.floatbank5_b_level            16776 non-null float64\n",
      "secondary_cleaner.state.floatbank6_a_air              16757 non-null float64\n",
      "secondary_cleaner.state.floatbank6_a_level            16775 non-null float64\n",
      "dtypes: float64(86), object(1)\n",
      "memory usage: 11.2+ MB\n"
     ]
    }
   ],
   "source": [
    "gold_train.info()"
   ]
  },
  {
   "cell_type": "code",
   "execution_count": 4,
   "metadata": {},
   "outputs": [
    {
     "name": "stdout",
     "output_type": "stream",
     "text": [
      "<class 'pandas.core.frame.DataFrame'>\n",
      "RangeIndex: 5856 entries, 0 to 5855\n",
      "Data columns (total 53 columns):\n",
      "date                                          5856 non-null object\n",
      "primary_cleaner.input.sulfate                 5554 non-null float64\n",
      "primary_cleaner.input.depressant              5572 non-null float64\n",
      "primary_cleaner.input.feed_size               5856 non-null float64\n",
      "primary_cleaner.input.xanthate                5690 non-null float64\n",
      "primary_cleaner.state.floatbank8_a_air        5840 non-null float64\n",
      "primary_cleaner.state.floatbank8_a_level      5840 non-null float64\n",
      "primary_cleaner.state.floatbank8_b_air        5840 non-null float64\n",
      "primary_cleaner.state.floatbank8_b_level      5840 non-null float64\n",
      "primary_cleaner.state.floatbank8_c_air        5840 non-null float64\n",
      "primary_cleaner.state.floatbank8_c_level      5840 non-null float64\n",
      "primary_cleaner.state.floatbank8_d_air        5840 non-null float64\n",
      "primary_cleaner.state.floatbank8_d_level      5840 non-null float64\n",
      "rougher.input.feed_ag                         5840 non-null float64\n",
      "rougher.input.feed_pb                         5840 non-null float64\n",
      "rougher.input.feed_rate                       5816 non-null float64\n",
      "rougher.input.feed_size                       5834 non-null float64\n",
      "rougher.input.feed_sol                        5789 non-null float64\n",
      "rougher.input.feed_au                         5840 non-null float64\n",
      "rougher.input.floatbank10_sulfate             5599 non-null float64\n",
      "rougher.input.floatbank10_xanthate            5733 non-null float64\n",
      "rougher.input.floatbank11_sulfate             5801 non-null float64\n",
      "rougher.input.floatbank11_xanthate            5503 non-null float64\n",
      "rougher.state.floatbank10_a_air               5839 non-null float64\n",
      "rougher.state.floatbank10_a_level             5840 non-null float64\n",
      "rougher.state.floatbank10_b_air               5839 non-null float64\n",
      "rougher.state.floatbank10_b_level             5840 non-null float64\n",
      "rougher.state.floatbank10_c_air               5839 non-null float64\n",
      "rougher.state.floatbank10_c_level             5840 non-null float64\n",
      "rougher.state.floatbank10_d_air               5839 non-null float64\n",
      "rougher.state.floatbank10_d_level             5840 non-null float64\n",
      "rougher.state.floatbank10_e_air               5839 non-null float64\n",
      "rougher.state.floatbank10_e_level             5840 non-null float64\n",
      "rougher.state.floatbank10_f_air               5839 non-null float64\n",
      "rougher.state.floatbank10_f_level             5840 non-null float64\n",
      "secondary_cleaner.state.floatbank2_a_air      5836 non-null float64\n",
      "secondary_cleaner.state.floatbank2_a_level    5840 non-null float64\n",
      "secondary_cleaner.state.floatbank2_b_air      5833 non-null float64\n",
      "secondary_cleaner.state.floatbank2_b_level    5840 non-null float64\n",
      "secondary_cleaner.state.floatbank3_a_air      5822 non-null float64\n",
      "secondary_cleaner.state.floatbank3_a_level    5840 non-null float64\n",
      "secondary_cleaner.state.floatbank3_b_air      5840 non-null float64\n",
      "secondary_cleaner.state.floatbank3_b_level    5840 non-null float64\n",
      "secondary_cleaner.state.floatbank4_a_air      5840 non-null float64\n",
      "secondary_cleaner.state.floatbank4_a_level    5840 non-null float64\n",
      "secondary_cleaner.state.floatbank4_b_air      5840 non-null float64\n",
      "secondary_cleaner.state.floatbank4_b_level    5840 non-null float64\n",
      "secondary_cleaner.state.floatbank5_a_air      5840 non-null float64\n",
      "secondary_cleaner.state.floatbank5_a_level    5840 non-null float64\n",
      "secondary_cleaner.state.floatbank5_b_air      5840 non-null float64\n",
      "secondary_cleaner.state.floatbank5_b_level    5840 non-null float64\n",
      "secondary_cleaner.state.floatbank6_a_air      5840 non-null float64\n",
      "secondary_cleaner.state.floatbank6_a_level    5840 non-null float64\n",
      "dtypes: float64(52), object(1)\n",
      "memory usage: 2.4+ MB\n"
     ]
    }
   ],
   "source": [
    "gold_test.info()"
   ]
  },
  {
   "cell_type": "code",
   "execution_count": 5,
   "metadata": {},
   "outputs": [
    {
     "name": "stdout",
     "output_type": "stream",
     "text": [
      "<class 'pandas.core.frame.DataFrame'>\n",
      "RangeIndex: 22716 entries, 0 to 22715\n",
      "Data columns (total 87 columns):\n",
      "date                                                  22716 non-null object\n",
      "final.output.concentrate_ag                           22627 non-null float64\n",
      "final.output.concentrate_pb                           22629 non-null float64\n",
      "final.output.concentrate_sol                          22331 non-null float64\n",
      "final.output.concentrate_au                           22630 non-null float64\n",
      "final.output.recovery                                 20753 non-null float64\n",
      "final.output.tail_ag                                  22633 non-null float64\n",
      "final.output.tail_pb                                  22516 non-null float64\n",
      "final.output.tail_sol                                 22445 non-null float64\n",
      "final.output.tail_au                                  22635 non-null float64\n",
      "primary_cleaner.input.sulfate                         21107 non-null float64\n",
      "primary_cleaner.input.depressant                      21170 non-null float64\n",
      "primary_cleaner.input.feed_size                       22716 non-null float64\n",
      "primary_cleaner.input.xanthate                        21565 non-null float64\n",
      "primary_cleaner.output.concentrate_ag                 22618 non-null float64\n",
      "primary_cleaner.output.concentrate_pb                 22268 non-null float64\n",
      "primary_cleaner.output.concentrate_sol                21918 non-null float64\n",
      "primary_cleaner.output.concentrate_au                 22618 non-null float64\n",
      "primary_cleaner.output.tail_ag                        22614 non-null float64\n",
      "primary_cleaner.output.tail_pb                        22594 non-null float64\n",
      "primary_cleaner.output.tail_sol                       22365 non-null float64\n",
      "primary_cleaner.output.tail_au                        22617 non-null float64\n",
      "primary_cleaner.state.floatbank8_a_air                22660 non-null float64\n",
      "primary_cleaner.state.floatbank8_a_level              22667 non-null float64\n",
      "primary_cleaner.state.floatbank8_b_air                22660 non-null float64\n",
      "primary_cleaner.state.floatbank8_b_level              22673 non-null float64\n",
      "primary_cleaner.state.floatbank8_c_air                22662 non-null float64\n",
      "primary_cleaner.state.floatbank8_c_level              22673 non-null float64\n",
      "primary_cleaner.state.floatbank8_d_air                22661 non-null float64\n",
      "primary_cleaner.state.floatbank8_d_level              22673 non-null float64\n",
      "rougher.calculation.sulfate_to_au_concentrate         22672 non-null float64\n",
      "rougher.calculation.floatbank10_sulfate_to_au_feed    22672 non-null float64\n",
      "rougher.calculation.floatbank11_sulfate_to_au_feed    22672 non-null float64\n",
      "rougher.calculation.au_pb_ratio                       21089 non-null float64\n",
      "rougher.input.feed_ag                                 22618 non-null float64\n",
      "rougher.input.feed_pb                                 22472 non-null float64\n",
      "rougher.input.feed_rate                               22163 non-null float64\n",
      "rougher.input.feed_size                               22277 non-null float64\n",
      "rougher.input.feed_sol                                22357 non-null float64\n",
      "rougher.input.feed_au                                 22617 non-null float64\n",
      "rougher.input.floatbank10_sulfate                     21415 non-null float64\n",
      "rougher.input.floatbank10_xanthate                    22247 non-null float64\n",
      "rougher.input.floatbank11_sulfate                     22038 non-null float64\n",
      "rougher.input.floatbank11_xanthate                    20459 non-null float64\n",
      "rougher.output.concentrate_ag                         22618 non-null float64\n",
      "rougher.output.concentrate_pb                         22618 non-null float64\n",
      "rougher.output.concentrate_sol                        22526 non-null float64\n",
      "rougher.output.concentrate_au                         22618 non-null float64\n",
      "rougher.output.recovery                               19597 non-null float64\n",
      "rougher.output.tail_ag                                19979 non-null float64\n",
      "rougher.output.tail_pb                                22618 non-null float64\n",
      "rougher.output.tail_sol                               19980 non-null float64\n",
      "rougher.output.tail_au                                19980 non-null float64\n",
      "rougher.state.floatbank10_a_air                       22646 non-null float64\n",
      "rougher.state.floatbank10_a_level                     22647 non-null float64\n",
      "rougher.state.floatbank10_b_air                       22646 non-null float64\n",
      "rougher.state.floatbank10_b_level                     22647 non-null float64\n",
      "rougher.state.floatbank10_c_air                       22646 non-null float64\n",
      "rougher.state.floatbank10_c_level                     22654 non-null float64\n",
      "rougher.state.floatbank10_d_air                       22641 non-null float64\n",
      "rougher.state.floatbank10_d_level                     22649 non-null float64\n",
      "rougher.state.floatbank10_e_air                       22096 non-null float64\n",
      "rougher.state.floatbank10_e_level                     22649 non-null float64\n",
      "rougher.state.floatbank10_f_air                       22641 non-null float64\n",
      "rougher.state.floatbank10_f_level                     22642 non-null float64\n",
      "secondary_cleaner.output.tail_ag                      22616 non-null float64\n",
      "secondary_cleaner.output.tail_pb                      22600 non-null float64\n",
      "secondary_cleaner.output.tail_sol                     20501 non-null float64\n",
      "secondary_cleaner.output.tail_au                      22618 non-null float64\n",
      "secondary_cleaner.state.floatbank2_a_air              22333 non-null float64\n",
      "secondary_cleaner.state.floatbank2_a_level            22591 non-null float64\n",
      "secondary_cleaner.state.floatbank2_b_air              22538 non-null float64\n",
      "secondary_cleaner.state.floatbank2_b_level            22588 non-null float64\n",
      "secondary_cleaner.state.floatbank3_a_air              22585 non-null float64\n",
      "secondary_cleaner.state.floatbank3_a_level            22587 non-null float64\n",
      "secondary_cleaner.state.floatbank3_b_air              22592 non-null float64\n",
      "secondary_cleaner.state.floatbank3_b_level            22590 non-null float64\n",
      "secondary_cleaner.state.floatbank4_a_air              22571 non-null float64\n",
      "secondary_cleaner.state.floatbank4_a_level            22587 non-null float64\n",
      "secondary_cleaner.state.floatbank4_b_air              22608 non-null float64\n",
      "secondary_cleaner.state.floatbank4_b_level            22607 non-null float64\n",
      "secondary_cleaner.state.floatbank5_a_air              22615 non-null float64\n",
      "secondary_cleaner.state.floatbank5_a_level            22615 non-null float64\n",
      "secondary_cleaner.state.floatbank5_b_air              22615 non-null float64\n",
      "secondary_cleaner.state.floatbank5_b_level            22616 non-null float64\n",
      "secondary_cleaner.state.floatbank6_a_air              22597 non-null float64\n",
      "secondary_cleaner.state.floatbank6_a_level            22615 non-null float64\n",
      "dtypes: float64(86), object(1)\n",
      "memory usage: 15.1+ MB\n"
     ]
    }
   ],
   "source": [
    "gold_full.info()"
   ]
  },
  {
   "cell_type": "markdown",
   "metadata": {},
   "source": [
    "Во всех выборках имеются пропущенные значения, которые необходимо будет обработать.\n",
    "\n",
    "Число переменных в тестовой выборке `gold_test` меньше переменных в обучающей и полной выборках. В частности, в тестовой выборке отсутствуют переменные, характеризующие сырьё, прошедшее определённые этапы обработки, в том числе отсутствуют значения целевых переменных `rougher.output.recovery` и `final.output.recovery`.\n",
    "\n",
    "Полный список признаков, недоступных в тестовой выборке:"
   ]
  },
  {
   "cell_type": "code",
   "execution_count": 6,
   "metadata": {},
   "outputs": [
    {
     "data": {
      "text/plain": [
       "{'final.output.concentrate_ag',\n",
       " 'final.output.concentrate_au',\n",
       " 'final.output.concentrate_pb',\n",
       " 'final.output.concentrate_sol',\n",
       " 'final.output.recovery',\n",
       " 'final.output.tail_ag',\n",
       " 'final.output.tail_au',\n",
       " 'final.output.tail_pb',\n",
       " 'final.output.tail_sol',\n",
       " 'primary_cleaner.output.concentrate_ag',\n",
       " 'primary_cleaner.output.concentrate_au',\n",
       " 'primary_cleaner.output.concentrate_pb',\n",
       " 'primary_cleaner.output.concentrate_sol',\n",
       " 'primary_cleaner.output.tail_ag',\n",
       " 'primary_cleaner.output.tail_au',\n",
       " 'primary_cleaner.output.tail_pb',\n",
       " 'primary_cleaner.output.tail_sol',\n",
       " 'rougher.calculation.au_pb_ratio',\n",
       " 'rougher.calculation.floatbank10_sulfate_to_au_feed',\n",
       " 'rougher.calculation.floatbank11_sulfate_to_au_feed',\n",
       " 'rougher.calculation.sulfate_to_au_concentrate',\n",
       " 'rougher.output.concentrate_ag',\n",
       " 'rougher.output.concentrate_au',\n",
       " 'rougher.output.concentrate_pb',\n",
       " 'rougher.output.concentrate_sol',\n",
       " 'rougher.output.recovery',\n",
       " 'rougher.output.tail_ag',\n",
       " 'rougher.output.tail_au',\n",
       " 'rougher.output.tail_pb',\n",
       " 'rougher.output.tail_sol',\n",
       " 'secondary_cleaner.output.tail_ag',\n",
       " 'secondary_cleaner.output.tail_au',\n",
       " 'secondary_cleaner.output.tail_pb',\n",
       " 'secondary_cleaner.output.tail_sol'}"
      ]
     },
     "execution_count": 6,
     "metadata": {},
     "output_type": "execute_result"
    }
   ],
   "source": [
    "set(gold_train.columns.tolist()).difference(gold_test.columns)"
   ]
  },
  {
   "cell_type": "markdown",
   "metadata": {},
   "source": [
    "Восстановим значения целевых признаков для тестовой выборки из полного датасета:"
   ]
  },
  {
   "cell_type": "code",
   "execution_count": 7,
   "metadata": {},
   "outputs": [],
   "source": [
    "gold_test = gold_test.merge(gold_full[['date', 'rougher.output.recovery', 'final.output.recovery']], how='left', on='date')"
   ]
  },
  {
   "cell_type": "code",
   "execution_count": 8,
   "metadata": {},
   "outputs": [
    {
     "name": "stdout",
     "output_type": "stream",
     "text": [
      "<class 'pandas.core.frame.DataFrame'>\n",
      "Int64Index: 5856 entries, 0 to 5855\n",
      "Data columns (total 55 columns):\n",
      "date                                          5856 non-null object\n",
      "primary_cleaner.input.sulfate                 5554 non-null float64\n",
      "primary_cleaner.input.depressant              5572 non-null float64\n",
      "primary_cleaner.input.feed_size               5856 non-null float64\n",
      "primary_cleaner.input.xanthate                5690 non-null float64\n",
      "primary_cleaner.state.floatbank8_a_air        5840 non-null float64\n",
      "primary_cleaner.state.floatbank8_a_level      5840 non-null float64\n",
      "primary_cleaner.state.floatbank8_b_air        5840 non-null float64\n",
      "primary_cleaner.state.floatbank8_b_level      5840 non-null float64\n",
      "primary_cleaner.state.floatbank8_c_air        5840 non-null float64\n",
      "primary_cleaner.state.floatbank8_c_level      5840 non-null float64\n",
      "primary_cleaner.state.floatbank8_d_air        5840 non-null float64\n",
      "primary_cleaner.state.floatbank8_d_level      5840 non-null float64\n",
      "rougher.input.feed_ag                         5840 non-null float64\n",
      "rougher.input.feed_pb                         5840 non-null float64\n",
      "rougher.input.feed_rate                       5816 non-null float64\n",
      "rougher.input.feed_size                       5834 non-null float64\n",
      "rougher.input.feed_sol                        5789 non-null float64\n",
      "rougher.input.feed_au                         5840 non-null float64\n",
      "rougher.input.floatbank10_sulfate             5599 non-null float64\n",
      "rougher.input.floatbank10_xanthate            5733 non-null float64\n",
      "rougher.input.floatbank11_sulfate             5801 non-null float64\n",
      "rougher.input.floatbank11_xanthate            5503 non-null float64\n",
      "rougher.state.floatbank10_a_air               5839 non-null float64\n",
      "rougher.state.floatbank10_a_level             5840 non-null float64\n",
      "rougher.state.floatbank10_b_air               5839 non-null float64\n",
      "rougher.state.floatbank10_b_level             5840 non-null float64\n",
      "rougher.state.floatbank10_c_air               5839 non-null float64\n",
      "rougher.state.floatbank10_c_level             5840 non-null float64\n",
      "rougher.state.floatbank10_d_air               5839 non-null float64\n",
      "rougher.state.floatbank10_d_level             5840 non-null float64\n",
      "rougher.state.floatbank10_e_air               5839 non-null float64\n",
      "rougher.state.floatbank10_e_level             5840 non-null float64\n",
      "rougher.state.floatbank10_f_air               5839 non-null float64\n",
      "rougher.state.floatbank10_f_level             5840 non-null float64\n",
      "secondary_cleaner.state.floatbank2_a_air      5836 non-null float64\n",
      "secondary_cleaner.state.floatbank2_a_level    5840 non-null float64\n",
      "secondary_cleaner.state.floatbank2_b_air      5833 non-null float64\n",
      "secondary_cleaner.state.floatbank2_b_level    5840 non-null float64\n",
      "secondary_cleaner.state.floatbank3_a_air      5822 non-null float64\n",
      "secondary_cleaner.state.floatbank3_a_level    5840 non-null float64\n",
      "secondary_cleaner.state.floatbank3_b_air      5840 non-null float64\n",
      "secondary_cleaner.state.floatbank3_b_level    5840 non-null float64\n",
      "secondary_cleaner.state.floatbank4_a_air      5840 non-null float64\n",
      "secondary_cleaner.state.floatbank4_a_level    5840 non-null float64\n",
      "secondary_cleaner.state.floatbank4_b_air      5840 non-null float64\n",
      "secondary_cleaner.state.floatbank4_b_level    5840 non-null float64\n",
      "secondary_cleaner.state.floatbank5_a_air      5840 non-null float64\n",
      "secondary_cleaner.state.floatbank5_a_level    5840 non-null float64\n",
      "secondary_cleaner.state.floatbank5_b_air      5840 non-null float64\n",
      "secondary_cleaner.state.floatbank5_b_level    5840 non-null float64\n",
      "secondary_cleaner.state.floatbank6_a_air      5840 non-null float64\n",
      "secondary_cleaner.state.floatbank6_a_level    5840 non-null float64\n",
      "rougher.output.recovery                       5310 non-null float64\n",
      "final.output.recovery                         5414 non-null float64\n",
      "dtypes: float64(54), object(1)\n",
      "memory usage: 2.5+ MB\n"
     ]
    }
   ],
   "source": [
    "gold_test.info()"
   ]
  },
  {
   "cell_type": "markdown",
   "metadata": {},
   "source": [
    "Проверим, корректно ли рассчитаны показатели восстановления руды. Для этого создадим датафрейм, в котором нет пропущенных значений переменных, по которым рассчитываются данные показатели:"
   ]
  },
  {
   "cell_type": "code",
   "execution_count": 9,
   "metadata": {},
   "outputs": [],
   "source": [
    "recovery_calc = gold_train[['rougher.output.recovery', 'rougher.output.concentrate_au',\\\n",
    "                            'rougher.input.feed_au', 'rougher.output.tail_au']].dropna()"
   ]
  },
  {
   "cell_type": "code",
   "execution_count": 10,
   "metadata": {},
   "outputs": [
    {
     "data": {
      "text/html": [
       "<div>\n",
       "<style scoped>\n",
       "    .dataframe tbody tr th:only-of-type {\n",
       "        vertical-align: middle;\n",
       "    }\n",
       "\n",
       "    .dataframe tbody tr th {\n",
       "        vertical-align: top;\n",
       "    }\n",
       "\n",
       "    .dataframe thead th {\n",
       "        text-align: right;\n",
       "    }\n",
       "</style>\n",
       "<table border=\"1\" class=\"dataframe\">\n",
       "  <thead>\n",
       "    <tr style=\"text-align: right;\">\n",
       "      <th></th>\n",
       "      <th>rougher.output.recovery</th>\n",
       "      <th>rougher.output.concentrate_au</th>\n",
       "      <th>rougher.input.feed_au</th>\n",
       "      <th>rougher.output.tail_au</th>\n",
       "    </tr>\n",
       "  </thead>\n",
       "  <tbody>\n",
       "    <tr>\n",
       "      <td>0</td>\n",
       "      <td>87.107763</td>\n",
       "      <td>19.793808</td>\n",
       "      <td>6.486150</td>\n",
       "      <td>1.170244</td>\n",
       "    </tr>\n",
       "    <tr>\n",
       "      <td>1</td>\n",
       "      <td>86.843261</td>\n",
       "      <td>20.050975</td>\n",
       "      <td>6.478583</td>\n",
       "      <td>1.184827</td>\n",
       "    </tr>\n",
       "    <tr>\n",
       "      <td>2</td>\n",
       "      <td>86.842308</td>\n",
       "      <td>19.737170</td>\n",
       "      <td>6.362222</td>\n",
       "      <td>1.162562</td>\n",
       "    </tr>\n",
       "    <tr>\n",
       "      <td>3</td>\n",
       "      <td>87.226430</td>\n",
       "      <td>19.320810</td>\n",
       "      <td>6.118189</td>\n",
       "      <td>1.079755</td>\n",
       "    </tr>\n",
       "    <tr>\n",
       "      <td>4</td>\n",
       "      <td>86.688794</td>\n",
       "      <td>19.216101</td>\n",
       "      <td>5.663707</td>\n",
       "      <td>1.012642</td>\n",
       "    </tr>\n",
       "  </tbody>\n",
       "</table>\n",
       "</div>"
      ],
      "text/plain": [
       "   rougher.output.recovery  rougher.output.concentrate_au  \\\n",
       "0                87.107763                      19.793808   \n",
       "1                86.843261                      20.050975   \n",
       "2                86.842308                      19.737170   \n",
       "3                87.226430                      19.320810   \n",
       "4                86.688794                      19.216101   \n",
       "\n",
       "   rougher.input.feed_au  rougher.output.tail_au  \n",
       "0               6.486150                1.170244  \n",
       "1               6.478583                1.184827  \n",
       "2               6.362222                1.162562  \n",
       "3               6.118189                1.079755  \n",
       "4               5.663707                1.012642  "
      ]
     },
     "execution_count": 10,
     "metadata": {},
     "output_type": "execute_result"
    }
   ],
   "source": [
    "recovery_calc.head()"
   ]
  },
  {
   "cell_type": "code",
   "execution_count": 11,
   "metadata": {},
   "outputs": [],
   "source": [
    "C = recovery_calc['rougher.output.concentrate_au']\n",
    "F = recovery_calc['rougher.input.feed_au']\n",
    "T = recovery_calc['rougher.output.tail_au']\n",
    "\n",
    "recovery_calc['recovery_calculated'] = C*(F-T)/(F*(C-T))*100"
   ]
  },
  {
   "cell_type": "markdown",
   "metadata": {},
   "source": [
    "Рассчитаем MAE между рассчетным и заданным показателем восстановления руды `rougher.output.recovery`:"
   ]
  },
  {
   "cell_type": "code",
   "execution_count": 12,
   "metadata": {},
   "outputs": [
    {
     "data": {
      "text/plain": [
       "9.444891926100695e-15"
      ]
     },
     "execution_count": 12,
     "metadata": {},
     "output_type": "execute_result"
    }
   ],
   "source": [
    "mean_absolute_error(recovery_calc['rougher.output.recovery'], recovery_calc['recovery_calculated'])"
   ]
  },
  {
   "cell_type": "markdown",
   "metadata": {},
   "source": [
    "Ошибка практически равна 0. Незначительное отклонение может быть объяснено округлением заданного показателя. **Вывод:** эффективность обогащения в исходных данных рассчитана верно.\n",
    "\n",
    "Для обучающей выборки отберем только те признаки, которые доступны в тестовом датасете. Также заполним пропущенные значения обучающей выборки с помощью метода 'bfill' (т.к. близкие по времени наблюдения обладают схожими значениями признаков). Наблюдения с пропущенными значениями целевых признаков удалим."
   ]
  },
  {
   "cell_type": "code",
   "execution_count": 13,
   "metadata": {},
   "outputs": [
    {
     "name": "stdout",
     "output_type": "stream",
     "text": [
      "<class 'pandas.core.frame.DataFrame'>\n",
      "Int64Index: 14149 entries, 0 to 16859\n",
      "Data columns (total 55 columns):\n",
      "date                                          14149 non-null object\n",
      "primary_cleaner.input.sulfate                 14149 non-null float64\n",
      "primary_cleaner.input.depressant              14149 non-null float64\n",
      "primary_cleaner.input.feed_size               14149 non-null float64\n",
      "primary_cleaner.input.xanthate                14149 non-null float64\n",
      "primary_cleaner.state.floatbank8_a_air        14149 non-null float64\n",
      "primary_cleaner.state.floatbank8_a_level      14149 non-null float64\n",
      "primary_cleaner.state.floatbank8_b_air        14149 non-null float64\n",
      "primary_cleaner.state.floatbank8_b_level      14149 non-null float64\n",
      "primary_cleaner.state.floatbank8_c_air        14149 non-null float64\n",
      "primary_cleaner.state.floatbank8_c_level      14149 non-null float64\n",
      "primary_cleaner.state.floatbank8_d_air        14149 non-null float64\n",
      "primary_cleaner.state.floatbank8_d_level      14149 non-null float64\n",
      "rougher.input.feed_ag                         14149 non-null float64\n",
      "rougher.input.feed_pb                         14149 non-null float64\n",
      "rougher.input.feed_rate                       14149 non-null float64\n",
      "rougher.input.feed_size                       14149 non-null float64\n",
      "rougher.input.feed_sol                        14149 non-null float64\n",
      "rougher.input.feed_au                         14149 non-null float64\n",
      "rougher.input.floatbank10_sulfate             14149 non-null float64\n",
      "rougher.input.floatbank10_xanthate            14149 non-null float64\n",
      "rougher.input.floatbank11_sulfate             14149 non-null float64\n",
      "rougher.input.floatbank11_xanthate            14149 non-null float64\n",
      "rougher.state.floatbank10_a_air               14149 non-null float64\n",
      "rougher.state.floatbank10_a_level             14149 non-null float64\n",
      "rougher.state.floatbank10_b_air               14149 non-null float64\n",
      "rougher.state.floatbank10_b_level             14149 non-null float64\n",
      "rougher.state.floatbank10_c_air               14149 non-null float64\n",
      "rougher.state.floatbank10_c_level             14149 non-null float64\n",
      "rougher.state.floatbank10_d_air               14149 non-null float64\n",
      "rougher.state.floatbank10_d_level             14149 non-null float64\n",
      "rougher.state.floatbank10_e_air               14149 non-null float64\n",
      "rougher.state.floatbank10_e_level             14149 non-null float64\n",
      "rougher.state.floatbank10_f_air               14149 non-null float64\n",
      "rougher.state.floatbank10_f_level             14149 non-null float64\n",
      "secondary_cleaner.state.floatbank2_a_air      14149 non-null float64\n",
      "secondary_cleaner.state.floatbank2_a_level    14149 non-null float64\n",
      "secondary_cleaner.state.floatbank2_b_air      14149 non-null float64\n",
      "secondary_cleaner.state.floatbank2_b_level    14149 non-null float64\n",
      "secondary_cleaner.state.floatbank3_a_air      14149 non-null float64\n",
      "secondary_cleaner.state.floatbank3_a_level    14149 non-null float64\n",
      "secondary_cleaner.state.floatbank3_b_air      14149 non-null float64\n",
      "secondary_cleaner.state.floatbank3_b_level    14149 non-null float64\n",
      "secondary_cleaner.state.floatbank4_a_air      14149 non-null float64\n",
      "secondary_cleaner.state.floatbank4_a_level    14149 non-null float64\n",
      "secondary_cleaner.state.floatbank4_b_air      14149 non-null float64\n",
      "secondary_cleaner.state.floatbank4_b_level    14149 non-null float64\n",
      "secondary_cleaner.state.floatbank5_a_air      14149 non-null float64\n",
      "secondary_cleaner.state.floatbank5_a_level    14149 non-null float64\n",
      "secondary_cleaner.state.floatbank5_b_air      14149 non-null float64\n",
      "secondary_cleaner.state.floatbank5_b_level    14149 non-null float64\n",
      "secondary_cleaner.state.floatbank6_a_air      14149 non-null float64\n",
      "secondary_cleaner.state.floatbank6_a_level    14149 non-null float64\n",
      "rougher.output.recovery                       14149 non-null float64\n",
      "final.output.recovery                         14149 non-null float64\n",
      "dtypes: float64(54), object(1)\n",
      "memory usage: 6.0+ MB\n"
     ]
    }
   ],
   "source": [
    "columns_test = gold_test.drop(['rougher.output.recovery', 'final.output.recovery'], axis=1).columns.tolist()\n",
    "columns_model = gold_test.columns.tolist()\n",
    "\n",
    "gold_train = gold_train[columns_model].sort_values(by='date')\n",
    "gold_train[columns_test] = gold_train[columns_test].fillna(method='ffill')\n",
    "gold_train = gold_train.dropna()\n",
    "gold_train.info()"
   ]
  },
  {
   "cell_type": "markdown",
   "metadata": {},
   "source": [
    "Аналогично обработаем пропущенные значения в тестовой и полной выборках."
   ]
  },
  {
   "cell_type": "code",
   "execution_count": 14,
   "metadata": {},
   "outputs": [
    {
     "name": "stdout",
     "output_type": "stream",
     "text": [
      "<class 'pandas.core.frame.DataFrame'>\n",
      "Int64Index: 5290 entries, 0 to 5855\n",
      "Data columns (total 55 columns):\n",
      "date                                          5290 non-null object\n",
      "primary_cleaner.input.sulfate                 5290 non-null float64\n",
      "primary_cleaner.input.depressant              5290 non-null float64\n",
      "primary_cleaner.input.feed_size               5290 non-null float64\n",
      "primary_cleaner.input.xanthate                5290 non-null float64\n",
      "primary_cleaner.state.floatbank8_a_air        5290 non-null float64\n",
      "primary_cleaner.state.floatbank8_a_level      5290 non-null float64\n",
      "primary_cleaner.state.floatbank8_b_air        5290 non-null float64\n",
      "primary_cleaner.state.floatbank8_b_level      5290 non-null float64\n",
      "primary_cleaner.state.floatbank8_c_air        5290 non-null float64\n",
      "primary_cleaner.state.floatbank8_c_level      5290 non-null float64\n",
      "primary_cleaner.state.floatbank8_d_air        5290 non-null float64\n",
      "primary_cleaner.state.floatbank8_d_level      5290 non-null float64\n",
      "rougher.input.feed_ag                         5290 non-null float64\n",
      "rougher.input.feed_pb                         5290 non-null float64\n",
      "rougher.input.feed_rate                       5290 non-null float64\n",
      "rougher.input.feed_size                       5290 non-null float64\n",
      "rougher.input.feed_sol                        5290 non-null float64\n",
      "rougher.input.feed_au                         5290 non-null float64\n",
      "rougher.input.floatbank10_sulfate             5290 non-null float64\n",
      "rougher.input.floatbank10_xanthate            5290 non-null float64\n",
      "rougher.input.floatbank11_sulfate             5290 non-null float64\n",
      "rougher.input.floatbank11_xanthate            5290 non-null float64\n",
      "rougher.state.floatbank10_a_air               5290 non-null float64\n",
      "rougher.state.floatbank10_a_level             5290 non-null float64\n",
      "rougher.state.floatbank10_b_air               5290 non-null float64\n",
      "rougher.state.floatbank10_b_level             5290 non-null float64\n",
      "rougher.state.floatbank10_c_air               5290 non-null float64\n",
      "rougher.state.floatbank10_c_level             5290 non-null float64\n",
      "rougher.state.floatbank10_d_air               5290 non-null float64\n",
      "rougher.state.floatbank10_d_level             5290 non-null float64\n",
      "rougher.state.floatbank10_e_air               5290 non-null float64\n",
      "rougher.state.floatbank10_e_level             5290 non-null float64\n",
      "rougher.state.floatbank10_f_air               5290 non-null float64\n",
      "rougher.state.floatbank10_f_level             5290 non-null float64\n",
      "secondary_cleaner.state.floatbank2_a_air      5290 non-null float64\n",
      "secondary_cleaner.state.floatbank2_a_level    5290 non-null float64\n",
      "secondary_cleaner.state.floatbank2_b_air      5290 non-null float64\n",
      "secondary_cleaner.state.floatbank2_b_level    5290 non-null float64\n",
      "secondary_cleaner.state.floatbank3_a_air      5290 non-null float64\n",
      "secondary_cleaner.state.floatbank3_a_level    5290 non-null float64\n",
      "secondary_cleaner.state.floatbank3_b_air      5290 non-null float64\n",
      "secondary_cleaner.state.floatbank3_b_level    5290 non-null float64\n",
      "secondary_cleaner.state.floatbank4_a_air      5290 non-null float64\n",
      "secondary_cleaner.state.floatbank4_a_level    5290 non-null float64\n",
      "secondary_cleaner.state.floatbank4_b_air      5290 non-null float64\n",
      "secondary_cleaner.state.floatbank4_b_level    5290 non-null float64\n",
      "secondary_cleaner.state.floatbank5_a_air      5290 non-null float64\n",
      "secondary_cleaner.state.floatbank5_a_level    5290 non-null float64\n",
      "secondary_cleaner.state.floatbank5_b_air      5290 non-null float64\n",
      "secondary_cleaner.state.floatbank5_b_level    5290 non-null float64\n",
      "secondary_cleaner.state.floatbank6_a_air      5290 non-null float64\n",
      "secondary_cleaner.state.floatbank6_a_level    5290 non-null float64\n",
      "rougher.output.recovery                       5290 non-null float64\n",
      "final.output.recovery                         5290 non-null float64\n",
      "dtypes: float64(54), object(1)\n",
      "memory usage: 2.3+ MB\n"
     ]
    }
   ],
   "source": [
    "gold_test = gold_test[columns_model].sort_values(by='date')\n",
    "gold_test[columns_test] = gold_test[columns_test].fillna(method='ffill')\n",
    "gold_test = gold_test.dropna()#.drop('date', axis=1)\n",
    "gold_test.info()"
   ]
  },
  {
   "cell_type": "code",
   "execution_count": 15,
   "metadata": {},
   "outputs": [
    {
     "name": "stdout",
     "output_type": "stream",
     "text": [
      "<class 'pandas.core.frame.DataFrame'>\n",
      "Int64Index: 19439 entries, 0 to 22715\n",
      "Data columns (total 87 columns):\n",
      "date                                                  19439 non-null object\n",
      "final.output.concentrate_ag                           19439 non-null float64\n",
      "final.output.concentrate_pb                           19439 non-null float64\n",
      "final.output.concentrate_sol                          19439 non-null float64\n",
      "final.output.concentrate_au                           19439 non-null float64\n",
      "final.output.recovery                                 19439 non-null float64\n",
      "final.output.tail_ag                                  19439 non-null float64\n",
      "final.output.tail_pb                                  19439 non-null float64\n",
      "final.output.tail_sol                                 19439 non-null float64\n",
      "final.output.tail_au                                  19439 non-null float64\n",
      "primary_cleaner.input.sulfate                         19439 non-null float64\n",
      "primary_cleaner.input.depressant                      19439 non-null float64\n",
      "primary_cleaner.input.feed_size                       19439 non-null float64\n",
      "primary_cleaner.input.xanthate                        19439 non-null float64\n",
      "primary_cleaner.output.concentrate_ag                 19439 non-null float64\n",
      "primary_cleaner.output.concentrate_pb                 19439 non-null float64\n",
      "primary_cleaner.output.concentrate_sol                19439 non-null float64\n",
      "primary_cleaner.output.concentrate_au                 19439 non-null float64\n",
      "primary_cleaner.output.tail_ag                        19439 non-null float64\n",
      "primary_cleaner.output.tail_pb                        19439 non-null float64\n",
      "primary_cleaner.output.tail_sol                       19439 non-null float64\n",
      "primary_cleaner.output.tail_au                        19439 non-null float64\n",
      "primary_cleaner.state.floatbank8_a_air                19439 non-null float64\n",
      "primary_cleaner.state.floatbank8_a_level              19439 non-null float64\n",
      "primary_cleaner.state.floatbank8_b_air                19439 non-null float64\n",
      "primary_cleaner.state.floatbank8_b_level              19439 non-null float64\n",
      "primary_cleaner.state.floatbank8_c_air                19439 non-null float64\n",
      "primary_cleaner.state.floatbank8_c_level              19439 non-null float64\n",
      "primary_cleaner.state.floatbank8_d_air                19439 non-null float64\n",
      "primary_cleaner.state.floatbank8_d_level              19439 non-null float64\n",
      "rougher.calculation.sulfate_to_au_concentrate         19439 non-null float64\n",
      "rougher.calculation.floatbank10_sulfate_to_au_feed    19439 non-null float64\n",
      "rougher.calculation.floatbank11_sulfate_to_au_feed    19439 non-null float64\n",
      "rougher.calculation.au_pb_ratio                       19439 non-null float64\n",
      "rougher.input.feed_ag                                 19439 non-null float64\n",
      "rougher.input.feed_pb                                 19439 non-null float64\n",
      "rougher.input.feed_rate                               19439 non-null float64\n",
      "rougher.input.feed_size                               19439 non-null float64\n",
      "rougher.input.feed_sol                                19439 non-null float64\n",
      "rougher.input.feed_au                                 19439 non-null float64\n",
      "rougher.input.floatbank10_sulfate                     19439 non-null float64\n",
      "rougher.input.floatbank10_xanthate                    19439 non-null float64\n",
      "rougher.input.floatbank11_sulfate                     19439 non-null float64\n",
      "rougher.input.floatbank11_xanthate                    19439 non-null float64\n",
      "rougher.output.concentrate_ag                         19439 non-null float64\n",
      "rougher.output.concentrate_pb                         19439 non-null float64\n",
      "rougher.output.concentrate_sol                        19439 non-null float64\n",
      "rougher.output.concentrate_au                         19439 non-null float64\n",
      "rougher.output.recovery                               19439 non-null float64\n",
      "rougher.output.tail_ag                                19439 non-null float64\n",
      "rougher.output.tail_pb                                19439 non-null float64\n",
      "rougher.output.tail_sol                               19439 non-null float64\n",
      "rougher.output.tail_au                                19439 non-null float64\n",
      "rougher.state.floatbank10_a_air                       19439 non-null float64\n",
      "rougher.state.floatbank10_a_level                     19439 non-null float64\n",
      "rougher.state.floatbank10_b_air                       19439 non-null float64\n",
      "rougher.state.floatbank10_b_level                     19439 non-null float64\n",
      "rougher.state.floatbank10_c_air                       19439 non-null float64\n",
      "rougher.state.floatbank10_c_level                     19439 non-null float64\n",
      "rougher.state.floatbank10_d_air                       19439 non-null float64\n",
      "rougher.state.floatbank10_d_level                     19439 non-null float64\n",
      "rougher.state.floatbank10_e_air                       19439 non-null float64\n",
      "rougher.state.floatbank10_e_level                     19439 non-null float64\n",
      "rougher.state.floatbank10_f_air                       19439 non-null float64\n",
      "rougher.state.floatbank10_f_level                     19439 non-null float64\n",
      "secondary_cleaner.output.tail_ag                      19439 non-null float64\n",
      "secondary_cleaner.output.tail_pb                      19439 non-null float64\n",
      "secondary_cleaner.output.tail_sol                     19439 non-null float64\n",
      "secondary_cleaner.output.tail_au                      19439 non-null float64\n",
      "secondary_cleaner.state.floatbank2_a_air              19439 non-null float64\n",
      "secondary_cleaner.state.floatbank2_a_level            19439 non-null float64\n",
      "secondary_cleaner.state.floatbank2_b_air              19439 non-null float64\n",
      "secondary_cleaner.state.floatbank2_b_level            19439 non-null float64\n",
      "secondary_cleaner.state.floatbank3_a_air              19439 non-null float64\n",
      "secondary_cleaner.state.floatbank3_a_level            19439 non-null float64\n",
      "secondary_cleaner.state.floatbank3_b_air              19439 non-null float64\n",
      "secondary_cleaner.state.floatbank3_b_level            19439 non-null float64\n",
      "secondary_cleaner.state.floatbank4_a_air              19439 non-null float64\n",
      "secondary_cleaner.state.floatbank4_a_level            19439 non-null float64\n",
      "secondary_cleaner.state.floatbank4_b_air              19439 non-null float64\n",
      "secondary_cleaner.state.floatbank4_b_level            19439 non-null float64\n",
      "secondary_cleaner.state.floatbank5_a_air              19439 non-null float64\n",
      "secondary_cleaner.state.floatbank5_a_level            19439 non-null float64\n",
      "secondary_cleaner.state.floatbank5_b_air              19439 non-null float64\n",
      "secondary_cleaner.state.floatbank5_b_level            19439 non-null float64\n",
      "secondary_cleaner.state.floatbank6_a_air              19439 non-null float64\n",
      "secondary_cleaner.state.floatbank6_a_level            19439 non-null float64\n",
      "dtypes: float64(86), object(1)\n",
      "memory usage: 13.1+ MB\n"
     ]
    }
   ],
   "source": [
    "columns_full_features = gold_full.drop(['final.output.recovery', 'rougher.output.recovery'], axis=1).columns\n",
    "gold_full[columns_full_features] = gold_full[columns_full_features].fillna(method='ffill')\n",
    "gold_full = gold_full.dropna()\n",
    "gold_full.info()"
   ]
  },
  {
   "cell_type": "markdown",
   "metadata": {},
   "source": [
    "### Вывод по шагу 1\n",
    "\n",
    "На шаге 1 были открыты исходные данные и сохранены в соответствующие переменные, были обработаны пропущенные значения. В обучающей выборке были оставлены только те признаки, которые имеются в тестовой."
   ]
  },
  {
   "cell_type": "markdown",
   "metadata": {},
   "source": [
    "## 2. Анализ данных <a id=\"2\"></a>"
   ]
  },
  {
   "cell_type": "markdown",
   "metadata": {},
   "source": [
    "Изучим, как меняется концентрация металлов на различных этапах очистки:"
   ]
  },
  {
   "cell_type": "code",
   "execution_count": 16,
   "metadata": {},
   "outputs": [
    {
     "name": "stdout",
     "output_type": "stream",
     "text": [
      "Концентрация металлов на разных стадиях обработки\n"
     ]
    },
    {
     "data": {
      "text/html": [
       "<div>\n",
       "<style scoped>\n",
       "    .dataframe tbody tr th:only-of-type {\n",
       "        vertical-align: middle;\n",
       "    }\n",
       "\n",
       "    .dataframe tbody tr th {\n",
       "        vertical-align: top;\n",
       "    }\n",
       "\n",
       "    .dataframe thead th {\n",
       "        text-align: right;\n",
       "    }\n",
       "</style>\n",
       "<table border=\"1\" class=\"dataframe\">\n",
       "  <thead>\n",
       "    <tr style=\"text-align: right;\">\n",
       "      <th></th>\n",
       "      <th>Au</th>\n",
       "      <th>Ag</th>\n",
       "      <th>Pb</th>\n",
       "    </tr>\n",
       "  </thead>\n",
       "  <tbody>\n",
       "    <tr>\n",
       "      <td>Исходное сырье</td>\n",
       "      <td>8.000</td>\n",
       "      <td>9.000</td>\n",
       "      <td>4.000</td>\n",
       "    </tr>\n",
       "    <tr>\n",
       "      <td>Флотация</td>\n",
       "      <td>19.772</td>\n",
       "      <td>11.995</td>\n",
       "      <td>7.606</td>\n",
       "    </tr>\n",
       "    <tr>\n",
       "      <td>Первая очистка</td>\n",
       "      <td>32.119</td>\n",
       "      <td>8.442</td>\n",
       "      <td>9.800</td>\n",
       "    </tr>\n",
       "    <tr>\n",
       "      <td>Вторая очистка</td>\n",
       "      <td>44.077</td>\n",
       "      <td>5.168</td>\n",
       "      <td>9.979</td>\n",
       "    </tr>\n",
       "  </tbody>\n",
       "</table>\n",
       "</div>"
      ],
      "text/plain": [
       "                    Au      Ag     Pb\n",
       "Исходное сырье   8.000   9.000  4.000\n",
       "Флотация        19.772  11.995  7.606\n",
       "Первая очистка  32.119   8.442  9.800\n",
       "Вторая очистка  44.077   5.168  9.979"
      ]
     },
     "metadata": {},
     "output_type": "display_data"
    },
    {
     "data": {
      "image/png": "[encoded data removed]",
      "text/plain": [
       "<Figure size 480x320 with 1 Axes>"
      ]
     },
     "metadata": {},
     "output_type": "display_data"
    }
   ],
   "source": [
    "au_1 = gold_full['rougher.input.feed_au'].mean()\n",
    "au_2 = gold_full['rougher.output.concentrate_au'].mean()\n",
    "au_3 = gold_full['primary_cleaner.output.concentrate_au'].mean()\n",
    "au_4 = gold_full['final.output.concentrate_au'].mean()\n",
    "\n",
    "ag_1 = gold_full['rougher.input.feed_ag'].mean()\n",
    "ag_2 = gold_full['rougher.output.concentrate_ag'].mean()\n",
    "ag_3 = gold_full['primary_cleaner.output.concentrate_ag'].mean()\n",
    "ag_4 = gold_full['final.output.concentrate_ag'].mean()\n",
    "\n",
    "pb_1 = gold_full['rougher.input.feed_pb'].mean()\n",
    "pb_2 = gold_full['rougher.output.concentrate_pb'].mean()\n",
    "pb_3 = gold_full['primary_cleaner.output.concentrate_pb'].mean()\n",
    "pb_4 = gold_full['final.output.concentrate_pb'].mean()\n",
    "\n",
    "concentration_index = pd.Series(['Исходное сырье', 'Флотация', 'Первая очистка', 'Вторая очистка'])\n",
    "concentration_data = {'Au': [round(au_1,0), round(au_2,3), round(au_3,3), round(au_4,3)],\\\n",
    "                 'Ag': [round(ag_1,0), round(ag_2,3), round(ag_3,3), round(ag_4,3)],\\\n",
    "                 'Pb': [round(pb_1,0), round(pb_2,3), round(pb_3,3), round(pb_4,3)]}\n",
    "\n",
    "concentration_df = pd.DataFrame(data = concentration_data).set_index(concentration_index)\n",
    "print('Концентрация металлов на разных стадиях обработки')\n",
    "display(concentration_df)\n",
    "\n",
    "plt.figure(num=None, figsize=(6, 4), dpi=80, facecolor='w', edgecolor='k')\n",
    "\n",
    "for metal in concentration_df.columns:\n",
    "    plt.plot(concentration_df.index.tolist(), concentration_df.loc[:, metal], 'o-')\n",
    "    \n",
    "plt.legend(concentration_df.columns)\n",
    "plt.grid()\n",
    "plt.title('Концентрация металлов на разных стадиях обработки')\n",
    "plt.xlabel('Этапы обработки')\n",
    "plt.ylabel('Концентрация металла')\n",
    "plt.show()"
   ]
  },
  {
   "cell_type": "markdown",
   "metadata": {},
   "source": [
    "Концентрация золота возрастает линейно на всех этапах. Концентрация свинца возрастает нелинейно и более медленно. Концентрация серебра возрастает после флотации, а на последующих этапах падает.\n",
    "\n",
    "Сравним распределение размера гранул исходного сырья на обучающей и тестовой выборках."
   ]
  },
  {
   "cell_type": "code",
   "execution_count": 17,
   "metadata": {
    "scrolled": false
   },
   "outputs": [
    {
     "data": {
      "image/png": "[encoded data removed]",
      "text/plain": [
       "<Figure size 1008x288 with 2 Axes>"
      ]
     },
     "metadata": {
      "needs_background": "light"
     },
     "output_type": "display_data"
    }
   ],
   "source": [
    "fig = plt.figure(figsize=(14, 4))\n",
    "gs = fig.add_gridspec(1, 2)\n",
    "\n",
    "rougher_size_train = gold_train['rougher.input.feed_size']\n",
    "rougher_size_test = gold_test['rougher.input.feed_size']\n",
    "primary_size_train = gold_train['primary_cleaner.input.feed_size']\n",
    "primary_size_test = gold_test['primary_cleaner.input.feed_size']\n",
    "\n",
    "with sns.axes_style(\"white\"):\n",
    "    ax1 = fig.add_subplot(gs[0, 0])\n",
    "    plt.axvline(x=rougher_size_train.mean(), color=\"red\", linewidth=2)\n",
    "    sns.kdeplot(rougher_size_train, legend=False)\n",
    "    ax1.set_title('График плотности распределения размеров гранул\\n исходного сырья на обучающей выборке')\n",
    "    plt.xlabel('Среднее арифм.: ' + str(round(np.mean(rougher_size_train), 3)) +\\\n",
    "               ',   СКО: ' + str(round(np.std(rougher_size_train), 3)))\n",
    "    \n",
    "with sns.axes_style(\"white\"):\n",
    "    ax2 = fig.add_subplot(gs[0, 1])\n",
    "    plt.axvline(x=rougher_size_test.mean(), color=\"red\", linewidth=2)\n",
    "    sns.kdeplot(rougher_size_test, legend=False)\n",
    "    ax2.set_title('График плотности распределения размеров гранул\\n исходного сырья на тестовой выборке')\n",
    "    plt.xlabel('Среднее арифм.: ' + str(round(np.mean(rougher_size_test), 3)) +\\\n",
    "               ',   СКО: ' + str(round(np.std(rougher_size_test), 3)))"
   ]
  },
  {
   "cell_type": "code",
   "execution_count": 18,
   "metadata": {},
   "outputs": [
    {
     "data": {
      "image/png": "[encoded data removed]",
      "text/plain": [
       "<Figure size 432x288 with 1 Axes>"
      ]
     },
     "metadata": {
      "needs_background": "light"
     },
     "output_type": "display_data"
    }
   ],
   "source": [
    "fig = plt.figure(figsize=(6, 4))\n",
    "\n",
    "rougher_size_train = gold_train['rougher.input.feed_size']\n",
    "rougher_size_test = gold_test['rougher.input.feed_size']\n",
    "\n",
    "with sns.axes_style(\"white\"):\n",
    "    sns.kdeplot(rougher_size_train)\n",
    "    sns.kdeplot(rougher_size_test)\n",
    "    plt.legend(['train', 'test'])\n",
    "    plt.title('Сравнение распределений размеров гранул исходного сырья')"
   ]
  },
  {
   "cell_type": "markdown",
   "metadata": {},
   "source": [
    "Визуально распределения схожи, но не идентичны. Ср. арифметические и стандартные отклонения отличаются на ~ 4 ед. Очищение выборок от выбросов позволит сгладить различия двух выборок.\n",
    "\n",
    "Аналогично, сравним распределения размеров гранул для чернового концентрата:"
   ]
  },
  {
   "cell_type": "code",
   "execution_count": 19,
   "metadata": {
    "scrolled": true
   },
   "outputs": [
    {
     "data": {
      "image/png": "[encoded data removed]",
      "text/plain": [
       "<Figure size 1008x288 with 2 Axes>"
      ]
     },
     "metadata": {
      "needs_background": "light"
     },
     "output_type": "display_data"
    }
   ],
   "source": [
    "fig = plt.figure(figsize=(14, 4))\n",
    "gs = fig.add_gridspec(1, 2)\n",
    "\n",
    "primary_size_train = gold_train['primary_cleaner.input.feed_size']\n",
    "primary_size_test = gold_test['primary_cleaner.input.feed_size']\n",
    "\n",
    "\n",
    "with sns.axes_style(\"white\"):\n",
    "    ax1 = fig.add_subplot(gs[0, 0])\n",
    "    plt.axvline(x=primary_size_train.mean(), color=\"red\", linewidth=2)\n",
    "    sns.kdeplot(primary_size_train, legend=False)\n",
    "    ax1.set_title('График плотности распределения размеров гранул\\n чернового концентрата на обучающей выборке')\n",
    "    plt.xlabel('Среднее арифм.: ' + str(round(np.mean(primary_size_train), 3)) +\\\n",
    "               ',   СКО: ' + str(round(np.std(primary_size_train), 3)))\n",
    "    \n",
    "with sns.axes_style(\"white\"):\n",
    "    ax2 = fig.add_subplot(gs[0, 1])\n",
    "    plt.axvline(x=primary_size_test.mean(), color=\"red\", linewidth=2)\n",
    "    sns.kdeplot(primary_size_test, legend=False)\n",
    "    ax2.set_title('График плотности распределения размеров гранул\\n чернового концентрата на тестовой выборке')\n",
    "    plt.xlabel('Среднее арифм.: ' + str(round(np.mean(primary_size_test), 3)) +\\\n",
    "               ',   СКО: ' + str(round(np.std(primary_size_test), 3)))"
   ]
  },
  {
   "cell_type": "code",
   "execution_count": 20,
   "metadata": {},
   "outputs": [
    {
     "data": {
      "image/png": "[encoded data removed]",
      "text/plain": [
       "<Figure size 432x288 with 1 Axes>"
      ]
     },
     "metadata": {
      "needs_background": "light"
     },
     "output_type": "display_data"
    }
   ],
   "source": [
    "fig = plt.figure(figsize=(6, 4))\n",
    "\n",
    "primary_size_train = gold_train['primary_cleaner.input.feed_size']\n",
    "primary_size_test = gold_test['primary_cleaner.input.feed_size']\n",
    "\n",
    "with sns.axes_style(\"white\"):\n",
    "    sns.kdeplot(primary_size_train)\n",
    "    sns.kdeplot(primary_size_test)\n",
    "    plt.legend(['train', 'test'])\n",
    "    plt.title('Сравнение распределений размеров гранул чернового концентрата')"
   ]
  },
  {
   "cell_type": "markdown",
   "metadata": {},
   "source": [
    "Визуально распределения ещё более схожи. Средние значения и стандартные отклонения практически равны.\n",
    "\n",
    "Исследуем суммарную концентрацию металлов на разных стадиях обработки:"
   ]
  },
  {
   "cell_type": "code",
   "execution_count": 21,
   "metadata": {
    "scrolled": true
   },
   "outputs": [
    {
     "data": {
      "text/html": [
       "<div>\n",
       "<style scoped>\n",
       "    .dataframe tbody tr th:only-of-type {\n",
       "        vertical-align: middle;\n",
       "    }\n",
       "\n",
       "    .dataframe tbody tr th {\n",
       "        vertical-align: top;\n",
       "    }\n",
       "\n",
       "    .dataframe thead th {\n",
       "        text-align: right;\n",
       "    }\n",
       "</style>\n",
       "<table border=\"1\" class=\"dataframe\">\n",
       "  <thead>\n",
       "    <tr style=\"text-align: right;\">\n",
       "      <th></th>\n",
       "      <th>rougher.input.feed_au</th>\n",
       "      <th>rougher.output.concentrate_au</th>\n",
       "      <th>final.output.concentrate_au</th>\n",
       "      <th>rougher.input.feed_ag</th>\n",
       "      <th>rougher.output.concentrate_ag</th>\n",
       "      <th>final.output.concentrate_ag</th>\n",
       "      <th>rougher.input.feed_pb</th>\n",
       "      <th>rougher.output.concentrate_pb</th>\n",
       "      <th>final.output.concentrate_pb</th>\n",
       "      <th>rougher.input.feed_sol</th>\n",
       "      <th>rougher.output.concentrate_sol</th>\n",
       "      <th>final.output.concentrate_sol</th>\n",
       "      <th>rougher.concentrate</th>\n",
       "      <th>flotation.concentrate</th>\n",
       "      <th>final.concentrate</th>\n",
       "    </tr>\n",
       "  </thead>\n",
       "  <tbody>\n",
       "    <tr>\n",
       "      <td>0</td>\n",
       "      <td>6.486150</td>\n",
       "      <td>19.793808</td>\n",
       "      <td>42.192020</td>\n",
       "      <td>6.100378</td>\n",
       "      <td>11.500771</td>\n",
       "      <td>6.055403</td>\n",
       "      <td>2.284912</td>\n",
       "      <td>7.101074</td>\n",
       "      <td>9.889648</td>\n",
       "      <td>36.808594</td>\n",
       "      <td>28.029297</td>\n",
       "      <td>5.507324</td>\n",
       "      <td>51.680034</td>\n",
       "      <td>66.424950</td>\n",
       "      <td>63.644396</td>\n",
       "    </tr>\n",
       "    <tr>\n",
       "      <td>1</td>\n",
       "      <td>6.478583</td>\n",
       "      <td>20.050975</td>\n",
       "      <td>42.701629</td>\n",
       "      <td>6.161113</td>\n",
       "      <td>11.615865</td>\n",
       "      <td>6.029369</td>\n",
       "      <td>2.266033</td>\n",
       "      <td>7.278807</td>\n",
       "      <td>9.968944</td>\n",
       "      <td>35.753385</td>\n",
       "      <td>28.067063</td>\n",
       "      <td>5.257781</td>\n",
       "      <td>50.659114</td>\n",
       "      <td>67.012710</td>\n",
       "      <td>63.957723</td>\n",
       "    </tr>\n",
       "    <tr>\n",
       "      <td>2</td>\n",
       "      <td>6.362222</td>\n",
       "      <td>19.737170</td>\n",
       "      <td>42.657501</td>\n",
       "      <td>6.116455</td>\n",
       "      <td>11.695753</td>\n",
       "      <td>6.055926</td>\n",
       "      <td>2.159622</td>\n",
       "      <td>7.216833</td>\n",
       "      <td>10.213995</td>\n",
       "      <td>35.971630</td>\n",
       "      <td>27.454037</td>\n",
       "      <td>5.383759</td>\n",
       "      <td>50.609929</td>\n",
       "      <td>66.103793</td>\n",
       "      <td>64.311180</td>\n",
       "    </tr>\n",
       "    <tr>\n",
       "      <td>3</td>\n",
       "      <td>6.118189</td>\n",
       "      <td>19.320810</td>\n",
       "      <td>42.689819</td>\n",
       "      <td>6.043309</td>\n",
       "      <td>11.915047</td>\n",
       "      <td>6.047977</td>\n",
       "      <td>2.037807</td>\n",
       "      <td>7.175616</td>\n",
       "      <td>9.977019</td>\n",
       "      <td>36.862241</td>\n",
       "      <td>27.341277</td>\n",
       "      <td>4.858634</td>\n",
       "      <td>51.061546</td>\n",
       "      <td>65.752751</td>\n",
       "      <td>63.573449</td>\n",
       "    </tr>\n",
       "    <tr>\n",
       "      <td>4</td>\n",
       "      <td>5.663707</td>\n",
       "      <td>19.216101</td>\n",
       "      <td>42.774141</td>\n",
       "      <td>6.060915</td>\n",
       "      <td>12.411054</td>\n",
       "      <td>6.148599</td>\n",
       "      <td>1.786875</td>\n",
       "      <td>7.240205</td>\n",
       "      <td>10.142511</td>\n",
       "      <td>34.347666</td>\n",
       "      <td>27.041023</td>\n",
       "      <td>4.939416</td>\n",
       "      <td>47.859163</td>\n",
       "      <td>65.908382</td>\n",
       "      <td>64.004667</td>\n",
       "    </tr>\n",
       "  </tbody>\n",
       "</table>\n",
       "</div>"
      ],
      "text/plain": [
       "   rougher.input.feed_au  rougher.output.concentrate_au  \\\n",
       "0               6.486150                      19.793808   \n",
       "1               6.478583                      20.050975   \n",
       "2               6.362222                      19.737170   \n",
       "3               6.118189                      19.320810   \n",
       "4               5.663707                      19.216101   \n",
       "\n",
       "   final.output.concentrate_au  rougher.input.feed_ag  \\\n",
       "0                    42.192020               6.100378   \n",
       "1                    42.701629               6.161113   \n",
       "2                    42.657501               6.116455   \n",
       "3                    42.689819               6.043309   \n",
       "4                    42.774141               6.060915   \n",
       "\n",
       "   rougher.output.concentrate_ag  final.output.concentrate_ag  \\\n",
       "0                      11.500771                     6.055403   \n",
       "1                      11.615865                     6.029369   \n",
       "2                      11.695753                     6.055926   \n",
       "3                      11.915047                     6.047977   \n",
       "4                      12.411054                     6.148599   \n",
       "\n",
       "   rougher.input.feed_pb  rougher.output.concentrate_pb  \\\n",
       "0               2.284912                       7.101074   \n",
       "1               2.266033                       7.278807   \n",
       "2               2.159622                       7.216833   \n",
       "3               2.037807                       7.175616   \n",
       "4               1.786875                       7.240205   \n",
       "\n",
       "   final.output.concentrate_pb  rougher.input.feed_sol  \\\n",
       "0                     9.889648               36.808594   \n",
       "1                     9.968944               35.753385   \n",
       "2                    10.213995               35.971630   \n",
       "3                     9.977019               36.862241   \n",
       "4                    10.142511               34.347666   \n",
       "\n",
       "   rougher.output.concentrate_sol  final.output.concentrate_sol  \\\n",
       "0                       28.029297                      5.507324   \n",
       "1                       28.067063                      5.257781   \n",
       "2                       27.454037                      5.383759   \n",
       "3                       27.341277                      4.858634   \n",
       "4                       27.041023                      4.939416   \n",
       "\n",
       "   rougher.concentrate  flotation.concentrate  final.concentrate  \n",
       "0            51.680034              66.424950          63.644396  \n",
       "1            50.659114              67.012710          63.957723  \n",
       "2            50.609929              66.103793          64.311180  \n",
       "3            51.061546              65.752751          63.573449  \n",
       "4            47.859163              65.908382          64.004667  "
      ]
     },
     "execution_count": 21,
     "metadata": {},
     "output_type": "execute_result"
    }
   ],
   "source": [
    "np.warnings.filterwarnings('ignore', category=SettingWithCopyWarning)\n",
    "\n",
    "columns_concentrations = ['rougher.input.feed_au', 'rougher.output.concentrate_au', 'final.output.concentrate_au',\\\n",
    "                          'rougher.input.feed_ag', 'rougher.output.concentrate_ag', 'final.output.concentrate_ag',\\\n",
    "                          'rougher.input.feed_pb', 'rougher.output.concentrate_pb', 'final.output.concentrate_pb',\\\n",
    "                          'rougher.input.feed_sol', 'rougher.output.concentrate_sol', 'final.output.concentrate_sol']\n",
    "\n",
    "gfc = gold_full[columns_concentrations]\n",
    "\n",
    "gfc['rougher.concentrate'] = (\n",
    "    gfc['rougher.input.feed_au'] + gfc['rougher.input.feed_ag'] +\\\n",
    "    gfc['rougher.input.feed_pb'] + gfc['rougher.input.feed_sol'])\n",
    "\n",
    "gfc['flotation.concentrate'] = (\n",
    "    gfc['rougher.output.concentrate_au'] + gfc['rougher.output.concentrate_ag'] +\\\n",
    "    gfc['rougher.output.concentrate_pb'] + gfc['rougher.output.concentrate_sol'])\n",
    "\n",
    "gfc['final.concentrate'] = (\n",
    "    gfc['final.output.concentrate_au'] + gfc['final.output.concentrate_ag'] +\\\n",
    "    gfc['final.output.concentrate_pb'] + gfc['final.output.concentrate_sol'])\n",
    "\n",
    "gfc.head()"
   ]
  },
  {
   "cell_type": "code",
   "execution_count": 22,
   "metadata": {},
   "outputs": [],
   "source": [
    "def outliers(series, normal=False):\n",
    "    \n",
    "    #Функция возвращает диапазон нормальных значений выборки на основе межквартильного расстояния, если normal=False,\n",
    "    #и на основе стандартного отклонения, еcли normal=True\n",
    "    \n",
    "    Q1 = series.describe()['25%']\n",
    "    Q3 = series.describe()['75%']\n",
    "    \n",
    "    IQR = Q3-Q1\n",
    "    \n",
    "    mean = series.describe()['50%']\n",
    "    std = series.describe()['std']\n",
    "    \n",
    "    if normal == False:\n",
    "    \n",
    "        if Q1-1.5*IQR < series.describe()['min']:\n",
    "            lower_boundary = series.describe()['min']\n",
    "        \n",
    "        else:\n",
    "            lower_boundary = Q1-1.5*IQR\n",
    "    \n",
    "        if Q3+1.5*IQR > series.describe()['max']:\n",
    "            upper_boundary = series.describe()['max']\n",
    "        \n",
    "        else:\n",
    "            upper_boundary = Q3+1.5*IQR\n",
    "            \n",
    "    else:\n",
    "        \n",
    "        if mean-3*std < series.describe()['min']:\n",
    "            lower_boundary = series.describe()['min']\n",
    "        \n",
    "        else:\n",
    "            lower_boundary = mean-3*std\n",
    "    \n",
    "        if mean+3*std > series.describe()['max']:\n",
    "            upper_boundary = series.describe()['max']\n",
    "        \n",
    "        else:\n",
    "            upper_boundary = mean+3*std\n",
    "    \n",
    "    return (lower_boundary, upper_boundary)"
   ]
  },
  {
   "cell_type": "code",
   "execution_count": 23,
   "metadata": {},
   "outputs": [],
   "source": [
    "def cut_outliers(DataFrame, column, normal = False, lower = None, upper = None):\n",
    "    \n",
    "    # Функция принимает в качестве аргументов название data-фрейма и столбца и возвращает очищенный от \n",
    "    # выбросов срез\n",
    "    \n",
    "    # Опционально можно самостоятельно указать в качестве аргумента нижнюю (lower) и / или верхнюю (upper) \n",
    "    # границу среза\n",
    "       \n",
    "    if normal == False:\n",
    "    \n",
    "        lower_est = outliers(DataFrame[column], normal=False)[0]\n",
    "        upper_est = outliers(DataFrame[column], normal=False)[1]\n",
    "        \n",
    "    else:\n",
    "        lower_est = outliers(DataFrame[column], normal=True)[0]\n",
    "        upper_est = outliers(DataFrame[column], normal=True)[1]\n",
    "    \n",
    "    if lower != None:\n",
    "        lower_boundary = lower\n",
    "    \n",
    "    else:\n",
    "        lower_boundary = lower_est\n",
    "        \n",
    "    if upper != None:\n",
    "        upper_boundary = upper\n",
    "    \n",
    "    else:\n",
    "        upper_boundary = upper_est\n",
    "    \n",
    "    cut = DataFrame[(DataFrame[column] >= lower_boundary) & (DataFrame[column] <= upper_boundary)]\n",
    "    \n",
    "    return cut"
   ]
  },
  {
   "cell_type": "code",
   "execution_count": 24,
   "metadata": {},
   "outputs": [],
   "source": [
    "def explore(df, column, name, normal=False, cut=False, describe=False, lower=None\n",
    "            , upper=None, bins=None, hist_only=False, density=False, qq_plot=False):\n",
    "    \n",
    "    # Функция принимает название data-фрейма, название столбца, имя переменной и строит гистограмму и ящик с усами\n",
    "    # при cut=True диапазон графиков сжимается до (Q1-2*IQR, Q3+2*IQR)\n",
    "    # при describe=True вызывается метод .describe() и функция outliers()\n",
    "    # при density=True вместо гистограммы строится график плотности\n",
    "    # при normal=True выбросы определяются на основе правила 3-сигм; в противном случае — на основе IQR\n",
    "    # при qq_plot=True строится QQ-график\n",
    "    # опционально можно скорректировать диапазон значений графиков и количество корзин гистограммы\n",
    "    \n",
    "    if normal==False:\n",
    "        \n",
    "            lower_outlier = outliers(df[column], normal=False)[0]\n",
    "            upper_outlier = outliers(df[column], normal=False)[1]\n",
    "        \n",
    "    else:\n",
    "            \n",
    "            lower_outlier = outliers(df[column], normal=True)[0]\n",
    "            upper_outlier = outliers(df[column], normal=True)[1]\n",
    "    \n",
    "    if cut==False:\n",
    "        \n",
    "        if density==False:\n",
    "            \n",
    "            if bins==None:\n",
    "                df[column].hist()\n",
    "            else:\n",
    "                df[column].hist(bins=bins)\n",
    "            plt.title('Гистограмма '+ name)\n",
    "            plt.show()\n",
    "        \n",
    "        else:\n",
    "            \n",
    "            sns.kdeplot(df[column], legend=False)\n",
    "            plt.title('График плотности '+ name)\n",
    "            plt.show()\n",
    "        \n",
    "        if hist_only==False:\n",
    "            df.boxplot(column=column)\n",
    "            plt.title('Диаграмма размаха '+ name)\n",
    "            plt.show()\n",
    "\n",
    "    else:\n",
    "        min = df[column].describe()['min']\n",
    "        max = df[column].describe()['max']\n",
    "        \n",
    "                \n",
    "        iqr = df[column].describe()['75%']-df[column].describe()['25%']\n",
    "        \n",
    "        if lower==None:\n",
    "            if round((lower_outlier-min),0)==0:\n",
    "                lower_boundary=min-0.1*iqr\n",
    "            else:\n",
    "                lower_boundary=lower_outlier-0.5*iqr\n",
    "        else:\n",
    "            lower_boundary=lower\n",
    "            \n",
    "        if upper==None:\n",
    "            if round((upper_outlier-max),0)==0:\n",
    "                upper_boundary=max+0.1*iqr\n",
    "            else:\n",
    "                upper_boundary=upper_outlier+0.5*iqr\n",
    "        else:\n",
    "            upper_boundary=upper\n",
    "        \n",
    "        if density==False:\n",
    "            \n",
    "            if bins==None:\n",
    "                if (upper_boundary-lower_boundary)>8:\n",
    "                    df[column].hist(range=(lower_boundary, upper_boundary), bins=int(upper_boundary-lower_boundary))\n",
    "                else:\n",
    "                    df[column].hist(range=(lower_boundary, upper_boundary), bins=8)\n",
    "            else:\n",
    "                df[column].hist(range=(lower_boundary, upper_boundary), bins=bins)\n",
    "        \n",
    "            plt.title('Гистограмма '+ name)\n",
    "            plt.show()\n",
    "        \n",
    "        else:   \n",
    "\n",
    "            sns.kdeplot(df[column], legend=False)\n",
    "            plt.xlim(lower_boundary, upper_boundary)\n",
    "            plt.title('График плотности '+ name)\n",
    "            plt.show()\n",
    "        \n",
    "        if hist_only==False:\n",
    "            df.boxplot(column=column)\n",
    "            plt.title('Диаграмма размаха '+ name)\n",
    "            plt.ylim(lower_boundary, upper_boundary)\n",
    "            plt.show()\n",
    "    \n",
    "    if qq_plot==True:\n",
    "        stats.probplot(df[column], dist=\"norm\", plot=plt)\n",
    "        plt.show()\n",
    "    \n",
    "    if describe==True:\n",
    "        print(df[column].describe())\n",
    "        print('')\n",
    "        if lower_outlier == df[column].describe()['min'] and upper_outlier == df[column].describe()['max']:\n",
    "            print('Выбросы не обнаружены')\n",
    "        else:\n",
    "            print('Диапазон нормальных значений:', (lower_outlier, upper_outlier))\n",
    "            print('')\n",
    "            print('Очищенная от выбросов выборка:')\n",
    "            print('')\n",
    "            if normal==False:\n",
    "                print(cut_outliers(df, column, normal=False)[column].describe())\n",
    "            else:\n",
    "                print(cut_outliers(df, column, normal=True)[column].describe())"
   ]
  },
  {
   "cell_type": "code",
   "execution_count": 25,
   "metadata": {},
   "outputs": [
    {
     "data": {
      "image/png": "[encoded data removed]",
      "text/plain": [
       "<Figure size 432x288 with 1 Axes>"
      ]
     },
     "metadata": {
      "needs_background": "light"
     },
     "output_type": "display_data"
    },
    {
     "data": {
      "image/png": "[encoded data removed]",
      "text/plain": [
       "<Figure size 432x288 with 1 Axes>"
      ]
     },
     "metadata": {
      "needs_background": "light"
     },
     "output_type": "display_data"
    },
    {
     "data": {
      "image/png": "[encoded data removed]",
      "text/plain": [
       "<Figure size 432x288 with 1 Axes>"
      ]
     },
     "metadata": {
      "needs_background": "light"
     },
     "output_type": "display_data"
    },
    {
     "name": "stdout",
     "output_type": "stream",
     "text": [
      "count    19439.000000\n",
      "mean        57.310846\n",
      "std          7.243999\n",
      "min          0.040000\n",
      "25%         53.556969\n",
      "50%         57.591781\n",
      "75%         61.952764\n",
      "max         76.978947\n",
      "Name: rougher.concentrate, dtype: float64\n",
      "\n",
      "Диапазон нормальных значений: (40.96327578373702, 74.54645765866626)\n",
      "\n",
      "Очищенная от выбросов выборка:\n",
      "\n",
      "count    18956.000000\n",
      "mean        57.882233\n",
      "std          6.125633\n",
      "min         40.983839\n",
      "25%         53.900027\n",
      "50%         57.749888\n",
      "75%         62.069418\n",
      "max         74.458303\n",
      "Name: rougher.concentrate, dtype: float64\n"
     ]
    }
   ],
   "source": [
    "explore(gfc, 'rougher.concentrate', name='\\nсумм. концентрации металлов в исходном сырье', normal=False\n",
    "        , qq_plot = True, density=True, describe=True)"
   ]
  },
  {
   "cell_type": "markdown",
   "metadata": {},
   "source": [
    "Распределение практически симметричное и, судя по QQ-графику близко к нормальному. Имеются выбросы слева. Очищение выбросов на основе межквартильного расстояния приводит к незначительному сокращению выборки и потому видится приемлемым."
   ]
  },
  {
   "cell_type": "code",
   "execution_count": 26,
   "metadata": {},
   "outputs": [
    {
     "data": {
      "image/png": "[encoded data removed]",
      "text/plain": [
       "<Figure size 432x288 with 1 Axes>"
      ]
     },
     "metadata": {
      "needs_background": "light"
     },
     "output_type": "display_data"
    },
    {
     "data": {
      "image/png": "[encoded data removed]",
      "text/plain": [
       "<Figure size 432x288 with 1 Axes>"
      ]
     },
     "metadata": {
      "needs_background": "light"
     },
     "output_type": "display_data"
    },
    {
     "data": {
      "image/png": "[encoded data removed]",
      "text/plain": [
       "<Figure size 432x288 with 1 Axes>"
      ]
     },
     "metadata": {
      "needs_background": "light"
     },
     "output_type": "display_data"
    },
    {
     "name": "stdout",
     "output_type": "stream",
     "text": [
      "count    19439.000000\n",
      "mean        68.161527\n",
      "std         12.505637\n",
      "min          0.000000\n",
      "25%         66.008721\n",
      "50%         70.177427\n",
      "75%         74.356904\n",
      "max         88.140119\n",
      "Name: flotation.concentrate, dtype: float64\n",
      "\n",
      "Диапазон нормальных значений: (53.486446324431896, 86.87917890321866)\n",
      "\n",
      "Очищенная от выбросов выборка:\n",
      "\n",
      "count    18421.000000\n",
      "mean        70.465343\n",
      "std          5.963460\n",
      "min         53.503790\n",
      "25%         66.853752\n",
      "50%         70.610025\n",
      "75%         74.616685\n",
      "max         86.538614\n",
      "Name: flotation.concentrate, dtype: float64\n"
     ]
    }
   ],
   "source": [
    "explore(gfc, 'flotation.concentrate', name='\\nсумм. концентрации металлов в черновом концентрате', normal=False\n",
    "        , qq_plot = True, density=True, describe=True)"
   ]
  },
  {
   "cell_type": "markdown",
   "metadata": {},
   "source": [
    "Наблюдается длинный левый хвост с большим числом нулевых значений (вероятно, ошибка оборудования). Также присутствуют выбросы сверху. Очищение от выбросов на основе межквартильного расстояния существенно сокращает размер выборки, видится целесообразным расширить расчётные границы."
   ]
  },
  {
   "cell_type": "code",
   "execution_count": 27,
   "metadata": {},
   "outputs": [
    {
     "data": {
      "image/png": "[encoded data removed]",
      "text/plain": [
       "<Figure size 432x288 with 1 Axes>"
      ]
     },
     "metadata": {
      "needs_background": "light"
     },
     "output_type": "display_data"
    },
    {
     "data": {
      "image/png": "[encoded data removed]",
      "text/plain": [
       "<Figure size 432x288 with 1 Axes>"
      ]
     },
     "metadata": {
      "needs_background": "light"
     },
     "output_type": "display_data"
    },
    {
     "data": {
      "image/png": "[encoded data removed]",
      "text/plain": [
       "<Figure size 432x288 with 1 Axes>"
      ]
     },
     "metadata": {
      "needs_background": "light"
     },
     "output_type": "display_data"
    },
    {
     "name": "stdout",
     "output_type": "stream",
     "text": [
      "count    19439.000000\n",
      "mean        68.645831\n",
      "std          7.434908\n",
      "min          0.000000\n",
      "25%         67.931190\n",
      "50%         69.598444\n",
      "75%         71.368472\n",
      "max         80.210644\n",
      "Name: final.concentrate, dtype: float64\n",
      "\n",
      "Диапазон нормальных значений: (62.77526610667777, 76.52439549899489)\n",
      "\n",
      "Очищенная от выбросов выборка:\n",
      "\n",
      "count    18102.000000\n",
      "mean        69.880016\n",
      "std          2.497707\n",
      "min         62.782222\n",
      "25%         68.280775\n",
      "50%         69.753880\n",
      "75%         71.427278\n",
      "max         76.519097\n",
      "Name: final.concentrate, dtype: float64\n"
     ]
    }
   ],
   "source": [
    "explore(gfc, 'final.concentrate', name='\\nсумм. концентрации металлов в финальном концентрате', normal=False\n",
    "        , qq_plot = True, density=True, describe=True)"
   ]
  },
  {
   "cell_type": "markdown",
   "metadata": {},
   "source": [
    "Наблюдается еще более длинный левый хвост. Присутствуют выбросы и снизу, и сверху. Очищение от выбросов на основе межквартильного расстояния существенно сокращает размер выборки, видится целесообразным расширить расчётные границы.\n",
    "\n",
    "Аналогично изучим распределения размеров гранул исходного сырья и чернового концентрата:"
   ]
  },
  {
   "cell_type": "code",
   "execution_count": 28,
   "metadata": {},
   "outputs": [
    {
     "data": {
      "text/html": [
       "<div>\n",
       "<style scoped>\n",
       "    .dataframe tbody tr th:only-of-type {\n",
       "        vertical-align: middle;\n",
       "    }\n",
       "\n",
       "    .dataframe tbody tr th {\n",
       "        vertical-align: top;\n",
       "    }\n",
       "\n",
       "    .dataframe thead th {\n",
       "        text-align: right;\n",
       "    }\n",
       "</style>\n",
       "<table border=\"1\" class=\"dataframe\">\n",
       "  <thead>\n",
       "    <tr style=\"text-align: right;\">\n",
       "      <th></th>\n",
       "      <th>rougher.input.feed_size</th>\n",
       "      <th>primary_cleaner.input.feed_size</th>\n",
       "    </tr>\n",
       "  </thead>\n",
       "  <tbody>\n",
       "    <tr>\n",
       "      <td>0</td>\n",
       "      <td>55.486599</td>\n",
       "      <td>7.25</td>\n",
       "    </tr>\n",
       "    <tr>\n",
       "      <td>1</td>\n",
       "      <td>57.278666</td>\n",
       "      <td>7.25</td>\n",
       "    </tr>\n",
       "    <tr>\n",
       "      <td>2</td>\n",
       "      <td>57.510649</td>\n",
       "      <td>7.25</td>\n",
       "    </tr>\n",
       "    <tr>\n",
       "      <td>3</td>\n",
       "      <td>57.792734</td>\n",
       "      <td>7.25</td>\n",
       "    </tr>\n",
       "    <tr>\n",
       "      <td>4</td>\n",
       "      <td>56.047189</td>\n",
       "      <td>7.25</td>\n",
       "    </tr>\n",
       "  </tbody>\n",
       "</table>\n",
       "</div>"
      ],
      "text/plain": [
       "   rougher.input.feed_size  primary_cleaner.input.feed_size\n",
       "0                55.486599                             7.25\n",
       "1                57.278666                             7.25\n",
       "2                57.510649                             7.25\n",
       "3                57.792734                             7.25\n",
       "4                56.047189                             7.25"
      ]
     },
     "execution_count": 28,
     "metadata": {},
     "output_type": "execute_result"
    }
   ],
   "source": [
    "gfs = gold_full[['rougher.input.feed_size', 'primary_cleaner.input.feed_size']]\n",
    "gfs.head()"
   ]
  },
  {
   "cell_type": "code",
   "execution_count": 29,
   "metadata": {},
   "outputs": [
    {
     "data": {
      "image/png": "[encoded data removed]",
      "text/plain": [
       "<Figure size 432x288 with 1 Axes>"
      ]
     },
     "metadata": {
      "needs_background": "light"
     },
     "output_type": "display_data"
    },
    {
     "data": {
      "image/png": "[encoded data removed]",
      "text/plain": [
       "<Figure size 432x288 with 1 Axes>"
      ]
     },
     "metadata": {
      "needs_background": "light"
     },
     "output_type": "display_data"
    },
    {
     "data": {
      "image/png": "[encoded data removed]",
      "text/plain": [
       "<Figure size 432x288 with 1 Axes>"
      ]
     },
     "metadata": {
      "needs_background": "light"
     },
     "output_type": "display_data"
    },
    {
     "name": "stdout",
     "output_type": "stream",
     "text": [
      "count    19439.000000\n",
      "mean        59.806364\n",
      "std         25.079200\n",
      "min          0.046369\n",
      "25%         47.485218\n",
      "50%         54.657105\n",
      "75%         65.265548\n",
      "max        484.967466\n",
      "Name: rougher.input.feed_size, dtype: float64\n",
      "\n",
      "Диапазон нормальных значений: (20.81472400964817, 91.9360424454844)\n",
      "\n",
      "Очищенная от выбросов выборка:\n",
      "\n",
      "count    18746.000000\n",
      "mean        56.604817\n",
      "std         12.188200\n",
      "min         21.345670\n",
      "25%         47.232987\n",
      "50%         54.138941\n",
      "75%         63.687552\n",
      "max         91.933473\n",
      "Name: rougher.input.feed_size, dtype: float64\n"
     ]
    }
   ],
   "source": [
    "explore(gfs, 'rougher.input.feed_size', name='\\nразмеров гранул исходного сырья', normal=False\n",
    "        , qq_plot = True, density=True, describe=True)"
   ]
  },
  {
   "cell_type": "markdown",
   "metadata": {},
   "source": [
    "Распределение правостороннее, наблюдается большое число выбросов сверху, также присутствуют выбросы снизу. Очищение от выбросов на основе межквартильного расстояния существенно сокращает размер выборки, видится целесообразным расширить расчётные границы."
   ]
  },
  {
   "cell_type": "code",
   "execution_count": 30,
   "metadata": {},
   "outputs": [
    {
     "data": {
      "image/png": "[encoded data removed]",
      "text/plain": [
       "<Figure size 432x288 with 1 Axes>"
      ]
     },
     "metadata": {
      "needs_background": "light"
     },
     "output_type": "display_data"
    },
    {
     "data": {
      "image/png": "[encoded data removed]",
      "text/plain": [
       "<Figure size 432x288 with 1 Axes>"
      ]
     },
     "metadata": {
      "needs_background": "light"
     },
     "output_type": "display_data"
    },
    {
     "data": {
      "image/png": "[encoded data removed]",
      "text/plain": [
       "<Figure size 432x288 with 1 Axes>"
      ]
     },
     "metadata": {
      "needs_background": "light"
     },
     "output_type": "display_data"
    },
    {
     "name": "stdout",
     "output_type": "stream",
     "text": [
      "count    19439.000000\n",
      "mean         7.307078\n",
      "std          0.613509\n",
      "min          1.080000\n",
      "25%          6.940000\n",
      "50%          7.280000\n",
      "75%          7.670000\n",
      "max         15.500000\n",
      "Name: primary_cleaner.input.feed_size, dtype: float64\n",
      "\n",
      "Диапазон нормальных значений: (5.8450000286102295, 8.765000104904175)\n",
      "\n",
      "Очищенная от выбросов выборка:\n",
      "\n",
      "count    19100.000000\n",
      "mean         7.304842\n",
      "std          0.553901\n",
      "min          5.850000\n",
      "25%          6.945000\n",
      "50%          7.280000\n",
      "75%          7.650000\n",
      "max          8.760000\n",
      "Name: primary_cleaner.input.feed_size, dtype: float64\n"
     ]
    }
   ],
   "source": [
    "explore(gfs, 'primary_cleaner.input.feed_size', name='\\nразмеров гранул чернового концентрата', normal=False\n",
    "        , qq_plot = True, density=True, describe=True)"
   ]
  },
  {
   "cell_type": "markdown",
   "metadata": {},
   "source": [
    "Распределение практически симметричное, имеются выбросы сверху и снизу."
   ]
  },
  {
   "cell_type": "markdown",
   "metadata": {},
   "source": [
    "Сохраним индексы полной выборки с очищенными от выбросами наблюдений. Границы нормальных значений основаны на расчётных (по межквартильному расстоянию) и впоследствии расширены на основе визуального анализа графика плотности распределения и диаграммых размаха, для сохранения большего числа наблюдений."
   ]
  },
  {
   "cell_type": "code",
   "execution_count": 31,
   "metadata": {},
   "outputs": [
    {
     "name": "stdout",
     "output_type": "stream",
     "text": [
      "18704\n"
     ]
    }
   ],
   "source": [
    "rougher_indices = cut_outliers(gfc, 'rougher.concentrate', normal=False, lower=20, upper=76).index.tolist()\n",
    "flotation_indices = cut_outliers(gfc, 'flotation.concentrate', normal=False, lower=20, upper=87).index.tolist()\n",
    "final_indices = cut_outliers(gfc, 'final.concentrate', normal=False, lower=20, upper=81).index.tolist()\n",
    "\n",
    "rougher_size_indices = cut_outliers(gfs, 'rougher.input.feed_size', normal=False, lower=20, upper=200).index.tolist()\n",
    "primary_size_indices = cut_outliers(gfs, 'primary_cleaner.input.feed_size', normal=False, lower=4,upper=10).index.tolist()\n",
    "\n",
    "rougher_set = set(rougher_indices)\n",
    "intersection_indices = list(rougher_set.intersection(flotation_indices, final_indices,\\\n",
    "                                                     rougher_size_indices, primary_size_indices))\n",
    "\n",
    "print(len(intersection_indices))"
   ]
  },
  {
   "cell_type": "markdown",
   "metadata": {},
   "source": [
    "Всего на пересечении индексов очищенных выборок находится 18699 наблюдения — исходная выборка сократилась незначительно."
   ]
  },
  {
   "cell_type": "markdown",
   "metadata": {},
   "source": [
    "Отберём из исходной (полной) выборки наблюдения с найденными индексами:"
   ]
  },
  {
   "cell_type": "code",
   "execution_count": 32,
   "metadata": {},
   "outputs": [
    {
     "data": {
      "text/html": [
       "<div>\n",
       "<style scoped>\n",
       "    .dataframe tbody tr th:only-of-type {\n",
       "        vertical-align: middle;\n",
       "    }\n",
       "\n",
       "    .dataframe tbody tr th {\n",
       "        vertical-align: top;\n",
       "    }\n",
       "\n",
       "    .dataframe thead th {\n",
       "        text-align: right;\n",
       "    }\n",
       "</style>\n",
       "<table border=\"1\" class=\"dataframe\">\n",
       "  <thead>\n",
       "    <tr style=\"text-align: right;\">\n",
       "      <th></th>\n",
       "      <th>date</th>\n",
       "      <th>primary_cleaner.input.sulfate</th>\n",
       "      <th>primary_cleaner.input.depressant</th>\n",
       "      <th>primary_cleaner.input.feed_size</th>\n",
       "      <th>primary_cleaner.input.xanthate</th>\n",
       "      <th>primary_cleaner.state.floatbank8_a_air</th>\n",
       "      <th>primary_cleaner.state.floatbank8_a_level</th>\n",
       "      <th>primary_cleaner.state.floatbank8_b_air</th>\n",
       "      <th>primary_cleaner.state.floatbank8_b_level</th>\n",
       "      <th>primary_cleaner.state.floatbank8_c_air</th>\n",
       "      <th>...</th>\n",
       "      <th>secondary_cleaner.state.floatbank4_b_air</th>\n",
       "      <th>secondary_cleaner.state.floatbank4_b_level</th>\n",
       "      <th>secondary_cleaner.state.floatbank5_a_air</th>\n",
       "      <th>secondary_cleaner.state.floatbank5_a_level</th>\n",
       "      <th>secondary_cleaner.state.floatbank5_b_air</th>\n",
       "      <th>secondary_cleaner.state.floatbank5_b_level</th>\n",
       "      <th>secondary_cleaner.state.floatbank6_a_air</th>\n",
       "      <th>secondary_cleaner.state.floatbank6_a_level</th>\n",
       "      <th>rougher.output.recovery</th>\n",
       "      <th>final.output.recovery</th>\n",
       "    </tr>\n",
       "  </thead>\n",
       "  <tbody>\n",
       "    <tr>\n",
       "      <td>0</td>\n",
       "      <td>2016-01-15 00:00:00</td>\n",
       "      <td>127.092003</td>\n",
       "      <td>10.128295</td>\n",
       "      <td>7.25</td>\n",
       "      <td>0.988759</td>\n",
       "      <td>1549.775757</td>\n",
       "      <td>-498.912140</td>\n",
       "      <td>1551.434204</td>\n",
       "      <td>-516.403442</td>\n",
       "      <td>1549.873901</td>\n",
       "      <td>...</td>\n",
       "      <td>12.099931</td>\n",
       "      <td>-504.715942</td>\n",
       "      <td>9.925633</td>\n",
       "      <td>-498.310211</td>\n",
       "      <td>8.079666</td>\n",
       "      <td>-500.470978</td>\n",
       "      <td>14.151341</td>\n",
       "      <td>-605.841980</td>\n",
       "      <td>87.107763</td>\n",
       "      <td>70.541216</td>\n",
       "    </tr>\n",
       "    <tr>\n",
       "      <td>1</td>\n",
       "      <td>2016-01-15 01:00:00</td>\n",
       "      <td>125.629232</td>\n",
       "      <td>10.296251</td>\n",
       "      <td>7.25</td>\n",
       "      <td>1.002663</td>\n",
       "      <td>1576.166671</td>\n",
       "      <td>-500.904965</td>\n",
       "      <td>1575.950626</td>\n",
       "      <td>-499.865889</td>\n",
       "      <td>1575.994189</td>\n",
       "      <td>...</td>\n",
       "      <td>11.950531</td>\n",
       "      <td>-501.331529</td>\n",
       "      <td>10.039245</td>\n",
       "      <td>-500.169983</td>\n",
       "      <td>7.984757</td>\n",
       "      <td>-500.582168</td>\n",
       "      <td>13.998353</td>\n",
       "      <td>-599.787184</td>\n",
       "      <td>86.843261</td>\n",
       "      <td>69.266198</td>\n",
       "    </tr>\n",
       "    <tr>\n",
       "      <td>2</td>\n",
       "      <td>2016-01-15 02:00:00</td>\n",
       "      <td>123.819808</td>\n",
       "      <td>11.316280</td>\n",
       "      <td>7.25</td>\n",
       "      <td>0.991265</td>\n",
       "      <td>1601.556163</td>\n",
       "      <td>-499.997791</td>\n",
       "      <td>1600.386685</td>\n",
       "      <td>-500.607762</td>\n",
       "      <td>1602.003542</td>\n",
       "      <td>...</td>\n",
       "      <td>11.912783</td>\n",
       "      <td>-501.133383</td>\n",
       "      <td>10.070913</td>\n",
       "      <td>-500.129135</td>\n",
       "      <td>8.013877</td>\n",
       "      <td>-500.517572</td>\n",
       "      <td>14.028663</td>\n",
       "      <td>-601.427363</td>\n",
       "      <td>86.842308</td>\n",
       "      <td>68.116445</td>\n",
       "    </tr>\n",
       "    <tr>\n",
       "      <td>3</td>\n",
       "      <td>2016-01-15 03:00:00</td>\n",
       "      <td>122.270188</td>\n",
       "      <td>11.322140</td>\n",
       "      <td>7.25</td>\n",
       "      <td>0.996739</td>\n",
       "      <td>1599.968720</td>\n",
       "      <td>-500.951778</td>\n",
       "      <td>1600.659236</td>\n",
       "      <td>-499.677094</td>\n",
       "      <td>1600.304144</td>\n",
       "      <td>...</td>\n",
       "      <td>11.999550</td>\n",
       "      <td>-501.193686</td>\n",
       "      <td>9.970366</td>\n",
       "      <td>-499.201640</td>\n",
       "      <td>7.977324</td>\n",
       "      <td>-500.255908</td>\n",
       "      <td>14.005551</td>\n",
       "      <td>-599.996129</td>\n",
       "      <td>87.226430</td>\n",
       "      <td>68.347543</td>\n",
       "    </tr>\n",
       "    <tr>\n",
       "      <td>4</td>\n",
       "      <td>2016-01-15 04:00:00</td>\n",
       "      <td>117.988169</td>\n",
       "      <td>11.913613</td>\n",
       "      <td>7.25</td>\n",
       "      <td>1.009869</td>\n",
       "      <td>1601.339707</td>\n",
       "      <td>-498.975456</td>\n",
       "      <td>1601.437854</td>\n",
       "      <td>-500.323246</td>\n",
       "      <td>1599.581894</td>\n",
       "      <td>...</td>\n",
       "      <td>11.953070</td>\n",
       "      <td>-501.053894</td>\n",
       "      <td>9.925709</td>\n",
       "      <td>-501.686727</td>\n",
       "      <td>7.894242</td>\n",
       "      <td>-500.356035</td>\n",
       "      <td>13.996647</td>\n",
       "      <td>-601.496691</td>\n",
       "      <td>86.688794</td>\n",
       "      <td>66.927016</td>\n",
       "    </tr>\n",
       "  </tbody>\n",
       "</table>\n",
       "<p>5 rows × 55 columns</p>\n",
       "</div>"
      ],
      "text/plain": [
       "                  date  primary_cleaner.input.sulfate  \\\n",
       "0  2016-01-15 00:00:00                     127.092003   \n",
       "1  2016-01-15 01:00:00                     125.629232   \n",
       "2  2016-01-15 02:00:00                     123.819808   \n",
       "3  2016-01-15 03:00:00                     122.270188   \n",
       "4  2016-01-15 04:00:00                     117.988169   \n",
       "\n",
       "   primary_cleaner.input.depressant  primary_cleaner.input.feed_size  \\\n",
       "0                         10.128295                             7.25   \n",
       "1                         10.296251                             7.25   \n",
       "2                         11.316280                             7.25   \n",
       "3                         11.322140                             7.25   \n",
       "4                         11.913613                             7.25   \n",
       "\n",
       "   primary_cleaner.input.xanthate  primary_cleaner.state.floatbank8_a_air  \\\n",
       "0                        0.988759                             1549.775757   \n",
       "1                        1.002663                             1576.166671   \n",
       "2                        0.991265                             1601.556163   \n",
       "3                        0.996739                             1599.968720   \n",
       "4                        1.009869                             1601.339707   \n",
       "\n",
       "   primary_cleaner.state.floatbank8_a_level  \\\n",
       "0                               -498.912140   \n",
       "1                               -500.904965   \n",
       "2                               -499.997791   \n",
       "3                               -500.951778   \n",
       "4                               -498.975456   \n",
       "\n",
       "   primary_cleaner.state.floatbank8_b_air  \\\n",
       "0                             1551.434204   \n",
       "1                             1575.950626   \n",
       "2                             1600.386685   \n",
       "3                             1600.659236   \n",
       "4                             1601.437854   \n",
       "\n",
       "   primary_cleaner.state.floatbank8_b_level  \\\n",
       "0                               -516.403442   \n",
       "1                               -499.865889   \n",
       "2                               -500.607762   \n",
       "3                               -499.677094   \n",
       "4                               -500.323246   \n",
       "\n",
       "   primary_cleaner.state.floatbank8_c_air  ...  \\\n",
       "0                             1549.873901  ...   \n",
       "1                             1575.994189  ...   \n",
       "2                             1602.003542  ...   \n",
       "3                             1600.304144  ...   \n",
       "4                             1599.581894  ...   \n",
       "\n",
       "   secondary_cleaner.state.floatbank4_b_air  \\\n",
       "0                                 12.099931   \n",
       "1                                 11.950531   \n",
       "2                                 11.912783   \n",
       "3                                 11.999550   \n",
       "4                                 11.953070   \n",
       "\n",
       "   secondary_cleaner.state.floatbank4_b_level  \\\n",
       "0                                 -504.715942   \n",
       "1                                 -501.331529   \n",
       "2                                 -501.133383   \n",
       "3                                 -501.193686   \n",
       "4                                 -501.053894   \n",
       "\n",
       "   secondary_cleaner.state.floatbank5_a_air  \\\n",
       "0                                  9.925633   \n",
       "1                                 10.039245   \n",
       "2                                 10.070913   \n",
       "3                                  9.970366   \n",
       "4                                  9.925709   \n",
       "\n",
       "   secondary_cleaner.state.floatbank5_a_level  \\\n",
       "0                                 -498.310211   \n",
       "1                                 -500.169983   \n",
       "2                                 -500.129135   \n",
       "3                                 -499.201640   \n",
       "4                                 -501.686727   \n",
       "\n",
       "   secondary_cleaner.state.floatbank5_b_air  \\\n",
       "0                                  8.079666   \n",
       "1                                  7.984757   \n",
       "2                                  8.013877   \n",
       "3                                  7.977324   \n",
       "4                                  7.894242   \n",
       "\n",
       "   secondary_cleaner.state.floatbank5_b_level  \\\n",
       "0                                 -500.470978   \n",
       "1                                 -500.582168   \n",
       "2                                 -500.517572   \n",
       "3                                 -500.255908   \n",
       "4                                 -500.356035   \n",
       "\n",
       "   secondary_cleaner.state.floatbank6_a_air  \\\n",
       "0                                 14.151341   \n",
       "1                                 13.998353   \n",
       "2                                 14.028663   \n",
       "3                                 14.005551   \n",
       "4                                 13.996647   \n",
       "\n",
       "   secondary_cleaner.state.floatbank6_a_level  rougher.output.recovery  \\\n",
       "0                                 -605.841980                87.107763   \n",
       "1                                 -599.787184                86.843261   \n",
       "2                                 -601.427363                86.842308   \n",
       "3                                 -599.996129                87.226430   \n",
       "4                                 -601.496691                86.688794   \n",
       "\n",
       "   final.output.recovery  \n",
       "0              70.541216  \n",
       "1              69.266198  \n",
       "2              68.116445  \n",
       "3              68.347543  \n",
       "4              66.927016  \n",
       "\n",
       "[5 rows x 55 columns]"
      ]
     },
     "execution_count": 32,
     "metadata": {},
     "output_type": "execute_result"
    }
   ],
   "source": [
    "gold_full_cleared = pd.DataFrame(gold_full, index=intersection_indices, columns=gold_full.columns)[columns_model]\n",
    "gold_full_cleared.head()"
   ]
  },
  {
   "cell_type": "markdown",
   "metadata": {},
   "source": [
    "Отберем найденные наблюдения и в тренировочной выборке, найдя её пересечение по дате с полной выборкой."
   ]
  },
  {
   "cell_type": "code",
   "execution_count": 33,
   "metadata": {},
   "outputs": [
    {
     "name": "stdout",
     "output_type": "stream",
     "text": [
      "<class 'pandas.core.frame.DataFrame'>\n",
      "Int64Index: 13579 entries, 0 to 13578\n",
      "Data columns (total 55 columns):\n",
      "date                                          13579 non-null object\n",
      "primary_cleaner.input.sulfate                 13579 non-null float64\n",
      "primary_cleaner.input.depressant              13579 non-null float64\n",
      "primary_cleaner.input.feed_size               13579 non-null float64\n",
      "primary_cleaner.input.xanthate                13579 non-null float64\n",
      "primary_cleaner.state.floatbank8_a_air        13579 non-null float64\n",
      "primary_cleaner.state.floatbank8_a_level      13579 non-null float64\n",
      "primary_cleaner.state.floatbank8_b_air        13579 non-null float64\n",
      "primary_cleaner.state.floatbank8_b_level      13579 non-null float64\n",
      "primary_cleaner.state.floatbank8_c_air        13579 non-null float64\n",
      "primary_cleaner.state.floatbank8_c_level      13579 non-null float64\n",
      "primary_cleaner.state.floatbank8_d_air        13579 non-null float64\n",
      "primary_cleaner.state.floatbank8_d_level      13579 non-null float64\n",
      "rougher.input.feed_ag                         13579 non-null float64\n",
      "rougher.input.feed_pb                         13579 non-null float64\n",
      "rougher.input.feed_rate                       13579 non-null float64\n",
      "rougher.input.feed_size                       13579 non-null float64\n",
      "rougher.input.feed_sol                        13579 non-null float64\n",
      "rougher.input.feed_au                         13579 non-null float64\n",
      "rougher.input.floatbank10_sulfate             13579 non-null float64\n",
      "rougher.input.floatbank10_xanthate            13579 non-null float64\n",
      "rougher.input.floatbank11_sulfate             13579 non-null float64\n",
      "rougher.input.floatbank11_xanthate            13579 non-null float64\n",
      "rougher.state.floatbank10_a_air               13579 non-null float64\n",
      "rougher.state.floatbank10_a_level             13579 non-null float64\n",
      "rougher.state.floatbank10_b_air               13579 non-null float64\n",
      "rougher.state.floatbank10_b_level             13579 non-null float64\n",
      "rougher.state.floatbank10_c_air               13579 non-null float64\n",
      "rougher.state.floatbank10_c_level             13579 non-null float64\n",
      "rougher.state.floatbank10_d_air               13579 non-null float64\n",
      "rougher.state.floatbank10_d_level             13579 non-null float64\n",
      "rougher.state.floatbank10_e_air               13579 non-null float64\n",
      "rougher.state.floatbank10_e_level             13579 non-null float64\n",
      "rougher.state.floatbank10_f_air               13579 non-null float64\n",
      "rougher.state.floatbank10_f_level             13579 non-null float64\n",
      "secondary_cleaner.state.floatbank2_a_air      13579 non-null float64\n",
      "secondary_cleaner.state.floatbank2_a_level    13579 non-null float64\n",
      "secondary_cleaner.state.floatbank2_b_air      13579 non-null float64\n",
      "secondary_cleaner.state.floatbank2_b_level    13579 non-null float64\n",
      "secondary_cleaner.state.floatbank3_a_air      13579 non-null float64\n",
      "secondary_cleaner.state.floatbank3_a_level    13579 non-null float64\n",
      "secondary_cleaner.state.floatbank3_b_air      13579 non-null float64\n",
      "secondary_cleaner.state.floatbank3_b_level    13579 non-null float64\n",
      "secondary_cleaner.state.floatbank4_a_air      13579 non-null float64\n",
      "secondary_cleaner.state.floatbank4_a_level    13579 non-null float64\n",
      "secondary_cleaner.state.floatbank4_b_air      13579 non-null float64\n",
      "secondary_cleaner.state.floatbank4_b_level    13579 non-null float64\n",
      "secondary_cleaner.state.floatbank5_a_air      13579 non-null float64\n",
      "secondary_cleaner.state.floatbank5_a_level    13579 non-null float64\n",
      "secondary_cleaner.state.floatbank5_b_air      13579 non-null float64\n",
      "secondary_cleaner.state.floatbank5_b_level    13579 non-null float64\n",
      "secondary_cleaner.state.floatbank6_a_air      13579 non-null float64\n",
      "secondary_cleaner.state.floatbank6_a_level    13579 non-null float64\n",
      "rougher.output.recovery                       13579 non-null float64\n",
      "final.output.recovery                         13579 non-null float64\n",
      "dtypes: float64(54), object(1)\n",
      "memory usage: 5.8+ MB\n"
     ]
    }
   ],
   "source": [
    "gold_train_cleared = gold_train.merge(gold_full_cleared, on='date', how='inner',  suffixes=(None, '_y'))[columns_model]\n",
    "gold_train_cleared.info()"
   ]
  },
  {
   "cell_type": "markdown",
   "metadata": {},
   "source": [
    "Аналогично очистим тестовую выборку:"
   ]
  },
  {
   "cell_type": "code",
   "execution_count": 34,
   "metadata": {},
   "outputs": [
    {
     "name": "stdout",
     "output_type": "stream",
     "text": [
      "<class 'pandas.core.frame.DataFrame'>\n",
      "Int64Index: 5125 entries, 0 to 5124\n",
      "Data columns (total 55 columns):\n",
      "date                                          5125 non-null object\n",
      "primary_cleaner.input.sulfate                 5125 non-null float64\n",
      "primary_cleaner.input.depressant              5125 non-null float64\n",
      "primary_cleaner.input.feed_size               5125 non-null float64\n",
      "primary_cleaner.input.xanthate                5125 non-null float64\n",
      "primary_cleaner.state.floatbank8_a_air        5125 non-null float64\n",
      "primary_cleaner.state.floatbank8_a_level      5125 non-null float64\n",
      "primary_cleaner.state.floatbank8_b_air        5125 non-null float64\n",
      "primary_cleaner.state.floatbank8_b_level      5125 non-null float64\n",
      "primary_cleaner.state.floatbank8_c_air        5125 non-null float64\n",
      "primary_cleaner.state.floatbank8_c_level      5125 non-null float64\n",
      "primary_cleaner.state.floatbank8_d_air        5125 non-null float64\n",
      "primary_cleaner.state.floatbank8_d_level      5125 non-null float64\n",
      "rougher.input.feed_ag                         5125 non-null float64\n",
      "rougher.input.feed_pb                         5125 non-null float64\n",
      "rougher.input.feed_rate                       5125 non-null float64\n",
      "rougher.input.feed_size                       5125 non-null float64\n",
      "rougher.input.feed_sol                        5125 non-null float64\n",
      "rougher.input.feed_au                         5125 non-null float64\n",
      "rougher.input.floatbank10_sulfate             5125 non-null float64\n",
      "rougher.input.floatbank10_xanthate            5125 non-null float64\n",
      "rougher.input.floatbank11_sulfate             5125 non-null float64\n",
      "rougher.input.floatbank11_xanthate            5125 non-null float64\n",
      "rougher.state.floatbank10_a_air               5125 non-null float64\n",
      "rougher.state.floatbank10_a_level             5125 non-null float64\n",
      "rougher.state.floatbank10_b_air               5125 non-null float64\n",
      "rougher.state.floatbank10_b_level             5125 non-null float64\n",
      "rougher.state.floatbank10_c_air               5125 non-null float64\n",
      "rougher.state.floatbank10_c_level             5125 non-null float64\n",
      "rougher.state.floatbank10_d_air               5125 non-null float64\n",
      "rougher.state.floatbank10_d_level             5125 non-null float64\n",
      "rougher.state.floatbank10_e_air               5125 non-null float64\n",
      "rougher.state.floatbank10_e_level             5125 non-null float64\n",
      "rougher.state.floatbank10_f_air               5125 non-null float64\n",
      "rougher.state.floatbank10_f_level             5125 non-null float64\n",
      "secondary_cleaner.state.floatbank2_a_air      5125 non-null float64\n",
      "secondary_cleaner.state.floatbank2_a_level    5125 non-null float64\n",
      "secondary_cleaner.state.floatbank2_b_air      5125 non-null float64\n",
      "secondary_cleaner.state.floatbank2_b_level    5125 non-null float64\n",
      "secondary_cleaner.state.floatbank3_a_air      5125 non-null float64\n",
      "secondary_cleaner.state.floatbank3_a_level    5125 non-null float64\n",
      "secondary_cleaner.state.floatbank3_b_air      5125 non-null float64\n",
      "secondary_cleaner.state.floatbank3_b_level    5125 non-null float64\n",
      "secondary_cleaner.state.floatbank4_a_air      5125 non-null float64\n",
      "secondary_cleaner.state.floatbank4_a_level    5125 non-null float64\n",
      "secondary_cleaner.state.floatbank4_b_air      5125 non-null float64\n",
      "secondary_cleaner.state.floatbank4_b_level    5125 non-null float64\n",
      "secondary_cleaner.state.floatbank5_a_air      5125 non-null float64\n",
      "secondary_cleaner.state.floatbank5_a_level    5125 non-null float64\n",
      "secondary_cleaner.state.floatbank5_b_air      5125 non-null float64\n",
      "secondary_cleaner.state.floatbank5_b_level    5125 non-null float64\n",
      "secondary_cleaner.state.floatbank6_a_air      5125 non-null float64\n",
      "secondary_cleaner.state.floatbank6_a_level    5125 non-null float64\n",
      "rougher.output.recovery                       5125 non-null float64\n",
      "final.output.recovery                         5125 non-null float64\n",
      "dtypes: float64(54), object(1)\n",
      "memory usage: 2.2+ MB\n"
     ]
    }
   ],
   "source": [
    "gold_test_cleared = gold_test.merge(gold_full_cleared, on='date', how='inner',  suffixes=(None, '_y'))[columns_model]\n",
    "gold_test_cleared.info()"
   ]
  },
  {
   "cell_type": "markdown",
   "metadata": {},
   "source": [
    "Убедимся, что распредедения размеров гранул сырья в обучающей и тестовой выборках после очищения выбросов стали более близкими:"
   ]
  },
  {
   "cell_type": "code",
   "execution_count": 35,
   "metadata": {},
   "outputs": [
    {
     "data": {
      "image/png": "[encoded data removed]",
      "text/plain": [
       "<Figure size 1008x288 with 2 Axes>"
      ]
     },
     "metadata": {
      "needs_background": "light"
     },
     "output_type": "display_data"
    }
   ],
   "source": [
    "fig = plt.figure(figsize=(14, 4))\n",
    "gs = fig.add_gridspec(1, 2)\n",
    "\n",
    "rougher_size_train = gold_train_cleared['rougher.input.feed_size']\n",
    "rougher_size_test = gold_test_cleared['rougher.input.feed_size']\n",
    "\n",
    "with sns.axes_style(\"white\"):\n",
    "    ax1 = fig.add_subplot(gs[0, 0])\n",
    "    plt.axvline(x=rougher_size_train.mean(), color=\"red\", linewidth=2)\n",
    "    sns.kdeplot(rougher_size_train, legend=False)\n",
    "    ax1.set_title('График плотности распределения размеров гранул\\n исходного сырья на обучающей выборке')\n",
    "    plt.xlabel('Среднее арифм.: ' + str(round(np.mean(rougher_size_train), 3)) +\\\n",
    "               ',   СКО: ' + str(round(np.std(rougher_size_train), 3)))\n",
    "    \n",
    "with sns.axes_style(\"white\"):\n",
    "    ax2 = fig.add_subplot(gs[0, 1])\n",
    "    plt.axvline(x=rougher_size_test.mean(), color=\"red\", linewidth=2)\n",
    "    sns.kdeplot(rougher_size_test, legend=False)\n",
    "    ax2.set_title('График плотности распределения размеров гранул\\n исходного сырья на тестовой выборке')\n",
    "    plt.xlabel('Среднее арифм.: ' + str(round(np.mean(rougher_size_test), 3)) +\\\n",
    "               ',   СКО: ' + str(round(np.std(rougher_size_test), 3)))"
   ]
  },
  {
   "cell_type": "code",
   "execution_count": 36,
   "metadata": {},
   "outputs": [
    {
     "data": {
      "image/png": "[encoded data removed]",
      "text/plain": [
       "<Figure size 1008x288 with 2 Axes>"
      ]
     },
     "metadata": {
      "needs_background": "light"
     },
     "output_type": "display_data"
    }
   ],
   "source": [
    "fig = plt.figure(figsize=(14, 4))\n",
    "gs = fig.add_gridspec(1, 2)\n",
    "\n",
    "primary_size_train = gold_full_cleared['primary_cleaner.input.feed_size']\n",
    "primary_size_test = gold_full_cleared['primary_cleaner.input.feed_size']\n",
    "\n",
    "with sns.axes_style(\"white\"):\n",
    "    ax1 = fig.add_subplot(gs[0, 0])\n",
    "    plt.axvline(x=primary_size_train.mean(), color=\"red\", linewidth=2)\n",
    "    sns.kdeplot(primary_size_train, legend=False)\n",
    "    ax1.set_title('График плотности распределения размеров гранул\\n чернового концентрата на обучающей выборке')\n",
    "    plt.xlabel('Среднее арифм.: ' + str(round(np.mean(primary_size_train), 3)) +\\\n",
    "               ',   СКО: ' + str(round(np.std(primary_size_train), 3)))\n",
    "    \n",
    "with sns.axes_style(\"white\"):\n",
    "    ax2 = fig.add_subplot(gs[0, 1])\n",
    "    plt.axvline(x=primary_size_test.mean(), color=\"red\", linewidth=2)\n",
    "    sns.kdeplot(primary_size_test, legend=False)\n",
    "    ax2.set_title('График плотности распределения размеров гранул\\n чернового концентрата на тестовой выборке')\n",
    "    plt.xlabel('Среднее арифм.: ' + str(round(np.mean(primary_size_test), 3)) +\\\n",
    "               ',   СКО: ' + str(round(np.std(primary_size_test), 3)))"
   ]
  },
  {
   "cell_type": "markdown",
   "metadata": {},
   "source": [
    "Распределения практически идентичны.\n",
    "\n",
    "В исходных выборках наблюдения отсортированы по дате. Для повышения предсказательной способности моделей, в чатсности, при проведении кросс-валидации, перемешаем наблюдения в выборках. Также сохраним значения целевых и незавимисых признаков в соответствующих переменных."
   ]
  },
  {
   "cell_type": "code",
   "execution_count": 37,
   "metadata": {},
   "outputs": [
    {
     "name": "stdout",
     "output_type": "stream",
     "text": [
      "(18704,)\n",
      "(13579,)\n",
      "(5125,)\n",
      "(18704, 52)\n",
      "(13579, 52)\n",
      "(5125, 52)\n"
     ]
    }
   ],
   "source": [
    "gold_full_cleared = gold_full_cleared.sample(frac=1, random_state=12345).reset_index(drop=True)\n",
    "gold_train_cleared = gold_train_cleared.sample(frac=1, random_state=12345).reset_index(drop=True)\n",
    "gold_test_cleared = gold_test_cleared.sample(frac=1, random_state=12345).reset_index(drop=True)\n",
    "\n",
    "target_rougher_full = gold_full_cleared['rougher.output.recovery']\n",
    "target_final_full = gold_full_cleared['final.output.recovery']\n",
    "target_rougher_train = gold_train_cleared['rougher.output.recovery']\n",
    "target_final_train = gold_train_cleared['final.output.recovery']\n",
    "target_rougher_test = gold_test_cleared['rougher.output.recovery']\n",
    "target_final_test = gold_test_cleared['final.output.recovery']\n",
    "\n",
    "features_full = gold_full_cleared.drop(['rougher.output.recovery', 'final.output.recovery', 'date'], axis=1)\n",
    "features_train = gold_train_cleared.drop(['rougher.output.recovery', 'final.output.recovery', 'date'], axis=1)\n",
    "features_test = gold_test_cleared.drop(['rougher.output.recovery', 'final.output.recovery', 'date'], axis=1)\n",
    "\n",
    "print(target_rougher_full.shape)\n",
    "print(target_rougher_train.shape)\n",
    "print(target_rougher_test.shape)\n",
    "print(features_full.shape)\n",
    "print(features_train.shape)\n",
    "print(features_test.shape)"
   ]
  },
  {
   "cell_type": "markdown",
   "metadata": {},
   "source": [
    "Стандартизируем признаки во всех выборках на основе среднего и дисперсии обучающей выборки."
   ]
  },
  {
   "cell_type": "code",
   "execution_count": 38,
   "metadata": {},
   "outputs": [],
   "source": [
    "scaler = StandardScaler()\n",
    "scaler.fit(features_train)\n",
    "\n",
    "features_full = pd.DataFrame(scaler.transform(features_full), index=features_full.index, columns=features_full.columns)\n",
    "features_train = pd.DataFrame(scaler.transform(features_train), index=features_train.index, columns=features_train.columns)\n",
    "features_test = pd.DataFrame(scaler.transform(features_test), index=features_test.index, columns=features_test.columns)"
   ]
  },
  {
   "cell_type": "markdown",
   "metadata": {},
   "source": [
    "Для определения статистически значимых переменных построим предварительную модель регрессии для первого целевого признака:"
   ]
  },
  {
   "cell_type": "code",
   "execution_count": 39,
   "metadata": {},
   "outputs": [
    {
     "name": "stderr",
     "output_type": "stream",
     "text": [
      "/opt/conda/lib/python3.7/site-packages/numpy/core/fromnumeric.py:2580: FutureWarning: Method .ptp is deprecated and will be removed in a future version. Use numpy.ptp instead.\n",
      "  return ptp(axis=axis, out=out, **kwargs)\n"
     ]
    },
    {
     "data": {
      "text/html": [
       "<table class=\"simpletable\">\n",
       "<caption>OLS Regression Results</caption>\n",
       "<tr>\n",
       "  <th>Dep. Variable:</th>    <td>rougher.output.recovery</td> <th>  R-squared:         </th> <td>   0.552</td> \n",
       "</tr>\n",
       "<tr>\n",
       "  <th>Model:</th>                      <td>OLS</td>           <th>  Adj. R-squared:    </th> <td>   0.550</td> \n",
       "</tr>\n",
       "<tr>\n",
       "  <th>Method:</th>                <td>Least Squares</td>      <th>  F-statistic:       </th> <td>   319.9</td> \n",
       "</tr>\n",
       "<tr>\n",
       "  <th>Date:</th>                <td>Wed, 03 Feb 2021</td>     <th>  Prob (F-statistic):</th>  <td>  0.00</td>  \n",
       "</tr>\n",
       "<tr>\n",
       "  <th>Time:</th>                    <td>10:47:50</td>         <th>  Log-Likelihood:    </th> <td> -41743.</td> \n",
       "</tr>\n",
       "<tr>\n",
       "  <th>No. Observations:</th>         <td> 13579</td>          <th>  AIC:               </th> <td>8.359e+04</td>\n",
       "</tr>\n",
       "<tr>\n",
       "  <th>Df Residuals:</th>             <td> 13526</td>          <th>  BIC:               </th> <td>8.399e+04</td>\n",
       "</tr>\n",
       "<tr>\n",
       "  <th>Df Model:</th>                 <td>    52</td>          <th>                     </th>     <td> </td>    \n",
       "</tr>\n",
       "<tr>\n",
       "  <th>Covariance Type:</th>         <td>nonrobust</td>        <th>                     </th>     <td> </td>    \n",
       "</tr>\n",
       "</table>\n",
       "<table class=\"simpletable\">\n",
       "<tr>\n",
       "                       <td></td>                         <th>coef</th>     <th>std err</th>      <th>t</th>      <th>P>|t|</th>  <th>[0.025</th>    <th>0.975]</th>  \n",
       "</tr>\n",
       "<tr>\n",
       "  <th>const</th>                                      <td>   84.6227</td> <td>    0.045</td> <td> 1880.378</td> <td> 0.000</td> <td>   84.534</td> <td>   84.711</td>\n",
       "</tr>\n",
       "<tr>\n",
       "  <th>primary_cleaner.input.sulfate</th>              <td>    1.8421</td> <td>    0.091</td> <td>   20.271</td> <td> 0.000</td> <td>    1.664</td> <td>    2.020</td>\n",
       "</tr>\n",
       "<tr>\n",
       "  <th>primary_cleaner.input.depressant</th>           <td>   -0.1413</td> <td>    0.072</td> <td>   -1.970</td> <td> 0.049</td> <td>   -0.282</td> <td>   -0.001</td>\n",
       "</tr>\n",
       "<tr>\n",
       "  <th>primary_cleaner.input.feed_size</th>            <td>    0.5226</td> <td>    0.055</td> <td>    9.465</td> <td> 0.000</td> <td>    0.414</td> <td>    0.631</td>\n",
       "</tr>\n",
       "<tr>\n",
       "  <th>primary_cleaner.input.xanthate</th>             <td>   -0.2243</td> <td>    0.061</td> <td>   -3.654</td> <td> 0.000</td> <td>   -0.345</td> <td>   -0.104</td>\n",
       "</tr>\n",
       "<tr>\n",
       "  <th>primary_cleaner.state.floatbank8_a_air</th>     <td>   -0.1531</td> <td>    0.172</td> <td>   -0.890</td> <td> 0.374</td> <td>   -0.490</td> <td>    0.184</td>\n",
       "</tr>\n",
       "<tr>\n",
       "  <th>primary_cleaner.state.floatbank8_a_level</th>   <td>    0.3874</td> <td>    0.216</td> <td>    1.794</td> <td> 0.073</td> <td>   -0.036</td> <td>    0.811</td>\n",
       "</tr>\n",
       "<tr>\n",
       "  <th>primary_cleaner.state.floatbank8_b_air</th>     <td>    1.2421</td> <td>    0.182</td> <td>    6.825</td> <td> 0.000</td> <td>    0.885</td> <td>    1.599</td>\n",
       "</tr>\n",
       "<tr>\n",
       "  <th>primary_cleaner.state.floatbank8_b_level</th>   <td>   -0.5915</td> <td>    0.180</td> <td>   -3.281</td> <td> 0.001</td> <td>   -0.945</td> <td>   -0.238</td>\n",
       "</tr>\n",
       "<tr>\n",
       "  <th>primary_cleaner.state.floatbank8_c_air</th>     <td>   -0.3887</td> <td>    0.169</td> <td>   -2.300</td> <td> 0.021</td> <td>   -0.720</td> <td>   -0.058</td>\n",
       "</tr>\n",
       "<tr>\n",
       "  <th>primary_cleaner.state.floatbank8_c_level</th>   <td>    0.5052</td> <td>    0.179</td> <td>    2.830</td> <td> 0.005</td> <td>    0.155</td> <td>    0.855</td>\n",
       "</tr>\n",
       "<tr>\n",
       "  <th>primary_cleaner.state.floatbank8_d_air</th>     <td>   -0.9643</td> <td>    0.066</td> <td>  -14.695</td> <td> 0.000</td> <td>   -1.093</td> <td>   -0.836</td>\n",
       "</tr>\n",
       "<tr>\n",
       "  <th>primary_cleaner.state.floatbank8_d_level</th>   <td>   -0.0982</td> <td>    0.069</td> <td>   -1.427</td> <td> 0.154</td> <td>   -0.233</td> <td>    0.037</td>\n",
       "</tr>\n",
       "<tr>\n",
       "  <th>rougher.input.feed_ag</th>                      <td>    1.0731</td> <td>    0.103</td> <td>   10.390</td> <td> 0.000</td> <td>    0.871</td> <td>    1.276</td>\n",
       "</tr>\n",
       "<tr>\n",
       "  <th>rougher.input.feed_pb</th>                      <td>    0.2900</td> <td>    0.089</td> <td>    3.264</td> <td> 0.001</td> <td>    0.116</td> <td>    0.464</td>\n",
       "</tr>\n",
       "<tr>\n",
       "  <th>rougher.input.feed_rate</th>                    <td>   -1.7899</td> <td>    0.097</td> <td>  -18.452</td> <td> 0.000</td> <td>   -1.980</td> <td>   -1.600</td>\n",
       "</tr>\n",
       "<tr>\n",
       "  <th>rougher.input.feed_size</th>                    <td>    0.2214</td> <td>    0.063</td> <td>    3.499</td> <td> 0.000</td> <td>    0.097</td> <td>    0.345</td>\n",
       "</tr>\n",
       "<tr>\n",
       "  <th>rougher.input.feed_sol</th>                     <td>    1.6890</td> <td>    0.066</td> <td>   25.500</td> <td> 0.000</td> <td>    1.559</td> <td>    1.819</td>\n",
       "</tr>\n",
       "<tr>\n",
       "  <th>rougher.input.feed_au</th>                      <td>    0.4189</td> <td>    0.134</td> <td>    3.116</td> <td> 0.002</td> <td>    0.155</td> <td>    0.682</td>\n",
       "</tr>\n",
       "<tr>\n",
       "  <th>rougher.input.floatbank10_sulfate</th>          <td>   -2.2458</td> <td>    0.177</td> <td>  -12.694</td> <td> 0.000</td> <td>   -2.593</td> <td>   -1.899</td>\n",
       "</tr>\n",
       "<tr>\n",
       "  <th>rougher.input.floatbank10_xanthate</th>         <td>    2.4377</td> <td>    0.161</td> <td>   15.156</td> <td> 0.000</td> <td>    2.122</td> <td>    2.753</td>\n",
       "</tr>\n",
       "<tr>\n",
       "  <th>rougher.input.floatbank11_sulfate</th>          <td>    0.9116</td> <td>    0.196</td> <td>    4.661</td> <td> 0.000</td> <td>    0.528</td> <td>    1.295</td>\n",
       "</tr>\n",
       "<tr>\n",
       "  <th>rougher.input.floatbank11_xanthate</th>         <td>   -1.1212</td> <td>    0.199</td> <td>   -5.637</td> <td> 0.000</td> <td>   -1.511</td> <td>   -0.731</td>\n",
       "</tr>\n",
       "<tr>\n",
       "  <th>rougher.state.floatbank10_a_air</th>            <td>   -1.0543</td> <td>    0.085</td> <td>  -12.453</td> <td> 0.000</td> <td>   -1.220</td> <td>   -0.888</td>\n",
       "</tr>\n",
       "<tr>\n",
       "  <th>rougher.state.floatbank10_a_level</th>          <td>    1.7764</td> <td>    0.106</td> <td>   16.830</td> <td> 0.000</td> <td>    1.569</td> <td>    1.983</td>\n",
       "</tr>\n",
       "<tr>\n",
       "  <th>rougher.state.floatbank10_b_air</th>            <td>   -0.5790</td> <td>    0.177</td> <td>   -3.270</td> <td> 0.001</td> <td>   -0.926</td> <td>   -0.232</td>\n",
       "</tr>\n",
       "<tr>\n",
       "  <th>rougher.state.floatbank10_b_level</th>          <td>    1.3508</td> <td>    0.322</td> <td>    4.197</td> <td> 0.000</td> <td>    0.720</td> <td>    1.982</td>\n",
       "</tr>\n",
       "<tr>\n",
       "  <th>rougher.state.floatbank10_c_air</th>            <td>   -0.7628</td> <td>    0.149</td> <td>   -5.130</td> <td> 0.000</td> <td>   -1.054</td> <td>   -0.471</td>\n",
       "</tr>\n",
       "<tr>\n",
       "  <th>rougher.state.floatbank10_c_level</th>          <td>   -0.2317</td> <td>    0.465</td> <td>   -0.498</td> <td> 0.618</td> <td>   -1.143</td> <td>    0.679</td>\n",
       "</tr>\n",
       "<tr>\n",
       "  <th>rougher.state.floatbank10_d_air</th>            <td>   -0.8865</td> <td>    0.205</td> <td>   -4.327</td> <td> 0.000</td> <td>   -1.288</td> <td>   -0.485</td>\n",
       "</tr>\n",
       "<tr>\n",
       "  <th>rougher.state.floatbank10_d_level</th>          <td>   -0.4979</td> <td>    0.317</td> <td>   -1.572</td> <td> 0.116</td> <td>   -1.119</td> <td>    0.123</td>\n",
       "</tr>\n",
       "<tr>\n",
       "  <th>rougher.state.floatbank10_e_air</th>            <td>   -1.7533</td> <td>    0.169</td> <td>  -10.385</td> <td> 0.000</td> <td>   -2.084</td> <td>   -1.422</td>\n",
       "</tr>\n",
       "<tr>\n",
       "  <th>rougher.state.floatbank10_e_level</th>          <td>    0.0496</td> <td>    0.372</td> <td>    0.133</td> <td> 0.894</td> <td>   -0.680</td> <td>    0.779</td>\n",
       "</tr>\n",
       "<tr>\n",
       "  <th>rougher.state.floatbank10_f_air</th>            <td>    2.9881</td> <td>    0.171</td> <td>   17.434</td> <td> 0.000</td> <td>    2.652</td> <td>    3.324</td>\n",
       "</tr>\n",
       "<tr>\n",
       "  <th>rougher.state.floatbank10_f_level</th>          <td>   -0.8622</td> <td>    0.320</td> <td>   -2.696</td> <td> 0.007</td> <td>   -1.489</td> <td>   -0.235</td>\n",
       "</tr>\n",
       "<tr>\n",
       "  <th>secondary_cleaner.state.floatbank2_a_air</th>   <td>    0.9233</td> <td>    0.154</td> <td>    5.997</td> <td> 0.000</td> <td>    0.622</td> <td>    1.225</td>\n",
       "</tr>\n",
       "<tr>\n",
       "  <th>secondary_cleaner.state.floatbank2_a_level</th> <td>    0.4619</td> <td>    0.111</td> <td>    4.147</td> <td> 0.000</td> <td>    0.244</td> <td>    0.680</td>\n",
       "</tr>\n",
       "<tr>\n",
       "  <th>secondary_cleaner.state.floatbank2_b_air</th>   <td>   -0.6566</td> <td>    0.168</td> <td>   -3.907</td> <td> 0.000</td> <td>   -0.986</td> <td>   -0.327</td>\n",
       "</tr>\n",
       "<tr>\n",
       "  <th>secondary_cleaner.state.floatbank2_b_level</th> <td>   -1.1573</td> <td>    0.115</td> <td>  -10.049</td> <td> 0.000</td> <td>   -1.383</td> <td>   -0.932</td>\n",
       "</tr>\n",
       "<tr>\n",
       "  <th>secondary_cleaner.state.floatbank3_a_air</th>   <td>    1.2425</td> <td>    0.105</td> <td>   11.827</td> <td> 0.000</td> <td>    1.037</td> <td>    1.448</td>\n",
       "</tr>\n",
       "<tr>\n",
       "  <th>secondary_cleaner.state.floatbank3_a_level</th> <td>   -0.8707</td> <td>    0.104</td> <td>   -8.344</td> <td> 0.000</td> <td>   -1.075</td> <td>   -0.666</td>\n",
       "</tr>\n",
       "<tr>\n",
       "  <th>secondary_cleaner.state.floatbank3_b_air</th>   <td>   -1.0434</td> <td>    0.094</td> <td>  -11.145</td> <td> 0.000</td> <td>   -1.227</td> <td>   -0.860</td>\n",
       "</tr>\n",
       "<tr>\n",
       "  <th>secondary_cleaner.state.floatbank3_b_level</th> <td>    0.5362</td> <td>    0.092</td> <td>    5.836</td> <td> 0.000</td> <td>    0.356</td> <td>    0.716</td>\n",
       "</tr>\n",
       "<tr>\n",
       "  <th>secondary_cleaner.state.floatbank4_a_air</th>   <td>   -0.7070</td> <td>    0.161</td> <td>   -4.397</td> <td> 0.000</td> <td>   -1.022</td> <td>   -0.392</td>\n",
       "</tr>\n",
       "<tr>\n",
       "  <th>secondary_cleaner.state.floatbank4_a_level</th> <td>    0.2777</td> <td>    0.131</td> <td>    2.114</td> <td> 0.035</td> <td>    0.020</td> <td>    0.535</td>\n",
       "</tr>\n",
       "<tr>\n",
       "  <th>secondary_cleaner.state.floatbank4_b_air</th>   <td>    0.8928</td> <td>    0.199</td> <td>    4.492</td> <td> 0.000</td> <td>    0.503</td> <td>    1.282</td>\n",
       "</tr>\n",
       "<tr>\n",
       "  <th>secondary_cleaner.state.floatbank4_b_level</th> <td>    0.4001</td> <td>    0.109</td> <td>    3.672</td> <td> 0.000</td> <td>    0.187</td> <td>    0.614</td>\n",
       "</tr>\n",
       "<tr>\n",
       "  <th>secondary_cleaner.state.floatbank5_a_air</th>   <td>    1.4813</td> <td>    0.127</td> <td>   11.681</td> <td> 0.000</td> <td>    1.233</td> <td>    1.730</td>\n",
       "</tr>\n",
       "<tr>\n",
       "  <th>secondary_cleaner.state.floatbank5_a_level</th> <td>   -0.1013</td> <td>    0.125</td> <td>   -0.811</td> <td> 0.418</td> <td>   -0.346</td> <td>    0.144</td>\n",
       "</tr>\n",
       "<tr>\n",
       "  <th>secondary_cleaner.state.floatbank5_b_air</th>   <td>   -0.6755</td> <td>    0.168</td> <td>   -4.012</td> <td> 0.000</td> <td>   -1.006</td> <td>   -0.345</td>\n",
       "</tr>\n",
       "<tr>\n",
       "  <th>secondary_cleaner.state.floatbank5_b_level</th> <td>    0.9563</td> <td>    0.106</td> <td>    8.992</td> <td> 0.000</td> <td>    0.748</td> <td>    1.165</td>\n",
       "</tr>\n",
       "<tr>\n",
       "  <th>secondary_cleaner.state.floatbank6_a_air</th>   <td>   -0.8118</td> <td>    0.101</td> <td>   -8.007</td> <td> 0.000</td> <td>   -1.010</td> <td>   -0.613</td>\n",
       "</tr>\n",
       "<tr>\n",
       "  <th>secondary_cleaner.state.floatbank6_a_level</th> <td>   -0.6943</td> <td>    0.062</td> <td>  -11.178</td> <td> 0.000</td> <td>   -0.816</td> <td>   -0.573</td>\n",
       "</tr>\n",
       "</table>\n",
       "<table class=\"simpletable\">\n",
       "<tr>\n",
       "  <th>Omnibus:</th>       <td>6215.745</td> <th>  Durbin-Watson:     </th>  <td>   1.998</td> \n",
       "</tr>\n",
       "<tr>\n",
       "  <th>Prob(Omnibus):</th>  <td> 0.000</td>  <th>  Jarque-Bera (JB):  </th> <td>113004.793</td>\n",
       "</tr>\n",
       "<tr>\n",
       "  <th>Skew:</th>           <td>-1.748</td>  <th>  Prob(JB):          </th>  <td>    0.00</td> \n",
       "</tr>\n",
       "<tr>\n",
       "  <th>Kurtosis:</th>       <td>16.693</td>  <th>  Cond. No.          </th>  <td>    40.9</td> \n",
       "</tr>\n",
       "</table><br/><br/>Warnings:<br/>[1] Standard Errors assume that the covariance matrix of the errors is correctly specified."
      ],
      "text/plain": [
       "<class 'statsmodels.iolib.summary.Summary'>\n",
       "\"\"\"\n",
       "                               OLS Regression Results                              \n",
       "===================================================================================\n",
       "Dep. Variable:     rougher.output.recovery   R-squared:                       0.552\n",
       "Model:                                 OLS   Adj. R-squared:                  0.550\n",
       "Method:                      Least Squares   F-statistic:                     319.9\n",
       "Date:                     Wed, 03 Feb 2021   Prob (F-statistic):               0.00\n",
       "Time:                             10:47:50   Log-Likelihood:                -41743.\n",
       "No. Observations:                    13579   AIC:                         8.359e+04\n",
       "Df Residuals:                        13526   BIC:                         8.399e+04\n",
       "Df Model:                               52                                         \n",
       "Covariance Type:                 nonrobust                                         \n",
       "==============================================================================================================\n",
       "                                                 coef    std err          t      P>|t|      [0.025      0.975]\n",
       "--------------------------------------------------------------------------------------------------------------\n",
       "const                                         84.6227      0.045   1880.378      0.000      84.534      84.711\n",
       "primary_cleaner.input.sulfate                  1.8421      0.091     20.271      0.000       1.664       2.020\n",
       "primary_cleaner.input.depressant              -0.1413      0.072     -1.970      0.049      -0.282      -0.001\n",
       "primary_cleaner.input.feed_size                0.5226      0.055      9.465      0.000       0.414       0.631\n",
       "primary_cleaner.input.xanthate                -0.2243      0.061     -3.654      0.000      -0.345      -0.104\n",
       "primary_cleaner.state.floatbank8_a_air        -0.1531      0.172     -0.890      0.374      -0.490       0.184\n",
       "primary_cleaner.state.floatbank8_a_level       0.3874      0.216      1.794      0.073      -0.036       0.811\n",
       "primary_cleaner.state.floatbank8_b_air         1.2421      0.182      6.825      0.000       0.885       1.599\n",
       "primary_cleaner.state.floatbank8_b_level      -0.5915      0.180     -3.281      0.001      -0.945      -0.238\n",
       "primary_cleaner.state.floatbank8_c_air        -0.3887      0.169     -2.300      0.021      -0.720      -0.058\n",
       "primary_cleaner.state.floatbank8_c_level       0.5052      0.179      2.830      0.005       0.155       0.855\n",
       "primary_cleaner.state.floatbank8_d_air        -0.9643      0.066    -14.695      0.000      -1.093      -0.836\n",
       "primary_cleaner.state.floatbank8_d_level      -0.0982      0.069     -1.427      0.154      -0.233       0.037\n",
       "rougher.input.feed_ag                          1.0731      0.103     10.390      0.000       0.871       1.276\n",
       "rougher.input.feed_pb                          0.2900      0.089      3.264      0.001       0.116       0.464\n",
       "rougher.input.feed_rate                       -1.7899      0.097    -18.452      0.000      -1.980      -1.600\n",
       "rougher.input.feed_size                        0.2214      0.063      3.499      0.000       0.097       0.345\n",
       "rougher.input.feed_sol                         1.6890      0.066     25.500      0.000       1.559       1.819\n",
       "rougher.input.feed_au                          0.4189      0.134      3.116      0.002       0.155       0.682\n",
       "rougher.input.floatbank10_sulfate             -2.2458      0.177    -12.694      0.000      -2.593      -1.899\n",
       "rougher.input.floatbank10_xanthate             2.4377      0.161     15.156      0.000       2.122       2.753\n",
       "rougher.input.floatbank11_sulfate              0.9116      0.196      4.661      0.000       0.528       1.295\n",
       "rougher.input.floatbank11_xanthate            -1.1212      0.199     -5.637      0.000      -1.511      -0.731\n",
       "rougher.state.floatbank10_a_air               -1.0543      0.085    -12.453      0.000      -1.220      -0.888\n",
       "rougher.state.floatbank10_a_level              1.7764      0.106     16.830      0.000       1.569       1.983\n",
       "rougher.state.floatbank10_b_air               -0.5790      0.177     -3.270      0.001      -0.926      -0.232\n",
       "rougher.state.floatbank10_b_level              1.3508      0.322      4.197      0.000       0.720       1.982\n",
       "rougher.state.floatbank10_c_air               -0.7628      0.149     -5.130      0.000      -1.054      -0.471\n",
       "rougher.state.floatbank10_c_level             -0.2317      0.465     -0.498      0.618      -1.143       0.679\n",
       "rougher.state.floatbank10_d_air               -0.8865      0.205     -4.327      0.000      -1.288      -0.485\n",
       "rougher.state.floatbank10_d_level             -0.4979      0.317     -1.572      0.116      -1.119       0.123\n",
       "rougher.state.floatbank10_e_air               -1.7533      0.169    -10.385      0.000      -2.084      -1.422\n",
       "rougher.state.floatbank10_e_level              0.0496      0.372      0.133      0.894      -0.680       0.779\n",
       "rougher.state.floatbank10_f_air                2.9881      0.171     17.434      0.000       2.652       3.324\n",
       "rougher.state.floatbank10_f_level             -0.8622      0.320     -2.696      0.007      -1.489      -0.235\n",
       "secondary_cleaner.state.floatbank2_a_air       0.9233      0.154      5.997      0.000       0.622       1.225\n",
       "secondary_cleaner.state.floatbank2_a_level     0.4619      0.111      4.147      0.000       0.244       0.680\n",
       "secondary_cleaner.state.floatbank2_b_air      -0.6566      0.168     -3.907      0.000      -0.986      -0.327\n",
       "secondary_cleaner.state.floatbank2_b_level    -1.1573      0.115    -10.049      0.000      -1.383      -0.932\n",
       "secondary_cleaner.state.floatbank3_a_air       1.2425      0.105     11.827      0.000       1.037       1.448\n",
       "secondary_cleaner.state.floatbank3_a_level    -0.8707      0.104     -8.344      0.000      -1.075      -0.666\n",
       "secondary_cleaner.state.floatbank3_b_air      -1.0434      0.094    -11.145      0.000      -1.227      -0.860\n",
       "secondary_cleaner.state.floatbank3_b_level     0.5362      0.092      5.836      0.000       0.356       0.716\n",
       "secondary_cleaner.state.floatbank4_a_air      -0.7070      0.161     -4.397      0.000      -1.022      -0.392\n",
       "secondary_cleaner.state.floatbank4_a_level     0.2777      0.131      2.114      0.035       0.020       0.535\n",
       "secondary_cleaner.state.floatbank4_b_air       0.8928      0.199      4.492      0.000       0.503       1.282\n",
       "secondary_cleaner.state.floatbank4_b_level     0.4001      0.109      3.672      0.000       0.187       0.614\n",
       "secondary_cleaner.state.floatbank5_a_air       1.4813      0.127     11.681      0.000       1.233       1.730\n",
       "secondary_cleaner.state.floatbank5_a_level    -0.1013      0.125     -0.811      0.418      -0.346       0.144\n",
       "secondary_cleaner.state.floatbank5_b_air      -0.6755      0.168     -4.012      0.000      -1.006      -0.345\n",
       "secondary_cleaner.state.floatbank5_b_level     0.9563      0.106      8.992      0.000       0.748       1.165\n",
       "secondary_cleaner.state.floatbank6_a_air      -0.8118      0.101     -8.007      0.000      -1.010      -0.613\n",
       "secondary_cleaner.state.floatbank6_a_level    -0.6943      0.062    -11.178      0.000      -0.816      -0.573\n",
       "==============================================================================\n",
       "Omnibus:                     6215.745   Durbin-Watson:                   1.998\n",
       "Prob(Omnibus):                  0.000   Jarque-Bera (JB):           113004.793\n",
       "Skew:                          -1.748   Prob(JB):                         0.00\n",
       "Kurtosis:                      16.693   Cond. No.                         40.9\n",
       "==============================================================================\n",
       "\n",
       "Warnings:\n",
       "[1] Standard Errors assume that the covariance matrix of the errors is correctly specified.\n",
       "\"\"\""
      ]
     },
     "metadata": {},
     "output_type": "display_data"
    }
   ],
   "source": [
    "Y = target_rougher_train\n",
    "X = features_train\n",
    "X = sm.add_constant(X)\n",
    "\n",
    "pre_model_rougher = sm.OLS(Y, X)\n",
    "results = pre_model_rougher.fit()\n",
    "display(results.summary())"
   ]
  },
  {
   "cell_type": "markdown",
   "metadata": {},
   "source": [
    "Отсортируем переменные по значению p.value:"
   ]
  },
  {
   "cell_type": "code",
   "execution_count": 40,
   "metadata": {},
   "outputs": [
    {
     "data": {
      "text/plain": [
       "const                                         0.000\n",
       "secondary_cleaner.state.floatbank6_a_air      0.000\n",
       "rougher.state.floatbank10_c_air               0.000\n",
       "rougher.state.floatbank10_d_air               0.000\n",
       "rougher.state.floatbank10_e_air               0.000\n",
       "rougher.state.floatbank10_f_air               0.000\n",
       "secondary_cleaner.state.floatbank2_a_air      0.000\n",
       "secondary_cleaner.state.floatbank2_a_level    0.000\n",
       "secondary_cleaner.state.floatbank2_b_air      0.000\n",
       "secondary_cleaner.state.floatbank2_b_level    0.000\n",
       "secondary_cleaner.state.floatbank3_a_air      0.000\n",
       "secondary_cleaner.state.floatbank3_a_level    0.000\n",
       "secondary_cleaner.state.floatbank3_b_air      0.000\n",
       "secondary_cleaner.state.floatbank3_b_level    0.000\n",
       "secondary_cleaner.state.floatbank4_a_air      0.000\n",
       "secondary_cleaner.state.floatbank4_b_air      0.000\n",
       "secondary_cleaner.state.floatbank4_b_level    0.000\n",
       "secondary_cleaner.state.floatbank5_a_air      0.000\n",
       "secondary_cleaner.state.floatbank5_b_air      0.000\n",
       "secondary_cleaner.state.floatbank5_b_level    0.000\n",
       "rougher.state.floatbank10_a_level             0.000\n",
       "rougher.state.floatbank10_a_air               0.000\n",
       "rougher.state.floatbank10_b_level             0.000\n",
       "rougher.input.floatbank11_sulfate             0.000\n",
       "primary_cleaner.input.sulfate                 0.000\n",
       "primary_cleaner.input.feed_size               0.000\n",
       "primary_cleaner.input.xanthate                0.000\n",
       "primary_cleaner.state.floatbank8_b_air        0.000\n",
       "primary_cleaner.state.floatbank8_d_air        0.000\n",
       "rougher.input.floatbank11_xanthate            0.000\n",
       "rougher.input.feed_ag                         0.000\n",
       "rougher.input.feed_rate                       0.000\n",
       "secondary_cleaner.state.floatbank6_a_level    0.000\n",
       "rougher.input.feed_size                       0.000\n",
       "rougher.input.floatbank10_xanthate            0.000\n",
       "rougher.input.feed_sol                        0.000\n",
       "rougher.input.floatbank10_sulfate             0.000\n",
       "rougher.input.feed_pb                         0.001\n",
       "rougher.state.floatbank10_b_air               0.001\n",
       "primary_cleaner.state.floatbank8_b_level      0.001\n",
       "rougher.input.feed_au                         0.002\n",
       "primary_cleaner.state.floatbank8_c_level      0.005\n",
       "rougher.state.floatbank10_f_level             0.007\n",
       "primary_cleaner.state.floatbank8_c_air        0.021\n",
       "secondary_cleaner.state.floatbank4_a_level    0.035\n",
       "primary_cleaner.input.depressant              0.049\n",
       "primary_cleaner.state.floatbank8_a_level      0.073\n",
       "rougher.state.floatbank10_d_level             0.116\n",
       "primary_cleaner.state.floatbank8_d_level      0.154\n",
       "primary_cleaner.state.floatbank8_a_air        0.374\n",
       "secondary_cleaner.state.floatbank5_a_level    0.418\n",
       "rougher.state.floatbank10_c_level             0.618\n",
       "rougher.state.floatbank10_e_level             0.894\n",
       "dtype: float64"
      ]
     },
     "execution_count": 40,
     "metadata": {},
     "output_type": "execute_result"
    }
   ],
   "source": [
    "pvals = results.pvalues.round(3).sort_values()\n",
    "pvals"
   ]
  },
  {
   "cell_type": "markdown",
   "metadata": {},
   "source": [
    "Найдем такое пороговое значение p.value, при котором информационный критерий Акаике (AIC) минимален. Это позволит исключить из последующих моделей избыточные переменные. Названия оставшихся переменных сохраним в списке `rougher_features`. "
   ]
  },
  {
   "cell_type": "code",
   "execution_count": 41,
   "metadata": {},
   "outputs": [
    {
     "name": "stderr",
     "output_type": "stream",
     "text": [
      "100%|██████████| 20/20 [00:10<00:00,  1.87it/s]"
     ]
    },
    {
     "name": "stdout",
     "output_type": "stream",
     "text": [
      "29 83586.12559209722\n"
     ]
    },
    {
     "name": "stderr",
     "output_type": "stream",
     "text": [
      "\n"
     ]
    }
   ],
   "source": [
    "rougher_features = []\n",
    "\n",
    "best_aic = 1_000_000\n",
    "best_i = 0\n",
    "for i in tqdm(range(10, 30)):\n",
    "    \n",
    "    selected_features = pvals[pvals<(i/100)].index.tolist()\n",
    "    selected_features.remove('const')\n",
    "    \n",
    "    Y = target_rougher_train\n",
    "    X = features_train[selected_features]\n",
    "    X = sm.add_constant(X)\n",
    "\n",
    "    model_rougher = sm.OLS(Y, X)\n",
    "    results = model_rougher.fit()\n",
    "    \n",
    "    if results.aic <= best_aic:\n",
    "        best_i = i\n",
    "        best_aic = results.aic\n",
    "        rougher_features = selected_features\n",
    "       \n",
    "print(best_i, best_aic)"
   ]
  },
  {
   "cell_type": "markdown",
   "metadata": {},
   "source": [
    "Аналогично построим предварительную модель для второго целевого признака:"
   ]
  },
  {
   "cell_type": "code",
   "execution_count": 42,
   "metadata": {},
   "outputs": [
    {
     "data": {
      "text/html": [
       "<table class=\"simpletable\">\n",
       "<caption>OLS Regression Results</caption>\n",
       "<tr>\n",
       "  <th>Dep. Variable:</th>    <td>final.output.recovery</td> <th>  R-squared:         </th> <td>   0.359</td> \n",
       "</tr>\n",
       "<tr>\n",
       "  <th>Model:</th>                     <td>OLS</td>          <th>  Adj. R-squared:    </th> <td>   0.356</td> \n",
       "</tr>\n",
       "<tr>\n",
       "  <th>Method:</th>               <td>Least Squares</td>     <th>  F-statistic:       </th> <td>   145.4</td> \n",
       "</tr>\n",
       "<tr>\n",
       "  <th>Date:</th>               <td>Wed, 03 Feb 2021</td>    <th>  Prob (F-statistic):</th>  <td>  0.00</td>  \n",
       "</tr>\n",
       "<tr>\n",
       "  <th>Time:</th>                   <td>10:48:02</td>        <th>  Log-Likelihood:    </th> <td> -46322.</td> \n",
       "</tr>\n",
       "<tr>\n",
       "  <th>No. Observations:</th>        <td> 13579</td>         <th>  AIC:               </th> <td>9.275e+04</td>\n",
       "</tr>\n",
       "<tr>\n",
       "  <th>Df Residuals:</th>            <td> 13526</td>         <th>  BIC:               </th> <td>9.315e+04</td>\n",
       "</tr>\n",
       "<tr>\n",
       "  <th>Df Model:</th>                <td>    52</td>         <th>                     </th>     <td> </td>    \n",
       "</tr>\n",
       "<tr>\n",
       "  <th>Covariance Type:</th>        <td>nonrobust</td>       <th>                     </th>     <td> </td>    \n",
       "</tr>\n",
       "</table>\n",
       "<table class=\"simpletable\">\n",
       "<tr>\n",
       "                       <td></td>                         <th>coef</th>     <th>std err</th>      <th>t</th>      <th>P>|t|</th>  <th>[0.025</th>    <th>0.975]</th>  \n",
       "</tr>\n",
       "<tr>\n",
       "  <th>const</th>                                      <td>   66.8586</td> <td>    0.063</td> <td> 1060.380</td> <td> 0.000</td> <td>   66.735</td> <td>   66.982</td>\n",
       "</tr>\n",
       "<tr>\n",
       "  <th>primary_cleaner.input.sulfate</th>              <td>    1.4266</td> <td>    0.127</td> <td>   11.205</td> <td> 0.000</td> <td>    1.177</td> <td>    1.676</td>\n",
       "</tr>\n",
       "<tr>\n",
       "  <th>primary_cleaner.input.depressant</th>           <td>   -0.2852</td> <td>    0.100</td> <td>   -2.839</td> <td> 0.005</td> <td>   -0.482</td> <td>   -0.088</td>\n",
       "</tr>\n",
       "<tr>\n",
       "  <th>primary_cleaner.input.feed_size</th>            <td>    0.4383</td> <td>    0.077</td> <td>    5.665</td> <td> 0.000</td> <td>    0.287</td> <td>    0.590</td>\n",
       "</tr>\n",
       "<tr>\n",
       "  <th>primary_cleaner.input.xanthate</th>             <td>    0.1670</td> <td>    0.086</td> <td>    1.942</td> <td> 0.052</td> <td>   -0.002</td> <td>    0.336</td>\n",
       "</tr>\n",
       "<tr>\n",
       "  <th>primary_cleaner.state.floatbank8_a_air</th>     <td>    0.0872</td> <td>    0.241</td> <td>    0.362</td> <td> 0.717</td> <td>   -0.385</td> <td>    0.560</td>\n",
       "</tr>\n",
       "<tr>\n",
       "  <th>primary_cleaner.state.floatbank8_a_level</th>   <td>   -0.5462</td> <td>    0.303</td> <td>   -1.805</td> <td> 0.071</td> <td>   -1.139</td> <td>    0.047</td>\n",
       "</tr>\n",
       "<tr>\n",
       "  <th>primary_cleaner.state.floatbank8_b_air</th>     <td>    0.4627</td> <td>    0.255</td> <td>    1.815</td> <td> 0.070</td> <td>   -0.037</td> <td>    0.962</td>\n",
       "</tr>\n",
       "<tr>\n",
       "  <th>primary_cleaner.state.floatbank8_b_level</th>   <td>    2.8445</td> <td>    0.253</td> <td>   11.262</td> <td> 0.000</td> <td>    2.349</td> <td>    3.340</td>\n",
       "</tr>\n",
       "<tr>\n",
       "  <th>primary_cleaner.state.floatbank8_c_air</th>     <td>   -0.6951</td> <td>    0.237</td> <td>   -2.936</td> <td> 0.003</td> <td>   -1.159</td> <td>   -0.231</td>\n",
       "</tr>\n",
       "<tr>\n",
       "  <th>primary_cleaner.state.floatbank8_c_level</th>   <td>   -1.4789</td> <td>    0.250</td> <td>   -5.913</td> <td> 0.000</td> <td>   -1.969</td> <td>   -0.989</td>\n",
       "</tr>\n",
       "<tr>\n",
       "  <th>primary_cleaner.state.floatbank8_d_air</th>     <td>   -0.1118</td> <td>    0.092</td> <td>   -1.216</td> <td> 0.224</td> <td>   -0.292</td> <td>    0.068</td>\n",
       "</tr>\n",
       "<tr>\n",
       "  <th>primary_cleaner.state.floatbank8_d_level</th>   <td>   -0.8598</td> <td>    0.096</td> <td>   -8.917</td> <td> 0.000</td> <td>   -1.049</td> <td>   -0.671</td>\n",
       "</tr>\n",
       "<tr>\n",
       "  <th>rougher.input.feed_ag</th>                      <td>   -0.3268</td> <td>    0.145</td> <td>   -2.259</td> <td> 0.024</td> <td>   -0.610</td> <td>   -0.043</td>\n",
       "</tr>\n",
       "<tr>\n",
       "  <th>rougher.input.feed_pb</th>                      <td>   -1.1533</td> <td>    0.124</td> <td>   -9.264</td> <td> 0.000</td> <td>   -1.397</td> <td>   -0.909</td>\n",
       "</tr>\n",
       "<tr>\n",
       "  <th>rougher.input.feed_rate</th>                    <td>   -0.2168</td> <td>    0.136</td> <td>   -1.595</td> <td> 0.111</td> <td>   -0.483</td> <td>    0.050</td>\n",
       "</tr>\n",
       "<tr>\n",
       "  <th>rougher.input.feed_size</th>                    <td>    0.3815</td> <td>    0.089</td> <td>    4.304</td> <td> 0.000</td> <td>    0.208</td> <td>    0.555</td>\n",
       "</tr>\n",
       "<tr>\n",
       "  <th>rougher.input.feed_sol</th>                     <td>    1.0635</td> <td>    0.093</td> <td>   11.460</td> <td> 0.000</td> <td>    0.882</td> <td>    1.245</td>\n",
       "</tr>\n",
       "<tr>\n",
       "  <th>rougher.input.feed_au</th>                      <td>    3.9244</td> <td>    0.188</td> <td>   20.834</td> <td> 0.000</td> <td>    3.555</td> <td>    4.294</td>\n",
       "</tr>\n",
       "<tr>\n",
       "  <th>rougher.input.floatbank10_sulfate</th>          <td>   -1.9701</td> <td>    0.248</td> <td>   -7.948</td> <td> 0.000</td> <td>   -2.456</td> <td>   -1.484</td>\n",
       "</tr>\n",
       "<tr>\n",
       "  <th>rougher.input.floatbank10_xanthate</th>         <td>    2.2698</td> <td>    0.225</td> <td>   10.073</td> <td> 0.000</td> <td>    1.828</td> <td>    2.712</td>\n",
       "</tr>\n",
       "<tr>\n",
       "  <th>rougher.input.floatbank11_sulfate</th>          <td>    0.4577</td> <td>    0.274</td> <td>    1.670</td> <td> 0.095</td> <td>   -0.079</td> <td>    0.995</td>\n",
       "</tr>\n",
       "<tr>\n",
       "  <th>rougher.input.floatbank11_xanthate</th>         <td>   -0.2524</td> <td>    0.279</td> <td>   -0.906</td> <td> 0.365</td> <td>   -0.799</td> <td>    0.294</td>\n",
       "</tr>\n",
       "<tr>\n",
       "  <th>rougher.state.floatbank10_a_air</th>            <td>   -0.8299</td> <td>    0.119</td> <td>   -6.997</td> <td> 0.000</td> <td>   -1.062</td> <td>   -0.597</td>\n",
       "</tr>\n",
       "<tr>\n",
       "  <th>rougher.state.floatbank10_a_level</th>          <td>    0.4436</td> <td>    0.148</td> <td>    3.000</td> <td> 0.003</td> <td>    0.154</td> <td>    0.733</td>\n",
       "</tr>\n",
       "<tr>\n",
       "  <th>rougher.state.floatbank10_b_air</th>            <td>   -0.3328</td> <td>    0.248</td> <td>   -1.341</td> <td> 0.180</td> <td>   -0.819</td> <td>    0.154</td>\n",
       "</tr>\n",
       "<tr>\n",
       "  <th>rougher.state.floatbank10_b_level</th>          <td>    2.9596</td> <td>    0.451</td> <td>    6.562</td> <td> 0.000</td> <td>    2.076</td> <td>    3.844</td>\n",
       "</tr>\n",
       "<tr>\n",
       "  <th>rougher.state.floatbank10_c_air</th>            <td>   -0.7165</td> <td>    0.208</td> <td>   -3.439</td> <td> 0.001</td> <td>   -1.125</td> <td>   -0.308</td>\n",
       "</tr>\n",
       "<tr>\n",
       "  <th>rougher.state.floatbank10_c_level</th>          <td>   -0.4623</td> <td>    0.651</td> <td>   -0.710</td> <td> 0.478</td> <td>   -1.739</td> <td>    0.814</td>\n",
       "</tr>\n",
       "<tr>\n",
       "  <th>rougher.state.floatbank10_d_air</th>            <td>   -0.7887</td> <td>    0.287</td> <td>   -2.748</td> <td> 0.006</td> <td>   -1.351</td> <td>   -0.226</td>\n",
       "</tr>\n",
       "<tr>\n",
       "  <th>rougher.state.floatbank10_d_level</th>          <td>   -0.5608</td> <td>    0.444</td> <td>   -1.264</td> <td> 0.206</td> <td>   -1.431</td> <td>    0.309</td>\n",
       "</tr>\n",
       "<tr>\n",
       "  <th>rougher.state.floatbank10_e_air</th>            <td>   -2.2495</td> <td>    0.237</td> <td>   -9.510</td> <td> 0.000</td> <td>   -2.713</td> <td>   -1.786</td>\n",
       "</tr>\n",
       "<tr>\n",
       "  <th>rougher.state.floatbank10_e_level</th>          <td>   -2.4549</td> <td>    0.521</td> <td>   -4.709</td> <td> 0.000</td> <td>   -3.477</td> <td>   -1.433</td>\n",
       "</tr>\n",
       "<tr>\n",
       "  <th>rougher.state.floatbank10_f_air</th>            <td>    3.4139</td> <td>    0.240</td> <td>   14.217</td> <td> 0.000</td> <td>    2.943</td> <td>    3.885</td>\n",
       "</tr>\n",
       "<tr>\n",
       "  <th>rougher.state.floatbank10_f_level</th>          <td>    1.4769</td> <td>    0.448</td> <td>    3.296</td> <td> 0.001</td> <td>    0.598</td> <td>    2.355</td>\n",
       "</tr>\n",
       "<tr>\n",
       "  <th>secondary_cleaner.state.floatbank2_a_air</th>   <td>    2.9577</td> <td>    0.216</td> <td>   13.713</td> <td> 0.000</td> <td>    2.535</td> <td>    3.380</td>\n",
       "</tr>\n",
       "<tr>\n",
       "  <th>secondary_cleaner.state.floatbank2_a_level</th> <td>   -0.1837</td> <td>    0.156</td> <td>   -1.177</td> <td> 0.239</td> <td>   -0.490</td> <td>    0.122</td>\n",
       "</tr>\n",
       "<tr>\n",
       "  <th>secondary_cleaner.state.floatbank2_b_air</th>   <td>   -1.6678</td> <td>    0.235</td> <td>   -7.083</td> <td> 0.000</td> <td>   -2.129</td> <td>   -1.206</td>\n",
       "</tr>\n",
       "<tr>\n",
       "  <th>secondary_cleaner.state.floatbank2_b_level</th> <td>   -0.8388</td> <td>    0.161</td> <td>   -5.198</td> <td> 0.000</td> <td>   -1.155</td> <td>   -0.523</td>\n",
       "</tr>\n",
       "<tr>\n",
       "  <th>secondary_cleaner.state.floatbank3_a_air</th>   <td>    1.3515</td> <td>    0.147</td> <td>    9.182</td> <td> 0.000</td> <td>    1.063</td> <td>    1.640</td>\n",
       "</tr>\n",
       "<tr>\n",
       "  <th>secondary_cleaner.state.floatbank3_a_level</th> <td>   -0.4689</td> <td>    0.146</td> <td>   -3.207</td> <td> 0.001</td> <td>   -0.756</td> <td>   -0.182</td>\n",
       "</tr>\n",
       "<tr>\n",
       "  <th>secondary_cleaner.state.floatbank3_b_air</th>   <td>   -0.0766</td> <td>    0.131</td> <td>   -0.584</td> <td> 0.559</td> <td>   -0.334</td> <td>    0.180</td>\n",
       "</tr>\n",
       "<tr>\n",
       "  <th>secondary_cleaner.state.floatbank3_b_level</th> <td>    0.2636</td> <td>    0.129</td> <td>    2.048</td> <td> 0.041</td> <td>    0.011</td> <td>    0.516</td>\n",
       "</tr>\n",
       "<tr>\n",
       "  <th>secondary_cleaner.state.floatbank4_a_air</th>   <td>   -0.8654</td> <td>    0.225</td> <td>   -3.842</td> <td> 0.000</td> <td>   -1.307</td> <td>   -0.424</td>\n",
       "</tr>\n",
       "<tr>\n",
       "  <th>secondary_cleaner.state.floatbank4_a_level</th> <td>   -0.0596</td> <td>    0.184</td> <td>   -0.324</td> <td> 0.746</td> <td>   -0.420</td> <td>    0.301</td>\n",
       "</tr>\n",
       "<tr>\n",
       "  <th>secondary_cleaner.state.floatbank4_b_air</th>   <td>    0.5910</td> <td>    0.278</td> <td>    2.122</td> <td> 0.034</td> <td>    0.045</td> <td>    1.137</td>\n",
       "</tr>\n",
       "<tr>\n",
       "  <th>secondary_cleaner.state.floatbank4_b_level</th> <td>    0.1824</td> <td>    0.153</td> <td>    1.195</td> <td> 0.232</td> <td>   -0.117</td> <td>    0.482</td>\n",
       "</tr>\n",
       "<tr>\n",
       "  <th>secondary_cleaner.state.floatbank5_a_air</th>   <td>    1.5525</td> <td>    0.178</td> <td>    8.738</td> <td> 0.000</td> <td>    1.204</td> <td>    1.901</td>\n",
       "</tr>\n",
       "<tr>\n",
       "  <th>secondary_cleaner.state.floatbank5_a_level</th> <td>    0.0052</td> <td>    0.175</td> <td>    0.029</td> <td> 0.977</td> <td>   -0.338</td> <td>    0.348</td>\n",
       "</tr>\n",
       "<tr>\n",
       "  <th>secondary_cleaner.state.floatbank5_b_air</th>   <td>   -1.5848</td> <td>    0.236</td> <td>   -6.717</td> <td> 0.000</td> <td>   -2.047</td> <td>   -1.122</td>\n",
       "</tr>\n",
       "<tr>\n",
       "  <th>secondary_cleaner.state.floatbank5_b_level</th> <td>    0.8182</td> <td>    0.149</td> <td>    5.491</td> <td> 0.000</td> <td>    0.526</td> <td>    1.110</td>\n",
       "</tr>\n",
       "<tr>\n",
       "  <th>secondary_cleaner.state.floatbank6_a_air</th>   <td>   -0.2194</td> <td>    0.142</td> <td>   -1.545</td> <td> 0.122</td> <td>   -0.498</td> <td>    0.059</td>\n",
       "</tr>\n",
       "<tr>\n",
       "  <th>secondary_cleaner.state.floatbank6_a_level</th> <td>   -0.3761</td> <td>    0.087</td> <td>   -4.322</td> <td> 0.000</td> <td>   -0.547</td> <td>   -0.206</td>\n",
       "</tr>\n",
       "</table>\n",
       "<table class=\"simpletable\">\n",
       "<tr>\n",
       "  <th>Omnibus:</th>       <td>2572.153</td> <th>  Durbin-Watson:     </th> <td>   1.998</td> \n",
       "</tr>\n",
       "<tr>\n",
       "  <th>Prob(Omnibus):</th>  <td> 0.000</td>  <th>  Jarque-Bera (JB):  </th> <td>24299.466</td>\n",
       "</tr>\n",
       "<tr>\n",
       "  <th>Skew:</th>           <td>-0.637</td>  <th>  Prob(JB):          </th> <td>    0.00</td> \n",
       "</tr>\n",
       "<tr>\n",
       "  <th>Kurtosis:</th>       <td> 9.428</td>  <th>  Cond. No.          </th> <td>    40.9</td> \n",
       "</tr>\n",
       "</table><br/><br/>Warnings:<br/>[1] Standard Errors assume that the covariance matrix of the errors is correctly specified."
      ],
      "text/plain": [
       "<class 'statsmodels.iolib.summary.Summary'>\n",
       "\"\"\"\n",
       "                              OLS Regression Results                             \n",
       "=================================================================================\n",
       "Dep. Variable:     final.output.recovery   R-squared:                       0.359\n",
       "Model:                               OLS   Adj. R-squared:                  0.356\n",
       "Method:                    Least Squares   F-statistic:                     145.4\n",
       "Date:                   Wed, 03 Feb 2021   Prob (F-statistic):               0.00\n",
       "Time:                           10:48:02   Log-Likelihood:                -46322.\n",
       "No. Observations:                  13579   AIC:                         9.275e+04\n",
       "Df Residuals:                      13526   BIC:                         9.315e+04\n",
       "Df Model:                             52                                         \n",
       "Covariance Type:               nonrobust                                         \n",
       "==============================================================================================================\n",
       "                                                 coef    std err          t      P>|t|      [0.025      0.975]\n",
       "--------------------------------------------------------------------------------------------------------------\n",
       "const                                         66.8586      0.063   1060.380      0.000      66.735      66.982\n",
       "primary_cleaner.input.sulfate                  1.4266      0.127     11.205      0.000       1.177       1.676\n",
       "primary_cleaner.input.depressant              -0.2852      0.100     -2.839      0.005      -0.482      -0.088\n",
       "primary_cleaner.input.feed_size                0.4383      0.077      5.665      0.000       0.287       0.590\n",
       "primary_cleaner.input.xanthate                 0.1670      0.086      1.942      0.052      -0.002       0.336\n",
       "primary_cleaner.state.floatbank8_a_air         0.0872      0.241      0.362      0.717      -0.385       0.560\n",
       "primary_cleaner.state.floatbank8_a_level      -0.5462      0.303     -1.805      0.071      -1.139       0.047\n",
       "primary_cleaner.state.floatbank8_b_air         0.4627      0.255      1.815      0.070      -0.037       0.962\n",
       "primary_cleaner.state.floatbank8_b_level       2.8445      0.253     11.262      0.000       2.349       3.340\n",
       "primary_cleaner.state.floatbank8_c_air        -0.6951      0.237     -2.936      0.003      -1.159      -0.231\n",
       "primary_cleaner.state.floatbank8_c_level      -1.4789      0.250     -5.913      0.000      -1.969      -0.989\n",
       "primary_cleaner.state.floatbank8_d_air        -0.1118      0.092     -1.216      0.224      -0.292       0.068\n",
       "primary_cleaner.state.floatbank8_d_level      -0.8598      0.096     -8.917      0.000      -1.049      -0.671\n",
       "rougher.input.feed_ag                         -0.3268      0.145     -2.259      0.024      -0.610      -0.043\n",
       "rougher.input.feed_pb                         -1.1533      0.124     -9.264      0.000      -1.397      -0.909\n",
       "rougher.input.feed_rate                       -0.2168      0.136     -1.595      0.111      -0.483       0.050\n",
       "rougher.input.feed_size                        0.3815      0.089      4.304      0.000       0.208       0.555\n",
       "rougher.input.feed_sol                         1.0635      0.093     11.460      0.000       0.882       1.245\n",
       "rougher.input.feed_au                          3.9244      0.188     20.834      0.000       3.555       4.294\n",
       "rougher.input.floatbank10_sulfate             -1.9701      0.248     -7.948      0.000      -2.456      -1.484\n",
       "rougher.input.floatbank10_xanthate             2.2698      0.225     10.073      0.000       1.828       2.712\n",
       "rougher.input.floatbank11_sulfate              0.4577      0.274      1.670      0.095      -0.079       0.995\n",
       "rougher.input.floatbank11_xanthate            -0.2524      0.279     -0.906      0.365      -0.799       0.294\n",
       "rougher.state.floatbank10_a_air               -0.8299      0.119     -6.997      0.000      -1.062      -0.597\n",
       "rougher.state.floatbank10_a_level              0.4436      0.148      3.000      0.003       0.154       0.733\n",
       "rougher.state.floatbank10_b_air               -0.3328      0.248     -1.341      0.180      -0.819       0.154\n",
       "rougher.state.floatbank10_b_level              2.9596      0.451      6.562      0.000       2.076       3.844\n",
       "rougher.state.floatbank10_c_air               -0.7165      0.208     -3.439      0.001      -1.125      -0.308\n",
       "rougher.state.floatbank10_c_level             -0.4623      0.651     -0.710      0.478      -1.739       0.814\n",
       "rougher.state.floatbank10_d_air               -0.7887      0.287     -2.748      0.006      -1.351      -0.226\n",
       "rougher.state.floatbank10_d_level             -0.5608      0.444     -1.264      0.206      -1.431       0.309\n",
       "rougher.state.floatbank10_e_air               -2.2495      0.237     -9.510      0.000      -2.713      -1.786\n",
       "rougher.state.floatbank10_e_level             -2.4549      0.521     -4.709      0.000      -3.477      -1.433\n",
       "rougher.state.floatbank10_f_air                3.4139      0.240     14.217      0.000       2.943       3.885\n",
       "rougher.state.floatbank10_f_level              1.4769      0.448      3.296      0.001       0.598       2.355\n",
       "secondary_cleaner.state.floatbank2_a_air       2.9577      0.216     13.713      0.000       2.535       3.380\n",
       "secondary_cleaner.state.floatbank2_a_level    -0.1837      0.156     -1.177      0.239      -0.490       0.122\n",
       "secondary_cleaner.state.floatbank2_b_air      -1.6678      0.235     -7.083      0.000      -2.129      -1.206\n",
       "secondary_cleaner.state.floatbank2_b_level    -0.8388      0.161     -5.198      0.000      -1.155      -0.523\n",
       "secondary_cleaner.state.floatbank3_a_air       1.3515      0.147      9.182      0.000       1.063       1.640\n",
       "secondary_cleaner.state.floatbank3_a_level    -0.4689      0.146     -3.207      0.001      -0.756      -0.182\n",
       "secondary_cleaner.state.floatbank3_b_air      -0.0766      0.131     -0.584      0.559      -0.334       0.180\n",
       "secondary_cleaner.state.floatbank3_b_level     0.2636      0.129      2.048      0.041       0.011       0.516\n",
       "secondary_cleaner.state.floatbank4_a_air      -0.8654      0.225     -3.842      0.000      -1.307      -0.424\n",
       "secondary_cleaner.state.floatbank4_a_level    -0.0596      0.184     -0.324      0.746      -0.420       0.301\n",
       "secondary_cleaner.state.floatbank4_b_air       0.5910      0.278      2.122      0.034       0.045       1.137\n",
       "secondary_cleaner.state.floatbank4_b_level     0.1824      0.153      1.195      0.232      -0.117       0.482\n",
       "secondary_cleaner.state.floatbank5_a_air       1.5525      0.178      8.738      0.000       1.204       1.901\n",
       "secondary_cleaner.state.floatbank5_a_level     0.0052      0.175      0.029      0.977      -0.338       0.348\n",
       "secondary_cleaner.state.floatbank5_b_air      -1.5848      0.236     -6.717      0.000      -2.047      -1.122\n",
       "secondary_cleaner.state.floatbank5_b_level     0.8182      0.149      5.491      0.000       0.526       1.110\n",
       "secondary_cleaner.state.floatbank6_a_air      -0.2194      0.142     -1.545      0.122      -0.498       0.059\n",
       "secondary_cleaner.state.floatbank6_a_level    -0.3761      0.087     -4.322      0.000      -0.547      -0.206\n",
       "==============================================================================\n",
       "Omnibus:                     2572.153   Durbin-Watson:                   1.998\n",
       "Prob(Omnibus):                  0.000   Jarque-Bera (JB):            24299.466\n",
       "Skew:                          -0.637   Prob(JB):                         0.00\n",
       "Kurtosis:                       9.428   Cond. No.                         40.9\n",
       "==============================================================================\n",
       "\n",
       "Warnings:\n",
       "[1] Standard Errors assume that the covariance matrix of the errors is correctly specified.\n",
       "\"\"\""
      ]
     },
     "metadata": {},
     "output_type": "display_data"
    }
   ],
   "source": [
    "Y2 = target_final_train\n",
    "X = features_train\n",
    "X = sm.add_constant(X)\n",
    "\n",
    "pre_model_final = sm.OLS(Y2, X)\n",
    "results4 = pre_model_final.fit()\n",
    "display(results4.summary())"
   ]
  },
  {
   "cell_type": "code",
   "execution_count": 43,
   "metadata": {},
   "outputs": [
    {
     "data": {
      "text/plain": [
       "const                                         0.000\n",
       "rougher.input.floatbank10_sulfate             0.000\n",
       "rougher.input.floatbank10_xanthate            0.000\n",
       "rougher.state.floatbank10_a_air               0.000\n",
       "rougher.state.floatbank10_e_air               0.000\n",
       "rougher.state.floatbank10_e_level             0.000\n",
       "rougher.state.floatbank10_f_air               0.000\n",
       "rougher.input.feed_au                         0.000\n",
       "secondary_cleaner.state.floatbank2_a_air      0.000\n",
       "secondary_cleaner.state.floatbank2_b_level    0.000\n",
       "secondary_cleaner.state.floatbank3_a_air      0.000\n",
       "secondary_cleaner.state.floatbank4_a_air      0.000\n",
       "secondary_cleaner.state.floatbank5_a_air      0.000\n",
       "secondary_cleaner.state.floatbank5_b_air      0.000\n",
       "secondary_cleaner.state.floatbank5_b_level    0.000\n",
       "secondary_cleaner.state.floatbank2_b_air      0.000\n",
       "rougher.input.feed_sol                        0.000\n",
       "rougher.state.floatbank10_b_level             0.000\n",
       "primary_cleaner.state.floatbank8_b_level      0.000\n",
       "primary_cleaner.input.sulfate                 0.000\n",
       "primary_cleaner.input.feed_size               0.000\n",
       "rougher.input.feed_size                       0.000\n",
       "primary_cleaner.state.floatbank8_c_level      0.000\n",
       "secondary_cleaner.state.floatbank6_a_level    0.000\n",
       "rougher.input.feed_pb                         0.000\n",
       "primary_cleaner.state.floatbank8_d_level      0.000\n",
       "rougher.state.floatbank10_c_air               0.001\n",
       "rougher.state.floatbank10_f_level             0.001\n",
       "secondary_cleaner.state.floatbank3_a_level    0.001\n",
       "rougher.state.floatbank10_a_level             0.003\n",
       "primary_cleaner.state.floatbank8_c_air        0.003\n",
       "primary_cleaner.input.depressant              0.005\n",
       "rougher.state.floatbank10_d_air               0.006\n",
       "rougher.input.feed_ag                         0.024\n",
       "secondary_cleaner.state.floatbank4_b_air      0.034\n",
       "secondary_cleaner.state.floatbank3_b_level    0.041\n",
       "primary_cleaner.input.xanthate                0.052\n",
       "primary_cleaner.state.floatbank8_b_air        0.070\n",
       "primary_cleaner.state.floatbank8_a_level      0.071\n",
       "rougher.input.floatbank11_sulfate             0.095\n",
       "rougher.input.feed_rate                       0.111\n",
       "secondary_cleaner.state.floatbank6_a_air      0.122\n",
       "rougher.state.floatbank10_b_air               0.180\n",
       "rougher.state.floatbank10_d_level             0.206\n",
       "primary_cleaner.state.floatbank8_d_air        0.224\n",
       "secondary_cleaner.state.floatbank4_b_level    0.232\n",
       "secondary_cleaner.state.floatbank2_a_level    0.239\n",
       "rougher.input.floatbank11_xanthate            0.365\n",
       "rougher.state.floatbank10_c_level             0.478\n",
       "secondary_cleaner.state.floatbank3_b_air      0.559\n",
       "primary_cleaner.state.floatbank8_a_air        0.717\n",
       "secondary_cleaner.state.floatbank4_a_level    0.746\n",
       "secondary_cleaner.state.floatbank5_a_level    0.977\n",
       "dtype: float64"
      ]
     },
     "execution_count": 43,
     "metadata": {},
     "output_type": "execute_result"
    }
   ],
   "source": [
    "pvals4 = results4.pvalues.round(3).sort_values()\n",
    "pvals4"
   ]
  },
  {
   "cell_type": "markdown",
   "metadata": {},
   "source": [
    "Также найдем пороговое значение p.v., минимизируюзее критерий AIC. Выбранные переменные сохраним в списке `final_features`."
   ]
  },
  {
   "cell_type": "code",
   "execution_count": 44,
   "metadata": {},
   "outputs": [
    {
     "name": "stderr",
     "output_type": "stream",
     "text": [
      "100%|██████████| 20/20 [00:09<00:00,  2.14it/s]"
     ]
    },
    {
     "name": "stdout",
     "output_type": "stream",
     "text": [
      "23 92739.94203416797\n"
     ]
    },
    {
     "name": "stderr",
     "output_type": "stream",
     "text": [
      "\n"
     ]
    }
   ],
   "source": [
    "final_features = []\n",
    "best_aic_2 = 1_000_000\n",
    "best_i_2 = 0\n",
    "for i in tqdm(range(10, 30)):\n",
    "    \n",
    "    selected_features = pvals[pvals4<(i/100)].index.tolist()\n",
    "    selected_features.remove('const')\n",
    "    \n",
    "    Y = target_final_train\n",
    "    X = features_train[selected_features]\n",
    "    X = sm.add_constant(X)\n",
    "\n",
    "    model_final = sm.OLS(Y, X)\n",
    "    results = model_final.fit()\n",
    "    \n",
    "    if results.aic <= best_aic_2:\n",
    "        best_i_2 = i\n",
    "        best_aic_2 = results.aic\n",
    "        final_features = selected_features\n",
    "       \n",
    "print(best_i_2, best_aic_2)"
   ]
  },
  {
   "cell_type": "markdown",
   "metadata": {},
   "source": [
    "### Вывод по шагу 2\n",
    "\n",
    "На шаге 2 была изучена концентрация металлов в сырье на различных стадиях обработки, были изучены распределения гранул сырья. Данные всех выборок были очищены от наблюдений с экстремальными значениями суммарной концентрации металлов и размеров гранул сырья. Также были построены предварительные модели регрессии, на основе которых были выделены статистически значимые признаки для использования в последующих моделях."
   ]
  },
  {
   "cell_type": "markdown",
   "metadata": {},
   "source": [
    "## 3. Модель <a id=\"3\"></a>"
   ]
  },
  {
   "cell_type": "markdown",
   "metadata": {},
   "source": [
    "Определим функцию для расчёта метрики sMAPE."
   ]
  },
  {
   "cell_type": "code",
   "execution_count": 45,
   "metadata": {},
   "outputs": [],
   "source": [
    "def sMAPE(target, predictions):\n",
    "    error = 0\n",
    "    target_reset = target.reset_index(drop=True)\n",
    "    for i in range(target.shape[0]):\n",
    "        error += abs(target_reset[i]-predictions[i])/((abs(target_reset[i]+abs(predictions[i])))/2)\n",
    "    return error/target.shape[0]*100"
   ]
  },
  {
   "cell_type": "code",
   "execution_count": 46,
   "metadata": {},
   "outputs": [],
   "source": [
    "def final_sMAPE(rougher, final):\n",
    "    return 0.25 * rougher + 0.75 * final"
   ]
  },
  {
   "cell_type": "code",
   "execution_count": 47,
   "metadata": {},
   "outputs": [],
   "source": [
    "def cross_validate(features, target, model):\n",
    "\n",
    "    sample_size = int(len(features)/3)\n",
    "\n",
    "    smapes = []\n",
    "\n",
    "    for i in range(0, (len(features)-1), sample_size):\n",
    "        valid_indexes = list(range(i, i + sample_size))\n",
    "        train_indexes = list(range(0, i)) + list(range(valid_indexes[-1], (len(features)-1)))\n",
    "    \n",
    "        features_train = features.loc[train_indexes]\n",
    "        target_train = target.loc[train_indexes]\n",
    "        features_valid = features.loc[valid_indexes]\n",
    "        target_valid = target.loc[valid_indexes]\n",
    "    \n",
    "        model0 = model.fit(features_train, target_train)\n",
    "        predictions_valid = model0.predict(features_valid)\n",
    "    \n",
    "        smape = sMAPE(target_valid, predictions_valid)\n",
    "        smapes.append(smape)\n",
    "    \n",
    "    mean_smape = pd.Series(smapes).mean()\n",
    "\n",
    "    return mean_smape"
   ]
  },
  {
   "cell_type": "markdown",
   "metadata": {},
   "source": [
    "Построим две модели регрессии для каждого целевого признака. Проверим качество моделей с помощью кросс-валидации (5 блоков) на основе метрики sMAPE:"
   ]
  },
  {
   "cell_type": "code",
   "execution_count": 48,
   "metadata": {},
   "outputs": [
    {
     "name": "stdout",
     "output_type": "stream",
     "text": [
      "Среднее значение sMAPE(rougher): 4.559\n",
      "Среднее значение sMAPE(final): 7.975\n",
      "Итоговое sMAPE: 7.121\n"
     ]
    }
   ],
   "source": [
    "state = np.random.RandomState(12345)\n",
    "\n",
    "model = LinearRegression()\n",
    "\n",
    "smape_rougher = cross_validate(features_train[rougher_features], target_rougher_train, model)\n",
    "smape_final = cross_validate(features_train[final_features], target_final_train, model)\n",
    "final_smape = final_sMAPE(smape_rougher, smape_final)\n",
    "\n",
    "print('Среднее значение sMAPE(rougher):', smape_rougher.round(3))\n",
    "print('Среднее значение sMAPE(final):', smape_final.round(3))\n",
    "print('Итоговое sMAPE:', final_smape.round(3))"
   ]
  },
  {
   "cell_type": "markdown",
   "metadata": {},
   "source": [
    "Убедимся, что удаление избыточных переменных, идентифицированных на шаге 2, улучшило метрики качества. Для этого построим модели без удаления избыточных признаков:"
   ]
  },
  {
   "cell_type": "code",
   "execution_count": 49,
   "metadata": {},
   "outputs": [
    {
     "name": "stdout",
     "output_type": "stream",
     "text": [
      "Среднее значение sMAPE(rougher): 4.56\n",
      "Среднее значение sMAPE(final): 7.979\n",
      "Итоговое sMAPE: 7.124\n"
     ]
    }
   ],
   "source": [
    "smape_rougher = cross_validate(features_train, target_rougher_train, model)\n",
    "smape_final = cross_validate(features_train, target_final_train, model)\n",
    "final_smape = final_sMAPE(smape_rougher, smape_final)\n",
    "\n",
    "print('Среднее значение sMAPE(rougher):', smape_rougher.round(3))\n",
    "print('Среднее значение sMAPE(final):', smape_final.round(3))\n",
    "print('Итоговое sMAPE:', final_smape.round(3))"
   ]
  },
  {
   "cell_type": "markdown",
   "metadata": {},
   "source": [
    "Метрики качества действительно немного лучше у моделей с удалёнными избыточными признаками.\n",
    "\n",
    "Перейдем к построению моделей случайного леса. Подберем максимальную глубину, минимизирующую целевую метрику sMAPE для первого целевого признака. Метрика рассчитывается с помощью кросс-валидации (5 блоков)."
   ]
  },
  {
   "cell_type": "code",
   "execution_count": 50,
   "metadata": {
    "scrolled": true
   },
   "outputs": [
    {
     "name": "stderr",
     "output_type": "stream",
     "text": [
      "100%|██████████| 10/10 [04:59<00:00, 29.95s/it]"
     ]
    },
    {
     "name": "stdout",
     "output_type": "stream",
     "text": [
      "Наилучшая глубина: 26\n",
      "Наилучшее среднее значение sMAPE(rougher): 2.694\n"
     ]
    },
    {
     "name": "stderr",
     "output_type": "stream",
     "text": [
      "\n"
     ]
    }
   ],
   "source": [
    "smape_best_rougher = 100\n",
    "best_model_rougher = None\n",
    "best_depth_rougher = 0\n",
    "\n",
    "for depth in tqdm(range(20, 30, 1)):\n",
    "    \n",
    "    model = RandomForestRegressor(n_estimators=20, max_depth=depth, random_state=12345)\n",
    "    smape_rougher = cross_validate(features_train[rougher_features], target_rougher_train, model)\n",
    "    \n",
    "    if smape_rougher < smape_best_rougher:\n",
    "        smape_best_rougher = smape_rougher\n",
    "        best_depth_rougher = depth\n",
    "        \n",
    "print('Наилучшая глубина:', best_depth_rougher)\n",
    "print('Наилучшее среднее значение sMAPE(rougher):', smape_best_rougher.round(3))"
   ]
  },
  {
   "cell_type": "markdown",
   "metadata": {},
   "source": [
    "Аналогично подберем максимальную глубину для второго целевого признака:"
   ]
  },
  {
   "cell_type": "code",
   "execution_count": 51,
   "metadata": {},
   "outputs": [
    {
     "name": "stderr",
     "output_type": "stream",
     "text": [
      "100%|██████████| 10/10 [04:32<00:00, 27.22s/it]"
     ]
    },
    {
     "name": "stdout",
     "output_type": "stream",
     "text": [
      "Наилучшая глубина: 27\n",
      "Наилучшее среднее значение sMAPE(rougher): 5.93\n"
     ]
    },
    {
     "name": "stderr",
     "output_type": "stream",
     "text": [
      "\n"
     ]
    }
   ],
   "source": [
    "smape_best_final = 100\n",
    "#best_model_final = None\n",
    "best_depth_final = 0\n",
    "\n",
    "for depth in tqdm(range(20, 30, 1)):\n",
    "    \n",
    "    model = RandomForestRegressor(n_estimators=20, max_depth=depth, random_state=12345)\n",
    "    smape_final = cross_validate(features_train[final_features], target_final_train, model)\n",
    "    \n",
    "    if smape_final < smape_best_final:\n",
    "        smape_best_final = smape_final\n",
    "        best_depth_final = depth\n",
    "        \n",
    "print('Наилучшая глубина:', best_depth_final)\n",
    "print('Наилучшее среднее значение sMAPE(rougher):', smape_best_final.round(3))"
   ]
  },
  {
   "cell_type": "markdown",
   "metadata": {},
   "source": [
    "Используя найденные значения максимальной глубины, построим модели с увеличенным числом деревьев. Убедимся, что значения sMAPE улучшились, рассчитаем итоговое значение sMAPE. Для оценки качества по-прежнему используется кросс-валидация с 5 блоками."
   ]
  },
  {
   "cell_type": "code",
   "execution_count": 52,
   "metadata": {},
   "outputs": [
    {
     "name": "stdout",
     "output_type": "stream",
     "text": [
      "Среднее значение sMAPE(rougher): 2.606\n",
      "Среднее значение sMAPE(final): 5.803\n",
      "Итоговое sMAPE: 5.004\n"
     ]
    }
   ],
   "source": [
    "model1 = RandomForestRegressor(n_estimators=60, max_depth=26, random_state=12345)\n",
    "model2 = RandomForestRegressor(n_estimators=60, max_depth=27, random_state=12345)\n",
    "\n",
    "smape_rougher = cross_validate(features_train[rougher_features], target_rougher_train, model1)\n",
    "smape_final = cross_validate(features_train[final_features], target_final_train, model2)\n",
    "final_smape = final_sMAPE(smape_rougher, smape_final)\n",
    "\n",
    "print('Среднее значение sMAPE(rougher):', smape_rougher.round(3))\n",
    "print('Среднее значение sMAPE(final):', smape_final.round(3))\n",
    "print('Итоговое sMAPE:', final_smape.round(3))"
   ]
  },
  {
   "cell_type": "markdown",
   "metadata": {},
   "source": [
    "Проверим качество моделей на тестовой выборке."
   ]
  },
  {
   "cell_type": "code",
   "execution_count": 53,
   "metadata": {},
   "outputs": [
    {
     "name": "stdout",
     "output_type": "stream",
     "text": [
      "sMAPE(rougher): 4.234\n",
      "sMAPE(final): 8.148\n",
      "Итоговое sMAPE на тестовой выборке: 7.169\n"
     ]
    }
   ],
   "source": [
    "model = RandomForestRegressor(n_estimators=60, max_depth=26, random_state=12345)\n",
    "model_rougher_test = model.fit(features_train[rougher_features], target_rougher_train)\n",
    "predictions_rougher_test = model_rougher_test.predict(features_test[rougher_features])\n",
    "    \n",
    "smape_rougher = sMAPE(target_rougher_test, predictions_rougher_test)\n",
    "\n",
    "model = RandomForestRegressor(n_estimators=60, max_depth=27, random_state=12345)\n",
    "model_final_test = model.fit(features_train[final_features], target_final_train)\n",
    "predictions_final_test = model_final_test.predict(features_test[final_features])\n",
    "    \n",
    "smape_final = sMAPE(target_final_test, predictions_final_test)\n",
    "\n",
    "final_smape_test = 0.25 * smape_rougher + 0.75 * smape_final\n",
    "\n",
    "print('sMAPE(rougher):', smape_rougher.round(3))\n",
    "print('sMAPE(final):', smape_final.round(3))\n",
    "print('Итоговое sMAPE на тестовой выборке:', final_smape_test.round(3))"
   ]
  },
  {
   "cell_type": "markdown",
   "metadata": {},
   "source": [
    "Метрики значительно ухудшились. Проверим модели на адекватность:"
   ]
  },
  {
   "cell_type": "code",
   "execution_count": 54,
   "metadata": {},
   "outputs": [
    {
     "name": "stdout",
     "output_type": "stream",
     "text": [
      "sMAPE(rougher) константной модели 5.192\n",
      "sMAPE(final) константной модели 8.446\n",
      "Итоговое sMAPE константных моделей 7.633\n"
     ]
    }
   ],
   "source": [
    "const_rougher = pd.Series(target_rougher_train.mean(), index=target_rougher_train.index) \n",
    "const_final = pd.Series(target_final_train.mean(), index=target_final_train.index) \n",
    "\n",
    "smape_rougher_const = sMAPE(target_rougher_test, const_rougher)\n",
    "smape_final_const = sMAPE(target_final_test, const_final)\n",
    "final_smape_const = final_sMAPE(smape_rougher_const, smape_final_const)\n",
    "print('sMAPE(rougher) константной модели', smape_rougher_const.round(3))\n",
    "print('sMAPE(final) константной модели', smape_final_const.round(3))\n",
    "print('Итоговое sMAPE константных моделей', final_smape_const.round(3))"
   ]
  },
  {
   "cell_type": "markdown",
   "metadata": {},
   "source": [
    "Обе модели прошли проверку на вменяемость."
   ]
  },
  {
   "cell_type": "markdown",
   "metadata": {},
   "source": [
    "## Общий вывод <a id=\"4\"></a>\n",
    "\n",
    "Таким образом, были изучены данные с параметрами добычи и очистки золотосодержащей руды.\n",
    "\n",
    "Как и предполагалось, было установлено, что концентрация золота растёт на всех этапах обработки. Концентрация свинца также возрастает, но в меньших темпах. Концентрация серебра растет только после флотации, на последующих этапах падает.\n",
    "\n",
    "В данных были обнаружены наблюдения с аномальными значениями концентрации руды (в том числе нулевыми значениями, вероятно появившимися вследствие ошибки оборудования), а также аномальными значениями размеров гранул сырья. Этим наблюдерния были исключены из последующего анализа во всех выборках.\n",
    "\n",
    "С помощью регрессинного анализа и, в частности, информационного критерия Акаике AIC были определены значимые переменные для включения в последующие модели машинного обучения.\n",
    "\n",
    "На основе данных обучающей выборки были построены модели регрессии и случайного леса, качество моделей было проверено кросс-валидацией. Наилучшее значение целевой метрики показали модели случайного леса с максимальной глубиной 26 и 27 для двух целевых признаков соответственно, число деревьев в обеих моделях — 60.\n",
    "\n",
    "При тестировании моделей на тестовой выборке значения метрик ухудшились, тем не менее все модели прошли проверку на адекватность."
   ]
  }
 ],
 "metadata": {
  "kernelspec": {
   "display_name": "Python 3",
   "language": "python",
   "name": "python3"
  },
  "language_info": {
   "codemirror_mode": {
    "name": "ipython",
    "version": 3
   },
   "file_extension": ".py",
   "mimetype": "text/x-python",
   "name": "python",
   "nbconvert_exporter": "python",
   "pygments_lexer": "ipython3",
   "version": "3.8.3"
  },
  "toc": {
   "base_numbering": 1,
   "nav_menu": {},
   "number_sections": true,
   "sideBar": true,
   "skip_h1_title": false,
   "title_cell": "Table of Contents",
   "title_sidebar": "Contents",
   "toc_cell": false,
   "toc_position": {},
   "toc_section_display": true,
   "toc_window_display": false
  },
  "varInspector": {
   "cols": {
    "lenName": 16,
    "lenType": 16,
    "lenVar": 40
   },
   "kernels_config": {
    "python": {
     "delete_cmd_postfix": "",
     "delete_cmd_prefix": "del ",
     "library": "var_list.py",
     "varRefreshCmd": "print(var_dic_list())"
    },
    "r": {
     "delete_cmd_postfix": ") ",
     "delete_cmd_prefix": "rm(",
     "library": "var_list.r",
     "varRefreshCmd": "cat(var_dic_list()) "
    }
   },
   "types_to_exclude": [
    "module",
    "function",
    "builtin_function_or_method",
    "instance",
    "_Feature"
   ],
   "window_display": false
  }
 },
 "nbformat": 4,
 "nbformat_minor": 2
}
